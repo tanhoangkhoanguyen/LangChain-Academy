{
 "cells": [
  {
   "cell_type": "markdown",
   "id": "d9422749",
   "metadata": {},
   "source": [
    "## **State Schema**"
   ]
  },
  {
   "cell_type": "code",
   "execution_count": 12,
   "id": "9ad91376",
   "metadata": {},
   "outputs": [],
   "source": [
    "import warnings\n",
    "warnings.filterwarnings(\"ignore\")\n",
    "\n",
    "from dataclasses import dataclass\n",
    "import random\n",
    "from langgraph.graph import StateGraph, END\n",
    "from IPython.display import display, Image\n",
    "from typing import TypedDict, Literal"
   ]
  },
  {
   "cell_type": "markdown",
   "id": "c2c37821",
   "metadata": {},
   "source": [
    "### **TypedDict**\n",
    "With `Literal[\"happy.\",\"sad.\"]` in the schema, I dont need to pass `\"mood\"` in `graph.invoke()`"
   ]
  },
  {
   "cell_type": "code",
   "execution_count": 72,
   "id": "2cff2f91",
   "metadata": {},
   "outputs": [
    {
     "data": {
      "image/png": "[encoded data removed]",
      "text/plain": [
       "<IPython.core.display.Image object>"
      ]
     },
     "metadata": {},
     "output_type": "display_data"
    }
   ],
   "source": [
    "class State(TypedDict):\n",
    "    name: str\n",
    "    mood: Literal[\"happy.\",\"sad.\"]\n",
    "\n",
    "\n",
    "def node_1(state):\n",
    "    print (\"--- Node 1 ---\")\n",
    "    return {\"name\": state['name'] + \" is \"}\n",
    "\n",
    "def node_2(state):\n",
    "    print (\"--- Node 2 ---\")\n",
    "    return {\"mood\": \"happy.\"}\n",
    "\n",
    "def node_3(state):\n",
    "    print (\"--- Node 3 ---\")\n",
    "    return {\"mood\": \"sad.\"}\n",
    "\n",
    "def moodDecide(state):\n",
    "    return random.choice([\"node_2\", \"node_3\"])\n",
    "\n",
    "\n",
    "builder = StateGraph(State)\n",
    "builder.add_node(\"node_1\", node_1)\n",
    "builder.add_node(\"node_2\", node_2)\n",
    "builder.add_node(\"node_3\", node_3)\n",
    "\n",
    "builder.set_entry_point(\"node_1\")\n",
    "builder.add_conditional_edges(\n",
    "    \"node_1\",\n",
    "    moodDecide,\n",
    "    {\n",
    "        \"node_2\": \"node_2\",\n",
    "        \"node_3\": \"node_3\"\n",
    "    }\n",
    ")\n",
    "builder.add_edge(\"node_2\", END)\n",
    "builder.add_edge(\"node_3\", END)\n",
    "\n",
    "\n",
    "graph = builder.compile()\n",
    "display(Image(graph.get_graph().draw_mermaid_png()))"
   ]
  },
  {
   "cell_type": "code",
   "execution_count": 73,
   "id": "a4287af2",
   "metadata": {},
   "outputs": [
    {
     "name": "stdout",
     "output_type": "stream",
     "text": [
      "--- Node 1 ---\n",
      "--- Node 3 ---\n"
     ]
    },
    {
     "data": {
      "text/plain": [
       "{'name': 'Khoa is ', 'mood': 'sad.'}"
      ]
     },
     "execution_count": 73,
     "metadata": {},
     "output_type": "execute_result"
    }
   ],
   "source": [
    "graph.invoke({\"name\": \"Khoa\"})"
   ]
  },
  {
   "cell_type": "markdown",
   "id": "ceb13457",
   "metadata": {},
   "source": [
    "### **Dataclass**\n",
    "Python's [dataclasses](https://docs.python.org/3/library/dataclasses.html) provide [another way to define structured data](https://www.datacamp.com/tutorial/python-data-classes).\n",
    "\n",
    "Dataclasses offer a concise syntax for creating classes that are primarily used to store data."
   ]
  },
  {
   "cell_type": "code",
   "execution_count": 76,
   "id": "303550c4",
   "metadata": {},
   "outputs": [
    {
     "data": {
      "image/png": "[encoded data removed]",
      "text/plain": [
       "<IPython.core.display.Image object>"
      ]
     },
     "metadata": {},
     "output_type": "display_data"
    }
   ],
   "source": [
    "@dataclass\n",
    "class dataClass_State:\n",
    "    name: str\n",
    "    mood: str\n",
    "\n",
    "\n",
    "def node_1(state):\n",
    "    print (\"--- Node 1 ---\")\n",
    "    return {\"name\": state.name + \" is \"}\n",
    "\n",
    "\n",
    "builder = StateGraph(dataClass_State)\n",
    "builder.add_node(\"node_1\", node_1)\n",
    "builder.add_node(\"node_2\", node_2)\n",
    "builder.add_node(\"node_3\", node_3)\n",
    "\n",
    "builder.set_entry_point(\"node_1\")\n",
    "builder.add_conditional_edges(\n",
    "    \"node_1\",\n",
    "    moodDecide,\n",
    "    {\n",
    "        \"node_2\": \"node_2\",\n",
    "        \"node_3\": \"node_3\"\n",
    "    }\n",
    ")\n",
    "builder.add_edge(\"node_2\", END)\n",
    "builder.add_edge(\"node_3\", END)\n",
    "\n",
    "\n",
    "graph = builder.compile()\n",
    "display(Image(graph.get_graph().draw_mermaid_png()))"
   ]
  },
  {
   "cell_type": "code",
   "execution_count": 27,
   "id": "6f715ea3",
   "metadata": {},
   "outputs": [
    {
     "name": "stdout",
     "output_type": "stream",
     "text": [
      "--- Node 1 ---\n",
      "--- Node 3 ---\n"
     ]
    },
    {
     "data": {
      "text/plain": [
       "{'name': 'sad.', 'mood': 'misses her'}"
      ]
     },
     "execution_count": 27,
     "metadata": {},
     "output_type": "execute_result"
    }
   ],
   "source": [
    "graph.invoke({\"name\": \"Khoa\", \"mood\": \"misses her\"})"
   ]
  },
  {
   "cell_type": "markdown",
   "id": "955a8cec",
   "metadata": {},
   "source": [
    "### **Pydantic**\n",
    "As mentioned, `TypedDict` and `dataclasses` provide type hints but they don't enforce types at runtime. \n",
    " \n",
    "This means you could potentially assign invalid values without raising an error!\n",
    "\n",
    "For example, we can set `mood` to `mad` even though our type hint specifies `mood: list[Literal[\"happy\",\"sad\"]]`."
   ]
  },
  {
   "cell_type": "code",
   "execution_count": 29,
   "id": "6cb44f7d",
   "metadata": {},
   "outputs": [],
   "source": [
    "dataclass_instance = dataClass_State(name = \"Lance\", mood = \"mad\")"
   ]
  },
  {
   "cell_type": "markdown",
   "id": "8e1ba8f5",
   "metadata": {},
   "source": [
    "[Pydantic](https://docs.pydantic.dev/latest/api/base_model/) is a data validation and settings management library using Python type annotations. \n",
    "\n",
    "Pydantic can perform validation to check whether data conforms to the specified types and constraints at runtime."
   ]
  },
  {
   "cell_type": "code",
   "execution_count": 65,
   "id": "f64b6cd8",
   "metadata": {},
   "outputs": [
    {
     "name": "stdout",
     "output_type": "stream",
     "text": [
      "Validation Error: 1 validation error for pydantic_State\n",
      "mood\n",
      "  Value error, Each mood must be either 'happy.' or 'sad.' [type=value_error, input_value='mad', input_type=str]\n",
      "    For further information visit https://errors.pydantic.dev/2.11/v/value_error\n"
     ]
    }
   ],
   "source": [
    "from pydantic import BaseModel, field_validator, ValidationError\n",
    "\n",
    "class pydantic_State(BaseModel):\n",
    "    name: str\n",
    "    mood: str # \"happy\" or \"sad\" \n",
    "\n",
    "    @field_validator('mood')\n",
    "\n",
    "    # `self` doesn't exist yet because the object isn't created.\n",
    "    # Use @classmethod to get cls (class) during validation.\n",
    "    @classmethod\n",
    "    def validate_mood(cls, value):\n",
    "        # Ensure the mood is either \"happy\" or \"sad\"\n",
    "        if value not in [\"happy.\", \"sad.\"]:\n",
    "            raise ValueError(\"Each mood must be either 'happy.' or 'sad.'\")\n",
    "        return value\n",
    "\n",
    "try:\n",
    "    state = pydantic_State(name = \"John Doe\", mood = \"mad\")\n",
    "except ValidationError as e:\n",
    "    print(\"Validation Error:\", e)"
   ]
  },
  {
   "cell_type": "code",
   "execution_count": 77,
   "id": "175f8e4b",
   "metadata": {},
   "outputs": [
    {
     "data": {
      "image/png": "[encoded data removed]",
      "text/plain": [
       "<IPython.core.display.Image object>"
      ]
     },
     "metadata": {},
     "output_type": "display_data"
    }
   ],
   "source": [
    "builder = StateGraph(pydantic_State)\n",
    "builder.add_node(\"node_1\", node_1)\n",
    "builder.add_node(\"node_2\", node_2)\n",
    "builder.add_node(\"node_3\", node_3)\n",
    "\n",
    "builder.set_entry_point(\"node_1\")\n",
    "builder.add_conditional_edges(\n",
    "    \"node_1\",\n",
    "    moodDecide,\n",
    "    {\n",
    "        \"node_2\": \"node_2\",\n",
    "        \"node_3\": \"node_3\"\n",
    "    }\n",
    ")\n",
    "builder.add_edge(\"node_2\", END)\n",
    "builder.add_edge(\"node_3\", END)\n",
    "\n",
    "graph = builder.compile()\n",
    "display(Image(graph.get_graph().draw_mermaid_png()))"
   ]
  },
  {
   "cell_type": "code",
   "execution_count": 82,
   "id": "acf7bc70",
   "metadata": {},
   "outputs": [
    {
     "name": "stdout",
     "output_type": "stream",
     "text": [
      "--- Node 1 ---\n",
      "--- Node 3 ---\n"
     ]
    },
    {
     "data": {
      "text/plain": [
       "{'name': 'Lance is ', 'mood': 'sad.'}"
      ]
     },
     "execution_count": 82,
     "metadata": {},
     "output_type": "execute_result"
    }
   ],
   "source": [
    "graph.invoke(pydantic_State(name = \"Lance\", mood = \"sad.\"))"
   ]
  },
  {
   "cell_type": "markdown",
   "id": "5b7f203d",
   "metadata": {},
   "source": [
    "## **State Reducers**"
   ]
  },
  {
   "cell_type": "code",
   "execution_count": null,
   "id": "ec640922",
   "metadata": {},
   "outputs": [],
   "source": [
    "import warnings\n",
    "warnings.filterwarnings(\"ignore\")\n",
    "\n",
    "from typing import TypedDict\n",
    "from langgraph.graph import StateGraph, END\n",
    "from typing_extensions import Annotated\n",
    "from langchain_core.messages import AnyMessage, HumanMessage, AIMessage\n",
    "from langgraph.graph.message import add_messages\n",
    "from operator import add\n",
    "from IPython.display import display, Image"
   ]
  },
  {
   "cell_type": "markdown",
   "id": "5de6a393",
   "metadata": {},
   "source": [
    "### **Branch**"
   ]
  },
  {
   "cell_type": "code",
   "execution_count": null,
   "id": "a9cea0c4",
   "metadata": {},
   "outputs": [
    {
     "data": {
      "image/png": "[encoded data removed]",
      "text/plain": [
       "<IPython.core.display.Image object>"
      ]
     },
     "metadata": {},
     "output_type": "display_data"
    }
   ],
   "source": [
    "class State(TypedDict):\n",
    "    messages: str\n",
    "\n",
    "\n",
    "def node_1(state):\n",
    "    print(\"---Node 1---\")\n",
    "    return {\"messages\": \"List of emotion: \"}\n",
    "\n",
    "def node_2(state):\n",
    "    print(\"---Node 2---\")\n",
    "    return {\"messages\": state['messages'][-1] + \"happy, \"}\n",
    "\n",
    "def node_3(state):\n",
    "    print(\"---Node 3---\")\n",
    "    return {\"messages\": state['messages'][-1] + \"sad, \"}\n",
    "\n",
    "\n",
    "builder = StateGraph(State)\n",
    "builder.add_node(\"node_1\", node_1)\n",
    "builder.add_node(\"node_2\", node_2)\n",
    "builder.add_node(\"node_3\", node_3)\n",
    "\n",
    "builder.set_entry_point(\"node_1\")\n",
    "builder.add_edge(\"node_1\", \"node_2\")\n",
    "builder.add_edge(\"node_1\", \"node_3\")\n",
    "builder.add_edge(\"node_2\", END)\n",
    "builder.add_edge(\"node_3\", END)\n",
    "\n",
    "\n",
    "graph = builder.compile()\n",
    "display(Image(graph.get_graph().draw_mermaid_png()))"
   ]
  },
  {
   "cell_type": "code",
   "execution_count": 88,
   "id": "6a273187",
   "metadata": {},
   "outputs": [
    {
     "name": "stdout",
     "output_type": "stream",
     "text": [
      "---Node 1---\n",
      "---Node 2---\n",
      "---Node 3---\n",
      "InvalidUpdateError occurred: At key 'messages': Can receive only one value per step. Use an Annotated key to handle multiple values.\n",
      "For troubleshooting, visit: https://python.langchain.com/docs/troubleshooting/errors/INVALID_CONCURRENT_GRAPH_UPDATE\n"
     ]
    }
   ],
   "source": [
    "from langgraph.errors import InvalidUpdateError\n",
    "\n",
    "try:\n",
    "    graph.invoke({\"messages\" : \"\"})\n",
    "except InvalidUpdateError as e:\n",
    "    print(f\"InvalidUpdateError occurred: {e}\")"
   ]
  },
  {
   "cell_type": "markdown",
   "id": "65ff38bc",
   "metadata": {},
   "source": [
    "### **Reducers**\n",
    "\n",
    "[Reducers](https://langchain-ai.github.io/langgraph/concepts/low_level/#reducers) give us a general way to address this problem.\n",
    "\n",
    "We can use the `Annotated` type to specify a reducer function. \n",
    "\n",
    "When `operator.add` is applied to lists, it performs list concatenation."
   ]
  },
  {
   "cell_type": "code",
   "execution_count": 95,
   "id": "3359e3ab",
   "metadata": {},
   "outputs": [
    {
     "data": {
      "image/png": "[encoded data removed]",
      "text/plain": [
       "<IPython.core.display.Image object>"
      ]
     },
     "metadata": {},
     "output_type": "display_data"
    }
   ],
   "source": [
    "class State(TypedDict):\n",
    "    messages: Annotated[list[AnyMessage], add_messages, add]\n",
    "\n",
    "\n",
    "def node_1(state):\n",
    "    print(\"---Node 1---\")\n",
    "    return {\"messages\": [HumanMessage(content = \"List of emotion: \")]}\n",
    "\n",
    "def node_2(state):\n",
    "    print(\"---Node 2---\")\n",
    "    last_msg = state['messages'][-1].content\n",
    "    return {\"messages\": [HumanMessage(content = last_msg + \"happy, \")]}\n",
    "\n",
    "def node_3(state):\n",
    "    print(\"---Node 3---\")\n",
    "    last_msg = state['messages'][-1].content\n",
    "    return {\"messages\": [HumanMessage(content = last_msg + \"sad, \")]}\n",
    "\n",
    "\n",
    "\n",
    "builder = StateGraph(State)\n",
    "builder.add_node(\"node_1\", node_1)\n",
    "builder.add_node(\"node_2\", node_2)\n",
    "builder.add_node(\"node_3\", node_3)\n",
    "\n",
    "builder.set_entry_point(\"node_1\")\n",
    "builder.add_edge(\"node_1\", \"node_2\")\n",
    "builder.add_edge(\"node_1\", \"node_3\")\n",
    "builder.add_edge(\"node_2\", END)\n",
    "builder.add_edge(\"node_3\", END)\n",
    "\n",
    "\n",
    "graph = builder.compile()\n",
    "display(Image(graph.get_graph().draw_mermaid_png()))"
   ]
  },
  {
   "cell_type": "code",
   "execution_count": 96,
   "id": "cfa4ec92",
   "metadata": {},
   "outputs": [
    {
     "name": "stdout",
     "output_type": "stream",
     "text": [
      "---Node 1---\n",
      "---Node 2---\n",
      "---Node 3---\n"
     ]
    },
    {
     "data": {
      "text/plain": [
       "{'messages': [HumanMessage(content='', additional_kwargs={}, response_metadata={}, name='Khoa'),\n",
       "  HumanMessage(content='List of emotion: ', additional_kwargs={}, response_metadata={}),\n",
       "  HumanMessage(content='List of emotion: happy, ', additional_kwargs={}, response_metadata={}),\n",
       "  HumanMessage(content='List of emotion: sad, ', additional_kwargs={}, response_metadata={})]}"
      ]
     },
     "execution_count": 96,
     "metadata": {},
     "output_type": "execute_result"
    }
   ],
   "source": [
    "graph.invoke({\"messages\": [HumanMessage(content = \"\", name = \"Khoa\")]})"
   ]
  },
  {
   "cell_type": "markdown",
   "id": "d0e0a9bc",
   "metadata": {},
   "source": [
    "### **Custom Reducers**"
   ]
  },
  {
   "cell_type": "code",
   "execution_count": 97,
   "id": "d0a8d10c",
   "metadata": {},
   "outputs": [],
   "source": [
    "def reduce_list(left: list | None, right: list | None) -> list:\n",
    "    \"\"\"Safely combine two lists, handling cases where either or both inputs might be None.\n",
    "\n",
    "    Args:\n",
    "        left (list | None): The first list to combine, or None.\n",
    "        right (list | None): The second list to combine, or None.\n",
    "\n",
    "    Returns:\n",
    "        list: A new list containing all elements from both input lists.\n",
    "               If an input is None, it's treated as an empty list.\n",
    "    \"\"\"\n",
    "    if not left:\n",
    "        left = []\n",
    "    if not right:\n",
    "        right = []\n",
    "    return left + right\n",
    "\n",
    "class DefaultState(TypedDict):\n",
    "    foo: Annotated[list[int], add]\n",
    "\n",
    "class CustomReducerState(TypedDict):\n",
    "    foo: Annotated[list[int], reduce_list]"
   ]
  },
  {
   "cell_type": "code",
   "execution_count": null,
   "id": "b3d7e2a0",
   "metadata": {},
   "outputs": [
    {
     "data": {
      "image/png": "[encoded data removed]",
      "text/plain": [
       "<IPython.core.display.Image object>"
      ]
     },
     "metadata": {},
     "output_type": "display_data"
    },
    {
     "name": "stdout",
     "output_type": "stream",
     "text": [
      "TypeError occurred: can only concatenate list (not \"NoneType\") to list\n"
     ]
    }
   ],
   "source": [
    "def node_1(state):\n",
    "    print(\"---Node 1---\")\n",
    "    return {\"foo\": [2]}\n",
    "\n",
    "\n",
    "builder = StateGraph(DefaultState)\n",
    "builder.add_node(\"node_1\", node_1)\n",
    "\n",
    "builder.set_entry_point(\"node_1\")\n",
    "builder.add_edge(\"node_1\", END)\n",
    "\n",
    "\n",
    "graph = builder.compile()\n",
    "display(Image(graph.get_graph().draw_mermaid_png()))\n",
    "\n",
    "\n",
    "try:\n",
    "    print(graph.invoke({\"foo\" : None}))\n",
    "except TypeError as e:\n",
    "    print(f\"TypeError occurred: {e}\")"
   ]
  },
  {
   "cell_type": "code",
   "execution_count": 101,
   "id": "75a98764",
   "metadata": {},
   "outputs": [
    {
     "data": {
      "image/png": "[encoded data removed]",
      "text/plain": [
       "<IPython.core.display.Image object>"
      ]
     },
     "metadata": {},
     "output_type": "display_data"
    },
    {
     "name": "stdout",
     "output_type": "stream",
     "text": [
      "---Node 1---\n",
      "{'foo': [2]}\n"
     ]
    }
   ],
   "source": [
    "builder = StateGraph(CustomReducerState)\n",
    "builder.add_node(\"node_1\", node_1)\n",
    "\n",
    "builder.set_entry_point(\"node_1\")\n",
    "builder.add_edge(\"node_1\", END)\n",
    "\n",
    "\n",
    "graph = builder.compile()\n",
    "display(Image(graph.get_graph().draw_mermaid_png()))\n",
    "\n",
    "\n",
    "try:\n",
    "    print(graph.invoke({\"foo\" : None}))\n",
    "except TypeError as e:\n",
    "    print(f\"TypeError occurred: {e}\")"
   ]
  },
  {
   "cell_type": "markdown",
   "id": "bb1e0327",
   "metadata": {},
   "source": [
    "### **Re-writing**"
   ]
  },
  {
   "cell_type": "code",
   "execution_count": 103,
   "id": "565ea657",
   "metadata": {},
   "outputs": [
    {
     "data": {
      "text/plain": [
       "[AIMessage(content='Hello! How can I assist you?', additional_kwargs={}, response_metadata={}, name='Model', id='1'),\n",
       " HumanMessage(content=\"I'm looking for information on whales, specifically\", additional_kwargs={}, response_metadata={}, name='Lance', id='2')]"
      ]
     },
     "execution_count": 103,
     "metadata": {},
     "output_type": "execute_result"
    }
   ],
   "source": [
    "messages = [\n",
    "    AIMessage(content = \"Hello! How can I assist you?\", name = \"Model\", id = \"1\"),\n",
    "    HumanMessage(content=\"I'm looking for information on marine biology.\", name = \"Lance\", id = \"2\")\n",
    "]\n",
    "\n",
    "text = HumanMessage(content = \"I'm looking for information on whales, specifically\", name = \"Lance\", id = \"2\")\n",
    "add_messages(messages, text)"
   ]
  },
  {
   "cell_type": "markdown",
   "id": "24275cc6",
   "metadata": {},
   "source": [
    "### **Removal**"
   ]
  },
  {
   "cell_type": "code",
   "execution_count": 112,
   "id": "d92a311e",
   "metadata": {},
   "outputs": [
    {
     "name": "stdout",
     "output_type": "stream",
     "text": [
      "[RemoveMessage(content='', additional_kwargs={}, response_metadata={}, id='1'), RemoveMessage(content='', additional_kwargs={}, response_metadata={}, id='2')] \n",
      "\n",
      " [AIMessage(content='Hi.', additional_kwargs={}, response_metadata={}, name='Bot', id='1'), HumanMessage(content='Hi.', additional_kwargs={}, response_metadata={}, name='Lance', id='2'), AIMessage(content='So you said you were researching ocean mammals?', additional_kwargs={}, response_metadata={}, name='Bot', id='3'), HumanMessage(content='Yes, I know about whales. But what others should I learn about?', additional_kwargs={}, response_metadata={}, name='Lance', id='1')]\n"
     ]
    },
    {
     "data": {
      "text/plain": [
       "[AIMessage(content='So you said you were researching ocean mammals?', additional_kwargs={}, response_metadata={}, name='Bot', id='3')]"
      ]
     },
     "execution_count": 112,
     "metadata": {},
     "output_type": "execute_result"
    }
   ],
   "source": [
    "from langchain_core.messages import RemoveMessage\n",
    "\n",
    "messages = [AIMessage(\"Hi.\", name = \"Bot\", id = \"1\")]\n",
    "messages.append(HumanMessage(\"Hi.\", name = \"Lance\", id = \"2\"))\n",
    "messages.append(AIMessage(\"So you said you were researching ocean mammals?\", name = \"Bot\", id = \"3\"))\n",
    "messages.append(HumanMessage(\"Yes, I know about whales. But what others should I learn about?\", name = \"Lance\", id = \"1\"))\n",
    "\n",
    "delete_messages = [RemoveMessage(id = m.id) for m in messages[:-2]]\n",
    "print(delete_messages, '\\n' * 2, messages)\n",
    "\n",
    "add_messages(messages , delete_messages)"
   ]
  }
 ],
 "metadata": {
  "kernelspec": {
   "display_name": "Python 3",
   "language": "python",
   "name": "python3"
  },
  "language_info": {
   "codemirror_mode": {
    "name": "ipython",
    "version": 3
   },
   "file_extension": ".py",
   "mimetype": "text/x-python",
   "name": "python",
   "nbconvert_exporter": "python",
   "pygments_lexer": "ipython3",
   "version": "3.10.0"
  }
 },
 "nbformat": 4,
 "nbformat_minor": 5
}
