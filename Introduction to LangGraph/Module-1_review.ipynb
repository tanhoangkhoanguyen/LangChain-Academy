{
 "cells": [
  {
   "cell_type": "markdown",
   "id": "a639ae19",
   "metadata": {},
   "source": [
    "## **The Simplest Graph**\n",
    "![Screenshot 2024-08-20 at 3.11.22 PM.png](https://cdn.prod.website-files.com/65b8cd72835ceeacd4449a53/66dba5f465f6e9a2482ad935_simple-graph1.png)"
   ]
  },
  {
   "cell_type": "code",
   "execution_count": 10,
   "id": "31e4d1ea",
   "metadata": {},
   "outputs": [],
   "source": [
    "import warnings\n",
    "warnings.filterwarnings(\"ignore\")\n",
    "\n",
    "from typing_extensions import TypedDict\n",
    "import random\n",
    "from langgraph.graph import StateGraph, END\n",
    "from IPython.display import display, Image"
   ]
  },
  {
   "cell_type": "markdown",
   "id": "1e0a5020",
   "metadata": {},
   "source": [
    "### **State**\n",
    "The [State](https://langchain-ai.github.io/langgraph/concepts/low_level/#state) schema serves as the input schema for all Nodes and Edges in the graph."
   ]
  },
  {
   "cell_type": "code",
   "execution_count": 5,
   "id": "1c727695",
   "metadata": {},
   "outputs": [],
   "source": [
    "class State(TypedDict):\n",
    "    message: str"
   ]
  },
  {
   "cell_type": "markdown",
   "id": "ef8b07d3",
   "metadata": {},
   "source": [
    "### **Node**\n",
    "[Nodes](https://langchain-ai.github.io/langgraph/concepts/low_level/#nodes) are python functions.\n",
    "\n",
    "Because the state is a `TypedDict` with schema as defined above, each node can access the key, `message`, with `state['message']`.\n",
    "\n",
    "Each node returns a new value of the state key `message`.\n",
    "  \n",
    "By default, the new value returned by each node [will override](https://langchain-ai.github.io/langgraph/concepts/low_level/#reducers) the prior state value."
   ]
  },
  {
   "cell_type": "code",
   "execution_count": null,
   "id": "4f3d4a61",
   "metadata": {},
   "outputs": [],
   "source": [
    "def node_1(state: State) -> State:\n",
    "    print (\"--- Node 1 ---\")\n",
    "    return {\"message\": \"I am\"}\n",
    "\n",
    "def node_2(state):\n",
    "    print (\"--- Node 2 ---\")\n",
    "    return {\"message\": state[\"message\"] + \" happy.\"}\n",
    "\n",
    "def node_3(state):\n",
    "    print (\"--- Node 3 ---\")\n",
    "    return {\"message\": state[\"message\"] + \" sad.\"}"
   ]
  },
  {
   "cell_type": "markdown",
   "id": "be247318",
   "metadata": {},
   "source": [
    "### **Edges**\n",
    "\n",
    "[Edges](https://langchain-ai.github.io/langgraph/concepts/low_level/#edges) connect the nodes.\n",
    "\n",
    "Normal Edges are used if you want to *always* go from, for example, `node_1` to `node_2`.\n",
    "\n",
    "[Conditional Edges](https://langchain-ai.github.io/langgraph/concepts/low_level/#conditional-edges) are used if you want to *optionally* route between nodes.\n",
    " \n",
    "Conditional edges are implemented as functions that return the next node to visit based upon some logic."
   ]
  },
  {
   "cell_type": "code",
   "execution_count": 7,
   "id": "926183e6",
   "metadata": {},
   "outputs": [],
   "source": [
    "def moodDecide (state):\n",
    "    return \"node_2\" if random.random() > 0.5 else \"node_3\" "
   ]
  },
  {
   "cell_type": "markdown",
   "id": "3abc3244",
   "metadata": {},
   "source": [
    "### **Graph Construction**"
   ]
  },
  {
   "cell_type": "code",
   "execution_count": 11,
   "id": "47499e66",
   "metadata": {},
   "outputs": [
    {
     "data": {
      "image/png": "[encoded data removed]",
      "text/plain": [
       "<IPython.core.display.Image object>"
      ]
     },
     "metadata": {},
     "output_type": "display_data"
    }
   ],
   "source": [
    "builder = StateGraph(State)\n",
    "builder.add_node(\"node_1\", node_1)\n",
    "builder.add_node(\"node_2\", node_2)\n",
    "builder.add_node(\"node_3\", node_3)\n",
    "\n",
    "builder.set_entry_point(\"node_1\")\n",
    "builder.add_conditional_edges(\n",
    "    \"node_1\",\n",
    "    moodDecide,\n",
    "    {\n",
    "        \"node_2\": \"node_2\",\n",
    "        \"node_3\": \"node_3\"\n",
    "    }\n",
    ")\n",
    "builder.add_edge(\"node_2\", END)\n",
    "builder.add_edge(\"node_3\", END)\n",
    "\n",
    "graph = builder.compile()\n",
    "display(Image(graph.get_graph().draw_mermaid_png()))"
   ]
  },
  {
   "cell_type": "markdown",
   "id": "6f8db2ba",
   "metadata": {},
   "source": [
    "### **Graph Invocation**\n",
    "The compiled graph follows the [Runnable](https://python.langchain.com/docs/concepts/runnables/) protocol, allowing execution via the `invoke` method.\n",
    "\n",
    "We pass an initial state `{\"graph_state\": \"Hi, this is Khoa.\"}` to start execution at the `START` node. \n",
    "\n",
    "The graph moves through nodes (`node_1`, `node_2`/`node_3`) based on the `moodDecide` function. \n",
    "\n",
    "Each node updates the state, and execution ends at the `END` node."
   ]
  },
  {
   "cell_type": "code",
   "execution_count": 14,
   "id": "2b72ecb1",
   "metadata": {},
   "outputs": [
    {
     "name": "stdout",
     "output_type": "stream",
     "text": [
      "--- Node 1 ---\n",
      "--- Node 2 ---\n"
     ]
    },
    {
     "data": {
      "text/plain": [
       "{'message': 'I am happy'}"
      ]
     },
     "execution_count": 14,
     "metadata": {},
     "output_type": "execute_result"
    }
   ],
   "source": [
    "graph.invoke({\"message\": \"Hi, this is Khoa.\"})"
   ]
  },
  {
   "cell_type": "markdown",
   "id": "3c39a461",
   "metadata": {},
   "source": [
    "## **Chain**\n",
    "![Screenshot 2024-08-21 at 9.24.03 AM.png](https://cdn.prod.website-files.com/65b8cd72835ceeacd4449a53/66dbab08dd607b08df5e1101_chain1.png)"
   ]
  },
  {
   "cell_type": "code",
   "execution_count": 27,
   "id": "3f89b4d3",
   "metadata": {},
   "outputs": [],
   "source": [
    "import warnings\n",
    "warnings.filterwarnings(\"ignore\")\n",
    "\n",
    "from dotenv import load_dotenv, find_dotenv\n",
    "from langchain_openai import ChatOpenAI\n",
    "from langchain_core.messages import HumanMessage, AIMessage, SystemMessage, ToolMessage, AnyMessage\n",
    "from typing_extensions import TypedDict\n",
    "from typing import Annotated\n",
    "from langgraph.graph.message import add_messages"
   ]
  },
  {
   "cell_type": "markdown",
   "id": "8731e479",
   "metadata": {},
   "source": [
    "### **Messages**\n",
    "\n",
    "Chat models can use [`messages`](https://python.langchain.com/v0.2/docs/concepts/#messages), which capture different roles within a conversation. \n",
    "\n",
    "LangChain supports various message types, including `HumanMessage`, `AIMessage`, `SystemMessage`, and `ToolMessage`. \n",
    "\n",
    "Each message can be supplied with a few things:\n",
    "\n",
    "* `content` - content of the message\n",
    "* `name` - optionally, a message author \n",
    "* `response_metadata` - optionally, a dict of metadata (e.g., often populated by model provider for `AIMessages`)"
   ]
  },
  {
   "cell_type": "code",
   "execution_count": 37,
   "id": "93f1fd96",
   "metadata": {},
   "outputs": [
    {
     "name": "stdout",
     "output_type": "stream",
     "text": [
      "content='You are a helpful assistant.' additional_kwargs={} response_metadata={} name='system'\n",
      "content='Hello, my name is Khoa.' additional_kwargs={} response_metadata={} name='userKhoa'\n",
      "content='Hi Khoa, I am an AI assistant.' additional_kwargs={} response_metadata={} name='assistant'\n"
     ]
    }
   ],
   "source": [
    "messages = [\n",
    "    SystemMessage(content=\"You are a helpful assistant.\", name = \"system\"),\n",
    "    HumanMessage(content = \"Hello, my name is Khoa.\", name = \"userKhoa\")\n",
    "]\n",
    "messages.append(AIMessage(content = \"Hi Khoa, I am an AI assistant.\", name = \"assistant\"))\n",
    "\n",
    "for m in messages:\n",
    "    print (m)"
   ]
  },
  {
   "cell_type": "markdown",
   "id": "1f3224ac",
   "metadata": {},
   "source": [
    "### **Chat Models**"
   ]
  },
  {
   "cell_type": "code",
   "execution_count": 18,
   "id": "1d84f381",
   "metadata": {},
   "outputs": [],
   "source": [
    "_ = load_dotenv(find_dotenv())\n",
    "chat = ChatOpenAI(\n",
    "    model = 'gpt-3.5-turbo',\n",
    "    temperature = 0\n",
    ")"
   ]
  },
  {
   "cell_type": "markdown",
   "id": "e54f1275",
   "metadata": {},
   "source": [
    "### **Tools**\n",
    "\n",
    "Tools are useful whenever you want a model to interact with external systems.\n",
    "\n",
    "External systems (e.g., APIs) often require a particular input schema or payload, rather than natural language. \n",
    "\n",
    "When we bind an API, for example, as a tool we given the model awareness of the required input schema.\n",
    "\n",
    "The model will choose to call a tool based upon the natural language input from the user. \n",
    "\n",
    "And, it will return an output that adheres to the tool's schema. \n",
    " \n",
    "You can pass any Python `function` into `ChatModel.bind_tools(function)`.\n",
    "\n",
    "![Screenshot 2024-08-19 at 7.46.28 PM.png](https://cdn.prod.website-files.com/65b8cd72835ceeacd4449a53/66dbab08dc1c17a7a57f9960_chain2.png)"
   ]
  },
  {
   "cell_type": "code",
   "execution_count": 23,
   "id": "4260ac72",
   "metadata": {},
   "outputs": [
    {
     "data": {
      "text/plain": [
       "[{'name': 'multiply',\n",
       "  'args': {'a': 2, 'b': 3},\n",
       "  'id': 'call_zTq07uwRWOBZ6SchbEhMCnt0',\n",
       "  'type': 'tool_call'}]"
      ]
     },
     "execution_count": 23,
     "metadata": {},
     "output_type": "execute_result"
    }
   ],
   "source": [
    "def multiply(a: float, b: float) -> float:\n",
    "    \"\"\"\n",
    "    Multiply a and b.\n",
    "\n",
    "    Args:\n",
    "        a (float): First number.\n",
    "        b (float): Second number.\n",
    "    \"\"\"\n",
    "    return a * b\n",
    "llm_with_tools = chat.bind_tools([multiply])\n",
    "\n",
    "response = llm_with_tools.invoke([\n",
    "    HumanMessage(content = \"What is the product of 2 and 3?\")\n",
    "])\n",
    "response.tool_calls"
   ]
  },
  {
   "cell_type": "markdown",
   "id": "e6dabf2d",
   "metadata": {},
   "source": [
    "### **Reducers**"
   ]
  },
  {
   "cell_type": "code",
   "execution_count": 25,
   "id": "bddba420",
   "metadata": {},
   "outputs": [],
   "source": [
    "class State(TypedDict):\n",
    "    messages: list[AnyMessage] # Any type of message is acceptable including FunctionMessage, ToolMessage, etc."
   ]
  },
  {
   "cell_type": "markdown",
   "id": "1ea94008",
   "metadata": {},
   "source": [
    "By default, each node’s output overwrites the `messages` state.\n",
    "\n",
    "To append messages instead, we use [reducer functions](https://langchain-ai.github.io/langgraph/concepts/low_level/#reducers), which control how state updates are handled.\n",
    "\n",
    "For `messages`, we apply the pre-built `add_messages` reducer to ensure new messages are added to the existing list.\n",
    "\n",
    "Simply annotate the `messages` key with this reducer in the state metadata."
   ]
  },
  {
   "cell_type": "code",
   "execution_count": 29,
   "id": "4355f45d",
   "metadata": {},
   "outputs": [],
   "source": [
    "class State(TypedDict):\n",
    "    messages: Annotated[list[AnyMessage], add_messages]"
   ]
  },
  {
   "cell_type": "markdown",
   "id": "6e22d5d0",
   "metadata": {},
   "source": [
    "To go a bit deeper, we can see how the `add_messages` reducer works in isolation."
   ]
  },
  {
   "cell_type": "code",
   "execution_count": 38,
   "id": "ad279dc8",
   "metadata": {},
   "outputs": [
    {
     "data": {
      "text/plain": [
       "[SystemMessage(content='You are a helpful assistant.', additional_kwargs={}, response_metadata={}, name='system', id='1b4fbfe8-530b-4154-a004-2df676c683db'),\n",
       " HumanMessage(content='Hello, my name is Khoa.', additional_kwargs={}, response_metadata={}, name='userKhoa', id='bd739b45-f87c-4368-981a-11cc6da6d40b'),\n",
       " AIMessage(content='Hi Khoa, I am an AI assistant.', additional_kwargs={}, response_metadata={}, name='assistant', id='91bc3760-e0a9-471e-bbeb-5fbb87b4e5ac'),\n",
       " HumanMessage(content='This is a new message.', additional_kwargs={}, response_metadata={}, id='e13aa932-bba0-4f03-853a-e9b831fa4e0f')]"
      ]
     },
     "execution_count": 38,
     "metadata": {},
     "output_type": "execute_result"
    }
   ],
   "source": [
    "text = HumanMessage(content = \"This is a new message.\")\n",
    "add_messages(messages, text)"
   ]
  },
  {
   "cell_type": "markdown",
   "id": "b67a4feb",
   "metadata": {},
   "source": [
    "### **Graph Construction**"
   ]
  },
  {
   "cell_type": "code",
   "execution_count": 41,
   "id": "9b8cc691",
   "metadata": {},
   "outputs": [
    {
     "data": {
      "image/png": "[encoded data removed]",
      "text/plain": [
       "<IPython.core.display.Image object>"
      ]
     },
     "metadata": {},
     "output_type": "display_data"
    }
   ],
   "source": [
    "def tool_calling_llm(state):\n",
    "    return {\"messages\": [llm_with_tools.invoke(state[\"messages\"])]}\n",
    "\n",
    "builder = StateGraph(State)\n",
    "builder.add_node(\"tool_calling_llm\", tool_calling_llm)\n",
    "\n",
    "builder.set_entry_point(\"tool_calling_llm\")\n",
    "builder.add_edge(\"tool_calling_llm\", END)\n",
    "\n",
    "graph = builder.compile()\n",
    "display(Image(graph.get_graph().draw_mermaid_png()))"
   ]
  },
  {
   "cell_type": "code",
   "execution_count": null,
   "id": "50aea2d8",
   "metadata": {},
   "outputs": [
    {
     "name": "stdout",
     "output_type": "stream",
     "text": [
      "================================\u001b[1m Human Message \u001b[0m=================================\n",
      "\n",
      "Multiply 2 and 3\n",
      "==================================\u001b[1m Ai Message \u001b[0m==================================\n",
      "Tool Calls:\n",
      "  multiply (call_O5HRSsV6vyT26oJQB9Xoxiq5)\n",
      " Call ID: call_O5HRSsV6vyT26oJQB9Xoxiq5\n",
      "  Args:\n",
      "    a: 2\n",
      "    b: 3\n"
     ]
    }
   ],
   "source": [
    "from pprint import pprint\n",
    "\n",
    "response = graph.invoke({\"messages\": HumanMessage(content=\"Multiply 2 and 3\")})\n",
    "for m in response['messages']:\n",
    "    m.pretty_print()"
   ]
  },
  {
   "cell_type": "markdown",
   "id": "c3a0a9bc",
   "metadata": {},
   "source": [
    "## **Router**\n",
    "![Screenshot 2024-08-21 at 9.24.09 AM.png](https://cdn.prod.website-files.com/65b8cd72835ceeacd4449a53/66dbac6543c3d4df239a4ed1_router1.png)"
   ]
  },
  {
   "cell_type": "code",
   "execution_count": null,
   "id": "9acc7a73",
   "metadata": {},
   "outputs": [],
   "source": [
    "import warnings\n",
    "warnings.filterwarnings(\"ignore\")\n",
    "\n",
    "from dotenv import load_dotenv, find_dotenv\n",
    "from langchain_openai import ChatOpenAI\n",
    "from typing_extensions import TypedDict\n",
    "from typing import Annotated\n",
    "from langchain_core.messages import AnyMessage, HumanMessage\n",
    "from langgraph.graph.message import add_messages\n",
    "from langgraph.graph import StateGraph, END\n",
    "from langgraph.prebuilt import ToolNode, tools_condition\n",
    "\n",
    "\n",
    "_ = load_dotenv(find_dotenv())\n",
    "chat = ChatOpenAI(\n",
    "    model = 'gpt-3.5-turbo',\n",
    "    temperature = 0\n",
    ")"
   ]
  },
  {
   "cell_type": "code",
   "execution_count": null,
   "id": "99f1f946",
   "metadata": {},
   "outputs": [
    {
     "data": {
      "image/png": "[encoded data removed]",
      "text/plain": [
       "<IPython.core.display.Image object>"
      ]
     },
     "metadata": {},
     "output_type": "display_data"
    }
   ],
   "source": [
    "class State(TypedDict):\n",
    "    messages: Annotated[list[AnyMessage], add_messages]\n",
    "\n",
    "\n",
    "def multiply(a: float, b: float) -> float:\n",
    "    \"\"\"\n",
    "    Multiply a and b.\n",
    "\n",
    "    Args:\n",
    "        a (float): First number.\n",
    "        b (float): Second number.\n",
    "    \"\"\"\n",
    "    return a * b\n",
    "llm_with_tools = chat.bind_tools([multiply])\n",
    "\n",
    "def tool_calling_llm(state):\n",
    "    return {\"messages\": [llm_with_tools.invoke(state[\"messages\"])]}\n",
    "\n",
    "\n",
    "builder = StateGraph(State)\n",
    "builder.add_node(\"tool_calling_llm\", tool_calling_llm)\n",
    "builder.add_node(\"tools\", ToolNode([multiply]))\n",
    "\n",
    "builder.set_entry_point(\"tool_calling_llm\")\n",
    "builder.add_conditional_edges(\n",
    "    \"tool_calling_llm\",\n",
    "    # If the latest message from assistant is a tool call       -> tools_condition routes to tools\n",
    "    # If the latest message from assistant is a not a tool call -> tools_condition routes to END\n",
    "    tools_condition,\n",
    ")\n",
    "builder.add_edge(\"tools\", END)\n",
    "graph = builder.compile()\n",
    "\n",
    "display(Image(graph.get_graph().draw_mermaid_png()))"
   ]
  },
  {
   "cell_type": "code",
   "execution_count": 58,
   "id": "ec2855fd",
   "metadata": {},
   "outputs": [
    {
     "name": "stdout",
     "output_type": "stream",
     "text": [
      "================================\u001b[1m Human Message \u001b[0m=================================\n",
      "\n",
      "Multiply 2 and 3.\n",
      "==================================\u001b[1m Ai Message \u001b[0m==================================\n",
      "Tool Calls:\n",
      "  multiply (call_S04rWvUZKeGsfsPlkFFW1nmj)\n",
      " Call ID: call_S04rWvUZKeGsfsPlkFFW1nmj\n",
      "  Args:\n",
      "    a: 2\n",
      "    b: 3\n",
      "=================================\u001b[1m Tool Message \u001b[0m=================================\n",
      "Name: multiply\n",
      "\n",
      "6.0\n"
     ]
    }
   ],
   "source": [
    "from pprint import pprint\n",
    "\n",
    "response = graph.invoke({\"messages\": [HumanMessage(content = \"Multiply 2 and 3.\")]})\n",
    "for m in response['messages']:\n",
    "    m.pretty_print()"
   ]
  },
  {
   "cell_type": "markdown",
   "id": "a19e96cc",
   "metadata": {},
   "source": [
    "### **Agent**\n",
    "![Screenshot 2024-08-21 at 12.44.33 PM.png](https://cdn.prod.website-files.com/65b8cd72835ceeacd4449a53/66dbac0ba0bd34b541c448cc_agent1.png)\n",
    "\n",
    "![Screenshot 2024-08-21 at 12.45.43 PM.png](https://cdn.prod.website-files.com/65b8cd72835ceeacd4449a53/66dbac0b4a2c1e5e02f3e78b_agent2.png)\n"
   ]
  },
  {
   "cell_type": "code",
   "execution_count": 2,
   "id": "5480fabf",
   "metadata": {},
   "outputs": [],
   "source": [
    "import warnings\n",
    "warnings.filterwarnings(\"ignore\")\n",
    "\n",
    "from dotenv import load_dotenv, find_dotenv\n",
    "from langchain_openai import ChatOpenAI\n",
    "\n",
    "from langsmith import traceable\n",
    "from typing_extensions import TypedDict\n",
    "from typing import Annotated\n",
    "from langchain_core.messages import AnyMessage, HumanMessage\n",
    "from langgraph.graph.message import add_messages\n",
    "from langgraph.graph import StateGraph, END\n",
    "from langgraph.prebuilt import ToolNode, tools_condition\n",
    "\n",
    "from IPython.display import display, Image\n",
    "\n",
    "\n",
    "_ = load_dotenv(find_dotenv())\n",
    "chat = ChatOpenAI(\n",
    "    model = 'gpt-3.5-turbo',\n",
    "    temperature = 0\n",
    ")"
   ]
  },
  {
   "cell_type": "code",
   "execution_count": 3,
   "id": "00a0612c",
   "metadata": {},
   "outputs": [
    {
     "data": {
      "image/png": "[encoded data removed]",
      "text/plain": [
       "<IPython.core.display.Image object>"
      ]
     },
     "metadata": {},
     "output_type": "display_data"
    }
   ],
   "source": [
    "class State(TypedDict):\n",
    "    messages: Annotated[list[AnyMessage], add_messages]\n",
    "\n",
    "\n",
    "def add(a: float, b: float) -> float:\n",
    "    \"\"\"\n",
    "    Add a and b.\n",
    "\n",
    "    Args:\n",
    "        a (float): First number.\n",
    "        b (float): Second number.\n",
    "    \"\"\"\n",
    "    return a + b\n",
    "\n",
    "def subtract(a: float, b: float) -> float:\n",
    "    \"\"\"\n",
    "    Subtract b from a.\n",
    "\n",
    "    Args:\n",
    "        a (float): First number.\n",
    "        b (float): Second number.\n",
    "    \"\"\"\n",
    "    return a - b\n",
    "llm_with_tools = chat.bind_tools([add, subtract])\n",
    "\n",
    "def tool_calling_llm(state):\n",
    "    return {\"messages\": [llm_with_tools.invoke(state[\"messages\"])]}\n",
    "\n",
    "\n",
    "builder = StateGraph(State)\n",
    "builder.add_node(\"tool_calling_llm\", tool_calling_llm)\n",
    "builder.add_node(\"tools\", ToolNode([add, subtract]))\n",
    "\n",
    "builder.set_entry_point(\"tool_calling_llm\")\n",
    "builder.add_conditional_edges(\n",
    "    \"tool_calling_llm\",\n",
    "    tools_condition,\n",
    ")\n",
    "builder.add_edge(\"tools\", \"tool_calling_llm\")\n",
    "\n",
    "\n",
    "graph = builder.compile()\n",
    "display(Image(graph.get_graph().draw_mermaid_png()))"
   ]
  },
  {
   "cell_type": "code",
   "execution_count": 4,
   "id": "e07c686b",
   "metadata": {},
   "outputs": [
    {
     "name": "stdout",
     "output_type": "stream",
     "text": [
      "================================\u001b[1m Human Message \u001b[0m=================================\n",
      "\n",
      "Add 2 and 3. Multiply 2 and 3. Subtract 2 from 3.\n",
      "==================================\u001b[1m Ai Message \u001b[0m==================================\n",
      "Tool Calls:\n",
      "  add (call_FvQX79rDGiArHWLnvNSJnJUo)\n",
      " Call ID: call_FvQX79rDGiArHWLnvNSJnJUo\n",
      "  Args:\n",
      "    a: 2\n",
      "    b: 3\n",
      "  multiply (call_9DysztKSynJfxpPFO6J1BtUK)\n",
      " Call ID: call_9DysztKSynJfxpPFO6J1BtUK\n",
      "  Args:\n",
      "    a: 2\n",
      "    b: 3\n",
      "  subtract (call_naovlRFhWR6hfVXTHGp5yXEu)\n",
      " Call ID: call_naovlRFhWR6hfVXTHGp5yXEu\n",
      "  Args:\n",
      "    a: 3\n",
      "    b: 2\n",
      "=================================\u001b[1m Tool Message \u001b[0m=================================\n",
      "Name: add\n",
      "\n",
      "5.0\n",
      "=================================\u001b[1m Tool Message \u001b[0m=================================\n",
      "Name: multiply\n",
      "\n",
      "Error: multiply is not a valid tool, try one of [add, subtract].\n",
      "=================================\u001b[1m Tool Message \u001b[0m=================================\n",
      "Name: subtract\n",
      "\n",
      "1.0\n",
      "==================================\u001b[1m Ai Message \u001b[0m==================================\n",
      "\n",
      "I encountered an error while trying to multiply 2 and 3. Let me correct that and provide you with the results for the addition, multiplication, and subtraction operations.\n",
      "\n",
      "The result of adding 2 and 3 is 5.\n",
      "\n",
      "The result of subtracting 2 from 3 is 1.\n"
     ]
    }
   ],
   "source": [
    "from pprint import pprint\n",
    "\n",
    "resposne = graph.invoke({\"messages\": [HumanMessage(content = \"Add 2 and 3. Multiply 2 and 3. Subtract 2 from 3.\")]})\n",
    "for m in resposne['messages']:\n",
    "    m.pretty_print()"
   ]
  },
  {
   "cell_type": "markdown",
   "id": "15ba76c5",
   "metadata": {},
   "source": [
    "## **Agent memory**"
   ]
  },
  {
   "cell_type": "code",
   "execution_count": 25,
   "id": "fb8aabd6",
   "metadata": {},
   "outputs": [
    {
     "name": "stdout",
     "output_type": "stream",
     "text": [
      "================================\u001b[1m Human Message \u001b[0m=================================\n",
      "\n",
      "Add 2 and 3.\n",
      "==================================\u001b[1m Ai Message \u001b[0m==================================\n",
      "Tool Calls:\n",
      "  add (call_5Q37HAdPK2MR0WPwn5ZfYmJE)\n",
      " Call ID: call_5Q37HAdPK2MR0WPwn5ZfYmJE\n",
      "  Args:\n",
      "    a: 2\n",
      "    b: 3\n",
      "=================================\u001b[1m Tool Message \u001b[0m=================================\n",
      "Name: add\n",
      "\n",
      "5.0\n",
      "==================================\u001b[1m Ai Message \u001b[0m==================================\n",
      "\n",
      "The sum of 2 and 3 is 5.\n"
     ]
    }
   ],
   "source": [
    "from pprint import pprint\n",
    "\n",
    "resposne = graph.invoke({\"messages\": [HumanMessage(content = \"Add 2 and 3.\")]})\n",
    "for m in resposne['messages']:\n",
    "    m.pretty_print()"
   ]
  },
  {
   "cell_type": "code",
   "execution_count": 26,
   "id": "6e9f87ce",
   "metadata": {},
   "outputs": [
    {
     "name": "stdout",
     "output_type": "stream",
     "text": [
      "================================\u001b[1m Human Message \u001b[0m=================================\n",
      "\n",
      "Take that sum and add 16.\n",
      "==================================\u001b[1m Ai Message \u001b[0m==================================\n",
      "Tool Calls:\n",
      "  add (call_djZI2k7my4KxNaSmQifQ3Sjg)\n",
      " Call ID: call_djZI2k7my4KxNaSmQifQ3Sjg\n",
      "  Args:\n",
      "    a: 16\n",
      "    b: 16\n",
      "=================================\u001b[1m Tool Message \u001b[0m=================================\n",
      "Name: add\n",
      "\n",
      "32.0\n",
      "==================================\u001b[1m Ai Message \u001b[0m==================================\n",
      "Tool Calls:\n",
      "  add (call_VhN4v2TtTy5zdX6OiIXOdwXw)\n",
      " Call ID: call_VhN4v2TtTy5zdX6OiIXOdwXw\n",
      "  Args:\n",
      "    a: 32\n",
      "    b: 16\n",
      "=================================\u001b[1m Tool Message \u001b[0m=================================\n",
      "Name: add\n",
      "\n",
      "48.0\n",
      "==================================\u001b[1m Ai Message \u001b[0m==================================\n",
      "\n",
      "The sum of 16 and 16 is 32. Adding 16 to that sum gives a total of 48.\n"
     ]
    }
   ],
   "source": [
    "resposne = graph.invoke({\"messages\": [HumanMessage(content = \"Take that sum and add 16.\")]})\n",
    "for m in resposne['messages']:\n",
    "    m.pretty_print()"
   ]
  },
  {
   "cell_type": "markdown",
   "id": "2b8ad39c",
   "metadata": {},
   "source": [
    "### **Memory**"
   ]
  },
  {
   "cell_type": "code",
   "execution_count": 33,
   "id": "b7d1d2f5",
   "metadata": {},
   "outputs": [
    {
     "name": "stdout",
     "output_type": "stream",
     "text": [
      "================================\u001b[1m Human Message \u001b[0m=================================\n",
      "\n",
      "Add 2 and 3.\n",
      "==================================\u001b[1m Ai Message \u001b[0m==================================\n",
      "Tool Calls:\n",
      "  add (call_b548nOCEuE8tbL4krdOYlDtr)\n",
      " Call ID: call_b548nOCEuE8tbL4krdOYlDtr\n",
      "  Args:\n",
      "    a: 2\n",
      "    b: 3\n",
      "=================================\u001b[1m Tool Message \u001b[0m=================================\n",
      "Name: add\n",
      "\n",
      "5.0\n",
      "==================================\u001b[1m Ai Message \u001b[0m==================================\n",
      "\n",
      "The sum of 2 and 3 is 5.\n"
     ]
    }
   ],
   "source": [
    "from langgraph.checkpoint.memory import MemorySaver\n",
    "\n",
    "memory = MemorySaver()\n",
    "graph_wMemory = builder.compile(checkpointer = memory)\n",
    "config = {\"configurable\": {\"thread_id\": \"1\"}}\n",
    "\n",
    "resposne = graph_wMemory.invoke({\"messages\": [HumanMessage(content = \"Add 2 and 3.\")]}, config)\n",
    "for m in resposne['messages']:\n",
    "    m.pretty_print()"
   ]
  },
  {
   "cell_type": "code",
   "execution_count": 34,
   "id": "a5604cc2",
   "metadata": {},
   "outputs": [
    {
     "name": "stdout",
     "output_type": "stream",
     "text": [
      "================================\u001b[1m Human Message \u001b[0m=================================\n",
      "\n",
      "Add 2 and 3.\n",
      "==================================\u001b[1m Ai Message \u001b[0m==================================\n",
      "Tool Calls:\n",
      "  add (call_b548nOCEuE8tbL4krdOYlDtr)\n",
      " Call ID: call_b548nOCEuE8tbL4krdOYlDtr\n",
      "  Args:\n",
      "    a: 2\n",
      "    b: 3\n",
      "=================================\u001b[1m Tool Message \u001b[0m=================================\n",
      "Name: add\n",
      "\n",
      "5.0\n",
      "==================================\u001b[1m Ai Message \u001b[0m==================================\n",
      "\n",
      "The sum of 2 and 3 is 5.\n",
      "================================\u001b[1m Human Message \u001b[0m=================================\n",
      "\n",
      "Add that by 16.\n",
      "==================================\u001b[1m Ai Message \u001b[0m==================================\n",
      "Tool Calls:\n",
      "  add (call_Wy4n9TPVLnsXqhiTyiQ2NQhj)\n",
      " Call ID: call_Wy4n9TPVLnsXqhiTyiQ2NQhj\n",
      "  Args:\n",
      "    a: 5\n",
      "    b: 16\n",
      "=================================\u001b[1m Tool Message \u001b[0m=================================\n",
      "Name: add\n",
      "\n",
      "21.0\n",
      "==================================\u001b[1m Ai Message \u001b[0m==================================\n",
      "\n",
      "The result of adding 5 and 16 is 21.\n"
     ]
    }
   ],
   "source": [
    "resposne = graph_wMemory.invoke({\"messages\": [HumanMessage(content = \"Add that by 16.\")]}, config)\n",
    "for m in resposne['messages']:\n",
    "    m.pretty_print()"
   ]
  }
 ],
 "metadata": {
  "kernelspec": {
   "display_name": "Python 3",
   "language": "python",
   "name": "python3"
  },
  "language_info": {
   "codemirror_mode": {
    "name": "ipython",
    "version": 3
   },
   "file_extension": ".py",
   "mimetype": "text/x-python",
   "name": "python",
   "nbconvert_exporter": "python",
   "pygments_lexer": "ipython3",
   "version": "3.10.0"
  }
 },
 "nbformat": 4,
 "nbformat_minor": 5
}
