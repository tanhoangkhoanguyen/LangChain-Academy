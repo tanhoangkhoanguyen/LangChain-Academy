{
 "cells": [
  {
   "cell_type": "markdown",
   "id": "8f86a2f1",
   "metadata": {},
   "source": [
    "## **Parallel node execution**"
   ]
  },
  {
   "cell_type": "code",
   "execution_count": 4,
   "id": "aab3c851",
   "metadata": {},
   "outputs": [],
   "source": [
    "import warnings\n",
    "warnings.filterwarnings(\"ignore\")\n",
    "\n",
    "from typing import TypedDict, Annotated\n",
    "import operator\n",
    "from langgraph.graph import StateGraph, END\n",
    "from IPython.display import display, Image"
   ]
  },
  {
   "cell_type": "markdown",
   "id": "29456c39",
   "metadata": {},
   "source": [
    "### **Fan in and fan out**"
   ]
  },
  {
   "cell_type": "code",
   "execution_count": 11,
   "id": "bd290553",
   "metadata": {},
   "outputs": [
    {
     "data": {
      "image/png": "[encoded data removed]",
      "text/plain": [
       "<IPython.core.display.Image object>"
      ]
     },
     "metadata": {},
     "output_type": "display_data"
    }
   ],
   "source": [
    "class State(TypedDict):\n",
    "    messages: Annotated[list, operator.add]\n",
    "\n",
    "\n",
    "class ReturnNodeMessage:\n",
    "    def __init__ (self, letter: str):\n",
    "        self.message = letter\n",
    "    \n",
    "    def __call__ (self, state):\n",
    "        print (f\"Adding {self.message} to {state['messages']}\")\n",
    "        return {\"messages\": [self.message]}\n",
    "    \n",
    "\n",
    "builder = StateGraph(State)\n",
    "builder.add_node(\"a\", ReturnNodeMessage('a'))\n",
    "builder.add_node(\"b1\", ReturnNodeMessage('b1'))\n",
    "builder.add_node(\"b2\", ReturnNodeMessage('b2'))\n",
    "builder.add_node(\"c\", ReturnNodeMessage('c'))\n",
    "builder.add_node(\"d\", ReturnNodeMessage('d'))\n",
    "\n",
    "builder.set_entry_point(\"a\")\n",
    "builder.add_edge(\"a\", \"b1\")\n",
    "builder.add_edge(\"b1\", \"b2\")\n",
    "builder.add_edge(\"a\", \"c\")\n",
    "builder.add_edge(\"b2\", \"d\")\n",
    "builder.add_edge(\"c\", \"d\")\n",
    "builder.add_edge(\"d\", END)\n",
    "\n",
    "\n",
    "graph = builder.compile()\n",
    "display(Image(graph.get_graph().draw_mermaid_png()))"
   ]
  },
  {
   "cell_type": "code",
   "execution_count": 12,
   "id": "8ea318f6",
   "metadata": {},
   "outputs": [
    {
     "name": "stdout",
     "output_type": "stream",
     "text": [
      "Adding a to []\n",
      "Adding b1 to ['a']\n",
      "Adding c to ['a']\n",
      "Adding b2 to ['a', 'b1', 'c']\n",
      "Adding d to ['a', 'b1', 'c']\n",
      "Adding d to ['a', 'b1', 'c', 'b2', 'd']\n"
     ]
    },
    {
     "data": {
      "text/plain": [
       "{'messages': ['a', 'b1', 'c', 'b2', 'd', 'd']}"
      ]
     },
     "execution_count": 12,
     "metadata": {},
     "output_type": "execute_result"
    }
   ],
   "source": [
    "graph.invoke({'state': []})"
   ]
  },
  {
   "cell_type": "markdown",
   "id": "4cbbb308",
   "metadata": {},
   "source": [
    "### **Setting the order of state updates**\n",
    "It is a deterministic order determined by LangGraph based upon graph topology that **we do not control**. \n",
    "\n",
    "Above, we see that `c` is added before `b2`. We can use a custom reducer to customize this e.g., sort state updates."
   ]
  },
  {
   "cell_type": "code",
   "execution_count": 16,
   "id": "7cc3b591",
   "metadata": {},
   "outputs": [
    {
     "data": {
      "image/png": "[encoded data removed]",
      "text/plain": [
       "<IPython.core.display.Image object>"
      ]
     },
     "metadata": {},
     "output_type": "display_data"
    }
   ],
   "source": [
    "def sorting_reducer(left, right):\n",
    "    if not isinstance(left, list):\n",
    "        left = [left]\n",
    "\n",
    "    if not isinstance(right, list):\n",
    "        right = [right]\n",
    "    \n",
    "    return sorted(left + right, reverse = False)\n",
    "\n",
    "\n",
    "class State(TypedDict):\n",
    "    messages: Annotated[list, sorting_reducer]\n",
    "\n",
    "\n",
    "builder = StateGraph(State)\n",
    "builder.add_node(\"a\", ReturnNodeMessage('a'))\n",
    "builder.add_node(\"b1\", ReturnNodeMessage('b1'))\n",
    "builder.add_node(\"b2\", ReturnNodeMessage('b2'))\n",
    "builder.add_node(\"c\", ReturnNodeMessage('c'))\n",
    "builder.add_node(\"d\", ReturnNodeMessage('d'))\n",
    "\n",
    "builder.set_entry_point(\"a\")\n",
    "builder.add_edge(\"a\", \"b1\")\n",
    "builder.add_edge(\"b1\", \"b2\")\n",
    "builder.add_edge(\"a\", \"c\")\n",
    "builder.add_edge(\"b2\", \"d\")\n",
    "builder.add_edge(\"c\", \"d\")\n",
    "builder.add_edge(\"d\", END)\n",
    "\n",
    "\n",
    "graph = builder.compile()\n",
    "display(Image(graph.get_graph().draw_mermaid_png()))"
   ]
  },
  {
   "cell_type": "code",
   "execution_count": 17,
   "id": "e92ae3ab",
   "metadata": {},
   "outputs": [
    {
     "name": "stdout",
     "output_type": "stream",
     "text": [
      "Adding a to []\n",
      "Adding b1 to ['a']\n",
      "Adding c to ['a']\n",
      "Adding b2 to ['a', 'b1', 'c']\n",
      "Adding d to ['a', 'b1', 'c']\n",
      "Adding d to ['a', 'b1', 'b2', 'c', 'd']\n"
     ]
    },
    {
     "data": {
      "text/plain": [
       "{'messages': ['a', 'b1', 'b2', 'c', 'd', 'd']}"
      ]
     },
     "execution_count": 17,
     "metadata": {},
     "output_type": "execute_result"
    }
   ],
   "source": [
    "graph.invoke({'messages': []})"
   ]
  },
  {
   "cell_type": "markdown",
   "id": "69b6527c",
   "metadata": {},
   "source": [
    "## **Sub-graphs**\n",
    "![subgraph.png](https://cdn.prod.website-files.com/65b8cd72835ceeacd4449a53/66dbb1abf89f2d847ee6f1ff_sub-graph1.png)"
   ]
  },
  {
   "cell_type": "code",
   "execution_count": null,
   "id": "b2908f1a",
   "metadata": {},
   "outputs": [],
   "source": [
    "import warnings\n",
    "warnings.filterwarnings(\"ignore\")\n",
    "\n",
    "from typing import TypedDict, Optional, List\n",
    "from langgraph.graph import StateGraph\n",
    "import operator\n",
    "from IPython.display import Image, display"
   ]
  },
  {
   "cell_type": "markdown",
   "id": "8ee43d35",
   "metadata": {},
   "source": [
    "### **Input**"
   ]
  },
  {
   "cell_type": "code",
   "execution_count": null,
   "id": "005c63f2",
   "metadata": {},
   "outputs": [],
   "source": [
    "class Log(TypedDict):\n",
    "    id: str\n",
    "    question: str\n",
    "    docs: Optional[List]\n",
    "    answer: str\n",
    "    grade: Optional[int]\n",
    "    grader: Optional[str]\n",
    "    feedback: Optional[str]"
   ]
  },
  {
   "cell_type": "markdown",
   "id": "49e3d22e",
   "metadata": {},
   "source": [
    "### **Sub graphs**"
   ]
  },
  {
   "cell_type": "code",
   "execution_count": 38,
   "id": "398530be",
   "metadata": {},
   "outputs": [
    {
     "data": {
      "image/png": "[encoded data removed]",
      "text/plain": [
       "<IPython.core.display.Image object>"
      ]
     },
     "metadata": {},
     "output_type": "display_data"
    }
   ],
   "source": [
    "class FailureAnalysisState(TypedDict):\n",
    "    cleaned_logs: List[Log]\n",
    "    failures: List[Log]\n",
    "    fa_summary: str\n",
    "    processed_logs: List[str]\n",
    "\n",
    "class FailureAnalysisOutputState(TypedDict):\n",
    "    fa_summary: str\n",
    "    processed_logs: List[str]\n",
    "\n",
    "\n",
    "def get_failures(state):\n",
    "    cleaned_logs = state[\"cleaned_logs\"]\n",
    "    failures = [log for log in cleaned_logs if \"grade\" in log]\n",
    "    return {\"failures\": failures}\n",
    "\n",
    "def generate_summary(state):\n",
    "    failures = state[\"failures\"]\n",
    "    fa_summary = \"Poor quality retrieval of Chroma documentation.\"\n",
    "    return {\"fa_summary\": fa_summary, \"processed_logs\": [f\"failure-analysis-on-log-{failure['id']}\" for failure in failures]}\n",
    "\n",
    "\n",
    "fa_builder = StateGraph(FailureAnalysisState, output = FailureAnalysisOutputState)\n",
    "fa_builder.add_node(\"get_failures\", get_failures)\n",
    "fa_builder.add_node(\"generate_summary\", generate_summary)\n",
    "\n",
    "fa_builder.set_entry_point(\"get_failures\")\n",
    "fa_builder.add_edge(\"get_failures\", \"generate_summary\")\n",
    "fa_builder.set_finish_point(\"generate_summary\")\n",
    "\n",
    "\n",
    "graph = fa_builder.compile()\n",
    "display(Image(graph.get_graph().draw_mermaid_png()))"
   ]
  },
  {
   "cell_type": "code",
   "execution_count": 24,
   "id": "521bebe5",
   "metadata": {},
   "outputs": [
    {
     "data": {
      "image/png": "[encoded data removed]",
      "text/plain": [
       "<IPython.core.display.Image object>"
      ]
     },
     "metadata": {},
     "output_type": "display_data"
    }
   ],
   "source": [
    "class QuestionSummarizationState(TypedDict):\n",
    "    cleaned_logs: List[Log]\n",
    "    report: str\n",
    "    qs_summary: str\n",
    "    processed_logs: List[str]\n",
    "\n",
    "class QuestionSummarizationOutputState(TypedDict):\n",
    "    report: str\n",
    "    processed_logs: List[str]\n",
    "\n",
    "\n",
    "def generate_summary(state):\n",
    "    cleaned_logs = state[\"cleaned_logs\"]\n",
    "    summary = \"Questions focused on usage of ChatOllama and Chroma vector store.\"\n",
    "    return {\"qs_summary\": summary, \"processed_logs\": [f\"summary-on-log-{log['id']}\" for log in cleaned_logs]}\n",
    "\n",
    "def send_to_slack(state):\n",
    "    report = \"foo bar baz\"\n",
    "    return {\"report\": report}\n",
    "\n",
    "\n",
    "qs_builder = StateGraph(QuestionSummarizationState, output = QuestionSummarizationOutputState)\n",
    "qs_builder.add_node(\"generate_summary\", generate_summary)\n",
    "qs_builder.add_node(\"send_to_slack\", send_to_slack)\n",
    "\n",
    "qs_builder.set_entry_point(\"generate_summary\")\n",
    "qs_builder.add_edge(\"generate_summary\", \"send_to_slack\")\n",
    "qs_builder.set_finish_point(\"send_to_slack\")\n",
    "\n",
    "\n",
    "graph = qs_builder.compile()\n",
    "display(Image(graph.get_graph().draw_mermaid_png()))"
   ]
  },
  {
   "cell_type": "markdown",
   "id": "9b0a1771",
   "metadata": {},
   "source": [
    "### **Adding sub graphs to our parent graph**"
   ]
  },
  {
   "cell_type": "code",
   "execution_count": 39,
   "id": "57b8a174",
   "metadata": {},
   "outputs": [
    {
     "data": {
      "image/png": "[encoded data removed]",
      "text/plain": [
       "<IPython.core.display.Image object>"
      ]
     },
     "metadata": {},
     "output_type": "display_data"
    }
   ],
   "source": [
    "# Entry Graph\n",
    "class EntryGraphState(TypedDict):\n",
    "    raw_logs: List[Log]\n",
    "    cleaned_logs: List[Log]\n",
    "    fa_summary: str # This will only be generated in the FA sub-graph\n",
    "    report: str     # This will only be generated in the QS sub-graph\n",
    "    processed_logs: Annotated[List[int], operator.add] # This will be generated in BOTH sub-graphs\n",
    "    \n",
    "\n",
    "def clean_logs(state):\n",
    "    raw_logs = state[\"raw_logs\"]\n",
    "    cleaned_logs = raw_logs\n",
    "    return {\"cleaned_logs\": cleaned_logs}\n",
    "\n",
    "\n",
    "entry_builder = StateGraph(EntryGraphState)\n",
    "entry_builder.add_node(\"clean_logs\", clean_logs)\n",
    "entry_builder.add_node(\"question_summarization\", qs_builder.compile())\n",
    "entry_builder.add_node(\"failure_analysis\", fa_builder.compile())\n",
    "\n",
    "entry_builder.set_entry_point(\"clean_logs\")\n",
    "entry_builder.add_edge(\"clean_logs\", \"failure_analysis\")\n",
    "entry_builder.add_edge(\"clean_logs\", \"question_summarization\")\n",
    "entry_builder.set_finish_point(\"failure_analysis\")\n",
    "entry_builder.set_finish_point(\"question_summarization\")\n",
    "\n",
    "\n",
    "graph = entry_builder.compile()\n",
    "display(Image(graph.get_graph(xray = True).draw_mermaid_png()))"
   ]
  },
  {
   "cell_type": "code",
   "execution_count": 40,
   "id": "e085cee4",
   "metadata": {},
   "outputs": [
    {
     "data": {
      "text/plain": [
       "{'raw_logs': [{'id': '1',\n",
       "   'question': 'How can I import ChatOllama?',\n",
       "   'answer': \"To import ChatOllama, use: 'from langchain_community.chat_models import ChatOllama.'\"},\n",
       "  {'id': '2',\n",
       "   'question': 'How can I use Chroma vector store?',\n",
       "   'answer': 'To use Chroma, define: rag_chain = create_retrieval_chain(retriever, question_answer_chain).',\n",
       "   'grade': 0,\n",
       "   'grader': 'Document Relevance Recall',\n",
       "   'feedback': 'The retrieved documents discuss vector stores in general, but not Chroma specifically'}],\n",
       " 'cleaned_logs': [{'id': '1',\n",
       "   'question': 'How can I import ChatOllama?',\n",
       "   'answer': \"To import ChatOllama, use: 'from langchain_community.chat_models import ChatOllama.'\"},\n",
       "  {'id': '2',\n",
       "   'question': 'How can I use Chroma vector store?',\n",
       "   'answer': 'To use Chroma, define: rag_chain = create_retrieval_chain(retriever, question_answer_chain).',\n",
       "   'grade': 0,\n",
       "   'grader': 'Document Relevance Recall',\n",
       "   'feedback': 'The retrieved documents discuss vector stores in general, but not Chroma specifically'}],\n",
       " 'fa_summary': 'Poor quality retrieval of Chroma documentation.',\n",
       " 'report': 'foo bar baz',\n",
       " 'processed_logs': ['failure-analysis-on-log-2',\n",
       "  'summary-on-log-1',\n",
       "  'summary-on-log-2']}"
      ]
     },
     "execution_count": 40,
     "metadata": {},
     "output_type": "execute_result"
    }
   ],
   "source": [
    "# Dummy logs\n",
    "question_answer = Log(\n",
    "    id = \"1\",\n",
    "    question = \"How can I import ChatOllama?\",\n",
    "    answer = \"To import ChatOllama, use: 'from langchain_community.chat_models import ChatOllama.'\",\n",
    ")\n",
    "\n",
    "question_answer_feedback = Log(\n",
    "    id = \"2\",\n",
    "    question = \"How can I use Chroma vector store?\",\n",
    "    answer = \"To use Chroma, define: rag_chain = create_retrieval_chain(retriever, question_answer_chain).\",\n",
    "    grade = 0,\n",
    "    grader = \"Document Relevance Recall\",\n",
    "    feedback = \"The retrieved documents discuss vector stores in general, but not Chroma specifically\",\n",
    ")\n",
    "\n",
    "raw_logs = [question_answer, question_answer_feedback]\n",
    "graph.invoke({\"raw_logs\": raw_logs})"
   ]
  },
  {
   "cell_type": "markdown",
   "id": "857c3463",
   "metadata": {},
   "source": [
    "## **Map-reduce**"
   ]
  },
  {
   "cell_type": "code",
   "execution_count": 60,
   "id": "356560ba",
   "metadata": {},
   "outputs": [],
   "source": [
    "import warnings\n",
    "warnings.filterwarnings(\"ignore\")\n",
    "\n",
    "from dotenv import load_dotenv, find_dotenv\n",
    "from langchain_openai import ChatOpenAI\n",
    "\n",
    "_ = load_dotenv(find_dotenv())\n",
    "chat = ChatOpenAI(model = 'gpt-3.5-turbo', temperature = 0)\n",
    "\n",
    "from pydantic import BaseModel\n",
    "from typing import TypedDict, Annotated\n",
    "import operator\n",
    "from langgraph.constants import Send\n",
    "from langgraph.graph import StateGraph\n",
    "from IPython.display import display, Image"
   ]
  },
  {
   "cell_type": "markdown",
   "id": "c6a487c0",
   "metadata": {},
   "source": [
    "### **Problem**\n",
    "Map-reduce operations are essential for efficient task decomposition and parallel processing. \n",
    "\n",
    "It has two phases:\n",
    "\n",
    "1. `Map` - Break a task into smaller sub-tasks, processing each sub-task in parallel.\n",
    "2. `Reduce` - Aggregate the results across all of the completed, parallelized sub-tasks."
   ]
  },
  {
   "cell_type": "code",
   "execution_count": 61,
   "id": "c7e92957",
   "metadata": {},
   "outputs": [],
   "source": [
    "subjects_prompt = \"\"\"Generate a list of 3 sub-topics that are all related to this overall topic: {topic}.\"\"\"\n",
    "joke_prompt = \"\"\"Generate a joke about {subsubject}\"\"\"\n",
    "best_joke_prompt = \"\"\"Below are a bunch of jokes about {topic}. Select the best one! Return the ID of the best one, starting 0 as the ID for the first joke. Jokes: \\n\\n  {jokes}\"\"\""
   ]
  },
  {
   "cell_type": "markdown",
   "id": "2563e9a3",
   "metadata": {},
   "source": [
    "### **State**\n",
    "#### **Parallelizing joke generation**"
   ]
  },
  {
   "cell_type": "code",
   "execution_count": 62,
   "id": "181a8af6",
   "metadata": {},
   "outputs": [],
   "source": [
    "class Subjects(BaseModel):\n",
    "    subjects: list[str]\n",
    "\n",
    "class BestJoke(BaseModel):\n",
    "    id: int\n",
    "    \n",
    "class OverallState(TypedDict):\n",
    "    topic: str\n",
    "    subjects: list\n",
    "    jokes: Annotated[list, operator.add]\n",
    "    best_selected_joke: str"
   ]
  },
  {
   "cell_type": "code",
   "execution_count": 63,
   "id": "f7f73b24",
   "metadata": {},
   "outputs": [],
   "source": [
    "def generate_topics(state: OverallState):\n",
    "    prompt = subjects_prompt.format(topic = state[\"topic\"])\n",
    "\n",
    "    chain = chat.with_structured_output(Subjects)\n",
    "    response = chain.invoke(prompt)\n",
    "    \n",
    "    return {\"subjects\": response.subjects}"
   ]
  },
  {
   "cell_type": "markdown",
   "id": "bf6b2355",
   "metadata": {},
   "source": [
    "[Send](https://langchain-ai.github.io/langgraph/concepts/low_level/#send) automatically parallelize joke generation for any number of subjects.\n",
    "- `generate_joke`: the name of the node in the graph\n",
    "- `{\"subject\": s}`: the state to send\n",
    "\n",
    "`Send` allow you to pass any state that you want to `generate_joke`! It does not have to align with `OverallState`.\n",
    "\n",
    "In this case, `generate_joke` is using its own internal state, and we can populate this via `Send`."
   ]
  },
  {
   "cell_type": "code",
   "execution_count": 64,
   "id": "2570b155",
   "metadata": {},
   "outputs": [],
   "source": [
    "def continue_to_jokes(state: OverallState):\n",
    "    return [Send(\"generate_joke\", {\"subject\": s}) for s in state[\"subjects\"]]"
   ]
  },
  {
   "cell_type": "markdown",
   "id": "b529d122",
   "metadata": {},
   "source": [
    "### **Joke generation (map)**"
   ]
  },
  {
   "cell_type": "code",
   "execution_count": 65,
   "id": "6c2ae33b",
   "metadata": {},
   "outputs": [],
   "source": [
    "class JokeState(TypedDict):\n",
    "    subject: str\n",
    "\n",
    "class Joke(BaseModel):\n",
    "    joke: str\n",
    "\n",
    "def generate_joke(state: JokeState):\n",
    "    prompt = joke_prompt.format(subsubject = state[\"subject\"])\n",
    "\n",
    "    chain = chat.with_structured_output(Joke)\n",
    "    response = chain.invoke(prompt)\n",
    "    \n",
    "    return {\"jokes\": [response.joke]}"
   ]
  },
  {
   "cell_type": "markdown",
   "id": "a606c0f1",
   "metadata": {},
   "source": [
    "### **Best joke selection (reduce)**"
   ]
  },
  {
   "cell_type": "code",
   "execution_count": 66,
   "id": "151e553a",
   "metadata": {},
   "outputs": [],
   "source": [
    "def best_joke(state: OverallState):\n",
    "    jokes = \"\\n\\n\".join(state[\"jokes\"])\n",
    "    prompt = best_joke_prompt.format(topic = state[\"topic\"], jokes = jokes)\n",
    "\n",
    "    chain = chat.with_structured_output(BestJoke)\n",
    "    response = chain.invoke(prompt)\n",
    "\n",
    "    return {\"best_selected_joke\": state[\"jokes\"][response.id]}"
   ]
  },
  {
   "cell_type": "markdown",
   "id": "2356e5f2",
   "metadata": {},
   "source": [
    "### **Compile**"
   ]
  },
  {
   "cell_type": "code",
   "execution_count": 67,
   "id": "f2316714",
   "metadata": {},
   "outputs": [
    {
     "data": {
      "image/png": "[encoded data removed]",
      "text/plain": [
       "<IPython.core.display.Image object>"
      ]
     },
     "metadata": {},
     "output_type": "display_data"
    }
   ],
   "source": [
    "builder = StateGraph(OverallState)\n",
    "builder.add_node(\"generate_topics\", generate_topics)\n",
    "builder.add_node(\"generate_joke\", generate_joke)\n",
    "builder.add_node(\"best_joke\", best_joke)\n",
    "\n",
    "builder.set_entry_point(\"generate_topics\")\n",
    "builder.add_conditional_edges(\n",
    "    \"generate_topics\", \n",
    "    continue_to_jokes, \n",
    "    [\"generate_joke\"]\n",
    ")\n",
    "builder.add_edge(\"generate_joke\", \"best_joke\")\n",
    "builder.set_finish_point(\"best_joke\")\n",
    "\n",
    "\n",
    "graph = builder.compile()\n",
    "display(Image(graph.get_graph().draw_mermaid_png()))"
   ]
  },
  {
   "cell_type": "code",
   "execution_count": 68,
   "id": "56418757",
   "metadata": {},
   "outputs": [
    {
     "name": "stdout",
     "output_type": "stream",
     "text": [
      "{'generate_topics': {'subjects': ['Mammals', 'Birds', 'Reptiles']}}\n",
      "{'generate_joke': {'jokes': ['Why did the mammal go to the hospital? Because it had a bad case of hiber-knees!']}}\n",
      "{'generate_joke': {'jokes': [\"Why do birds fly south in the winter? Because it's too far to walk!\"]}}\n",
      "{'generate_joke': {'jokes': ['Why did the reptile bring a ladder to the party? Because he heard the drinks were on the house!']}}\n",
      "{'best_joke': {'best_selected_joke': 'Why did the mammal go to the hospital? Because it had a bad case of hiber-knees!'}}\n"
     ]
    }
   ],
   "source": [
    "for event in graph.stream({\"topic\": \"animals\"}): # By default, stream_mode is update\n",
    "    print(event)"
   ]
  },
  {
   "cell_type": "markdown",
   "id": "145bef9d",
   "metadata": {},
   "source": [
    "## **Research Assistant**"
   ]
  },
  {
   "cell_type": "code",
   "execution_count": 38,
   "id": "0478edd0",
   "metadata": {},
   "outputs": [],
   "source": [
    "import warnings\n",
    "warnings.filterwarnings(\"ignore\")\n",
    "\n",
    "\n",
    "from dotenv import load_dotenv, find_dotenv\n",
    "from langchain_openai import ChatOpenAI\n",
    "from langchain_community.tools.tavily_search import TavilySearchResults\n",
    "from langchain_community.document_loaders import WikipediaLoader\n",
    "\n",
    "_ = load_dotenv(find_dotenv())\n",
    "chat = ChatOpenAI(model = 'gpt-3.5-turbo', temperature = 0)\n",
    "\n",
    "\n",
    "from pydantic import BaseModel, Field\n",
    "from typing import List, TypedDict, Annotated\n",
    "from langchain_core.messages import SystemMessage, HumanMessage, AIMessage, AnyMessage\n",
    "from langgraph.graph.message import add_messages\n",
    "import operator\n",
    "\n",
    "\n",
    "from langchain_core.messages import get_buffer_string\n",
    "from langgraph.constants import Send\n",
    "\n",
    "\n",
    "from langgraph.graph import StateGraph, END\n",
    "from langgraph.checkpoint.memory import MemorySaver\n",
    "from IPython.display import display, Image, Markdown"
   ]
  },
  {
   "cell_type": "markdown",
   "id": "be84e2b6",
   "metadata": {},
   "source": [
    "### **Generate Analysts: Human-In-The-Loop**"
   ]
  },
  {
   "cell_type": "code",
   "execution_count": 15,
   "id": "9201e5d8",
   "metadata": {},
   "outputs": [],
   "source": [
    "class Analyst(BaseModel):\n",
    "    name: str = Field(description = \"Name of the analyst.\")\n",
    "    role: str = Field(description = \"Role of the analyst in the context of the topic.\")\n",
    "    affiliation: str = Field(description = \"Primary affiliation of the analyst.\")\n",
    "    description: str = Field(description=\"Description of the analyst focus, concerns, and motives.\")\n",
    "    \n",
    "    def persona(self) -> str:\n",
    "        return f\"Name: {self.name}\\nRole: {self.role}\\nAffiliation: {self.affiliation}\\nDescription: {self.description}\\n\"\n",
    "\n",
    "class Perspectives(BaseModel):\n",
    "    analysts: List[Analyst] = Field(description = \"Comprehensive list of analysts with their roles and affiliations.\")\n",
    "\n",
    "class GenerateAnalystsState(TypedDict):\n",
    "    topic: str                   # Research topic\n",
    "    max_analysts: int            # Number of analysts\n",
    "    human_analyst_feedback: str  # Human feedback\n",
    "    analysts: List[Analyst]      # Analyst asking questions"
   ]
  },
  {
   "cell_type": "code",
   "execution_count": 16,
   "id": "88db3aec",
   "metadata": {},
   "outputs": [
    {
     "data": {
      "image/png": "[encoded data removed]",
      "text/plain": [
       "<IPython.core.display.Image object>"
      ]
     },
     "metadata": {},
     "output_type": "display_data"
    }
   ],
   "source": [
    "analyst_instructions = \"\"\"\n",
    "You are tasked with creating a set of AI analyst personas. Follow these instructions carefully:\n",
    "1. First, review the research topic: {topic}\n",
    "2. Examine any editorial feedback that has been optionally provided to guide creation of the analysts: {human_analyst_feedback}\n",
    "3. Determine the most interesting themes based upon documents and / or feedback above.\n",
    "4. Pick the top {max_analysts} themes.\n",
    "5. Assign one analyst to each theme.\n",
    "\"\"\"\n",
    "\n",
    "\n",
    "def create_analysts(state: GenerateAnalystsState):\n",
    "    topic = state['topic']\n",
    "    max_analysts = state['max_analysts']\n",
    "    human_analyst_feedback = state.get('human_analyst_feedback', '')\n",
    "\n",
    "    message = analyst_instructions.format(\n",
    "                    topic = topic,\n",
    "                    human_analyst_feedback = human_analyst_feedback, \n",
    "                    max_analysts = max_analysts\n",
    "                )\n",
    "    \n",
    "    chain = chat.with_structured_output(Perspectives)\n",
    "    analysts = chain.invoke([\n",
    "                    SystemMessage(content = message),\n",
    "                    HumanMessage(content = \"Generate the set of analysts.\")\n",
    "                ])\n",
    "    \n",
    "    return {\"analysts\": analysts.analysts}\n",
    "\n",
    "def human_feedback(state: GenerateAnalystsState):\n",
    "    \"\"\"\n",
    "        No-op node that should be interrupted on \n",
    "    \"\"\"\n",
    "    pass\n",
    "\n",
    "def should_continue(state: GenerateAnalystsState):\n",
    "    \"\"\" \n",
    "        Return the next node to execute \n",
    "    \"\"\"\n",
    "    human_analyst_feedback = state.get('human_analyst_feedback', None)\n",
    "    return \"create_analysts\" if human_analyst_feedback else END\n",
    "\n",
    "\n",
    "builder = StateGraph(GenerateAnalystsState)\n",
    "builder.add_node(\"create_analysts\", create_analysts)\n",
    "builder.add_node(\"human_feedback\", human_feedback)\n",
    "\n",
    "builder.set_entry_point(\"create_analysts\")\n",
    "builder.add_edge(\"create_analysts\", \"human_feedback\")\n",
    "builder.add_conditional_edges(\n",
    "    \"human_feedback\", \n",
    "    should_continue, \n",
    "    [\"create_analysts\", END]\n",
    ")\n",
    "\n",
    "\n",
    "memory = MemorySaver()\n",
    "graph = builder.compile(interrupt_before = ['human_feedback'], checkpointer = memory)\n",
    "display(Image(graph.get_graph().draw_mermaid_png()))"
   ]
  },
  {
   "cell_type": "code",
   "execution_count": 17,
   "id": "09c2dafa",
   "metadata": {},
   "outputs": [
    {
     "name": "stdout",
     "output_type": "stream",
     "text": [
      "Name: Sophia Watson\n",
      "Affiliation: Tech Research Institute\n",
      "Role: AI Research Scientist\n",
      "Description: Sophia is a seasoned AI research scientist with a focus on agent frameworks. She is interested in the technical aspects of LangGraph and its potential applications in AI systems.\n",
      "--------------------------------------------------\n",
      "Name: Ethan Chen\n",
      "Affiliation: Data Analytics Solutions\n",
      "Role: Data Analyst\n",
      "Description: Ethan is a data analyst with a keen interest in the practical implications of adopting LangGraph as an agent framework. He focuses on the benefits of using LangGraph for data analysis and visualization.\n",
      "--------------------------------------------------\n",
      "Name: Ava Patel\n",
      "Affiliation: Ethical AI Foundation\n",
      "Role: AI Ethics Researcher\n",
      "Description: Ava is an AI ethics researcher who examines the ethical considerations of using LangGraph as an agent framework. She is concerned with the implications of bias and fairness in AI systems.\n",
      "--------------------------------------------------\n"
     ]
    }
   ],
   "source": [
    "max_analysts = 3 \n",
    "topic = \"The benefits of adopting LangGraph as an agent framework\"\n",
    "thread = {\"configurable\": {\"thread_id\": \"1\"}}\n",
    "\n",
    "for event in graph.stream({\"topic\": topic, \"max_analysts\": max_analysts}, thread, stream_mode = \"values\"):\n",
    "    analysts = event.get('analysts', '')\n",
    "    if analysts:\n",
    "        for analyst in analysts:\n",
    "            print(f\"Name: {analyst.name}\")\n",
    "            print(f\"Affiliation: {analyst.affiliation}\")\n",
    "            print(f\"Role: {analyst.role}\")\n",
    "            print(f\"Description: {analyst.description}\")\n",
    "            print(\"-\" * 50)  "
   ]
  },
  {
   "cell_type": "code",
   "execution_count": 18,
   "id": "d5eaaf45",
   "metadata": {},
   "outputs": [
    {
     "name": "stdout",
     "output_type": "stream",
     "text": [
      "Name: Sophia Watson\n",
      "Affiliation: Tech Research Institute\n",
      "Role: AI Research Scientist\n",
      "Description: Sophia is a seasoned AI research scientist with a focus on agent frameworks. She is interested in the technical aspects of LangGraph and its potential applications in AI systems.\n",
      "--------------------------------------------------\n",
      "Name: Ethan Chen\n",
      "Affiliation: Data Analytics Solutions\n",
      "Role: Data Analyst\n",
      "Description: Ethan is a data analyst with a keen interest in the practical implications of adopting LangGraph as an agent framework. He focuses on the benefits of using LangGraph for data analysis and visualization.\n",
      "--------------------------------------------------\n",
      "Name: Ava Patel\n",
      "Affiliation: Ethical AI Foundation\n",
      "Role: AI Ethics Researcher\n",
      "Description: Ava is an AI ethics researcher who examines the ethical considerations of using LangGraph as an agent framework. She is concerned with the implications of bias and fairness in AI systems.\n",
      "--------------------------------------------------\n",
      "Name: Sophia Chen\n",
      "Affiliation: Stanford University\n",
      "Role: AI Researcher\n",
      "Description: Sophia is a leading AI researcher at Stanford University, specializing in agent frameworks and their applications in various domains. She is particularly interested in the technical aspects of LangGraph and its potential impact on AI development.\n",
      "--------------------------------------------------\n",
      "Name: David Kim\n",
      "Affiliation: Google Research\n",
      "Role: Data Scientist\n",
      "Description: David is a data scientist at Google Research with a focus on natural language processing and machine learning. He is intrigued by the benefits of adopting LangGraph as an agent framework and its implications for enhancing AI capabilities.\n",
      "--------------------------------------------------\n",
      "Name: Emily Patel\n",
      "Affiliation: TechBloom\n",
      "Role: Startup Founder\n",
      "Description: Emily is the founder of a tech startup, TechBloom, which focuses on AI solutions for businesses. She is keen on exploring LangGraph as an agent framework from an entrepreneurial perspective, looking at its potential for innovation and market disruption.\n",
      "--------------------------------------------------\n"
     ]
    }
   ],
   "source": [
    "graph.update_state(\n",
    "    thread, \n",
    "    {\"human_analyst_feedback\": \"Add in someone from a startup to add an entrepreneur perspective\"}, \n",
    "    as_node = \"human_feedback\"\n",
    ")\n",
    "\n",
    "for event in graph.stream(None, thread, stream_mode = \"values\"):\n",
    "    analysts = event.get('analysts', '')\n",
    "    if analysts:\n",
    "        for analyst in analysts:\n",
    "            print(f\"Name: {analyst.name}\")\n",
    "            print(f\"Affiliation: {analyst.affiliation}\")\n",
    "            print(f\"Role: {analyst.role}\")\n",
    "            print(f\"Description: {analyst.description}\")\n",
    "            print(\"-\" * 50) "
   ]
  },
  {
   "cell_type": "code",
   "execution_count": 19,
   "id": "0c86fb09",
   "metadata": {},
   "outputs": [],
   "source": [
    "graph.update_state(\n",
    "    thread, \n",
    "    {\"human_analyst_feedback\": None}, \n",
    "    as_node = \"human_feedback\"\n",
    ")\n",
    "\n",
    "for event in graph.stream(None, thread, stream_mode = \"updates\"):\n",
    "    print(\"--Node--\")\n",
    "    node_name = next(iter(event.keys()))\n",
    "    print(node_name)"
   ]
  },
  {
   "cell_type": "code",
   "execution_count": 20,
   "id": "dd2b5d47",
   "metadata": {},
   "outputs": [
    {
     "data": {
      "text/plain": [
       "()"
      ]
     },
     "execution_count": 20,
     "metadata": {},
     "output_type": "execute_result"
    }
   ],
   "source": [
    "final_state = graph.get_state(thread)\n",
    "final_state.next"
   ]
  },
  {
   "cell_type": "code",
   "execution_count": 21,
   "id": "86c60bb0",
   "metadata": {},
   "outputs": [
    {
     "name": "stdout",
     "output_type": "stream",
     "text": [
      "Name: Sophia Chen\n",
      "Affiliation: Stanford University\n",
      "Role: AI Researcher\n",
      "Description: Sophia is a leading AI researcher at Stanford University, specializing in agent frameworks and their applications in various domains. She is particularly interested in the technical aspects of LangGraph and its potential impact on AI development.\n",
      "--------------------------------------------------\n",
      "Name: David Kim\n",
      "Affiliation: Google Research\n",
      "Role: Data Scientist\n",
      "Description: David is a data scientist at Google Research with a focus on natural language processing and machine learning. He is intrigued by the benefits of adopting LangGraph as an agent framework and its implications for enhancing AI capabilities.\n",
      "--------------------------------------------------\n",
      "Name: Emily Patel\n",
      "Affiliation: TechBloom\n",
      "Role: Startup Founder\n",
      "Description: Emily is the founder of a tech startup, TechBloom, which focuses on AI solutions for businesses. She is keen on exploring LangGraph as an agent framework from an entrepreneurial perspective, looking at its potential for innovation and market disruption.\n",
      "--------------------------------------------------\n"
     ]
    }
   ],
   "source": [
    "analysts = final_state.values.get('analysts')\n",
    "for analyst in analysts:\n",
    "    print(f\"Name: {analyst.name}\")\n",
    "    print(f\"Affiliation: {analyst.affiliation}\")\n",
    "    print(f\"Role: {analyst.role}\")\n",
    "    print(f\"Description: {analyst.description}\")\n",
    "    print(\"-\" * 50) "
   ]
  },
  {
   "cell_type": "markdown",
   "id": "bfd5f0f8",
   "metadata": {},
   "source": [
    "### **Conduct Interview**\n",
    "#### **Generate Question**"
   ]
  },
  {
   "cell_type": "code",
   "execution_count": 22,
   "id": "08c72a45",
   "metadata": {},
   "outputs": [],
   "source": [
    "class InterviewState(TypedDict):\n",
    "    messages: Annotated[List[AnyMessage], add_messages]\n",
    "    max_num_turns: int                     # Number turns of conversation\n",
    "    context: Annotated[list, operator.add] # Source docs\n",
    "    analyst: Analyst                       # Analyst asking questions\n",
    "    interview: str                         # Interview transcript\n",
    "    sections: list                         # Final key we duplicate in outer state for Send() API\n",
    "\n",
    "class SearchQuery(BaseModel):\n",
    "    search_query: str = Field(None, description = \"Search query for retrieval.\")"
   ]
  },
  {
   "cell_type": "code",
   "execution_count": 23,
   "id": "2ad3a82c",
   "metadata": {},
   "outputs": [],
   "source": [
    "question_instructions = \"\"\"\n",
    "You are an analyst tasked with interviewing an expert to learn about a specific topic. \n",
    "Your goal is boil down to interesting and specific insights related to your topic.\n",
    "\n",
    "1. Interesting: Insights that people will find surprising or non-obvious.        \n",
    "2. Specific: Insights that avoid generalities and include specific examples from the expert.\n",
    "\n",
    "Here is your topic of focus and set of goals: {goals}\n",
    "    \n",
    "Begin by introducing yourself using a name that fits your persona, and then ask your question.\n",
    "Continue to ask questions to drill down and refine your understanding of the topic.\n",
    "When you are satisfied with your understanding, complete the interview with: \"Thank you so much for your help!\"\n",
    "Remember to stay in character throughout your response, reflecting the persona and goals provided to you.\n",
    "\"\"\"\n",
    "\n",
    "\n",
    "def generate_question(state: InterviewState):\n",
    "    analyst = state[\"analyst\"]\n",
    "    messages = state[\"messages\"]\n",
    "\n",
    "    system_message = question_instructions.format(goals = analyst.persona)\n",
    "    question = chat.invoke([SystemMessage(content = system_message)] + messages)\n",
    "        \n",
    "    return {\"messages\": [question]}"
   ]
  },
  {
   "cell_type": "markdown",
   "id": "511633e2",
   "metadata": {},
   "source": [
    "### **Generate Answer: Parallelization**\n",
    "We collects information from multiple sources in parallel to answer questions efficiently, such as:\n",
    "- Specific websites using [`WebBaseLoader`](https://python.langchain.com/v0.2/docs/integrations/document_loaders/web_base/)\n",
    "- Indexed documents via [RAG](https://python.langchain.com/v0.2/docs/tutorials/rag/)\n",
    "- Web search (e.g., [Tavily](https://tavily.com/))\n",
    "- Wikipedia search"
   ]
  },
  {
   "cell_type": "code",
   "execution_count": 24,
   "id": "c527e176",
   "metadata": {},
   "outputs": [],
   "source": [
    "tavily_search = TavilySearchResults(max_results = 3)"
   ]
  },
  {
   "cell_type": "code",
   "execution_count": 25,
   "id": "0e8f5c91",
   "metadata": {},
   "outputs": [
    {
     "data": {
      "image/png": "[encoded data removed]",
      "text/plain": [
       "<IPython.core.display.Image object>"
      ]
     },
     "metadata": {},
     "output_type": "display_data"
    }
   ],
   "source": [
    "search_instructions = SystemMessage(content = f\"\"\"\n",
    "    You will be given a conversation between an analyst and an expert. \n",
    "    Your goal is to generate a well-structured query for use in retrieval and / or web-search related to the conversation.        \n",
    "    First, analyze the full conversation.\n",
    "    Pay particular attention to the final question posed by the analyst.\n",
    "    Convert this final question into a well-structured web search query\n",
    "\"\"\")\n",
    "\n",
    "\n",
    "def search_web(state: InterviewState):\n",
    "    chain = chat.with_structured_output(SearchQuery)\n",
    "    search_query = chain.invoke([search_instructions] + state['messages'])\n",
    "    \n",
    "    search_docs = tavily_search.invoke(search_query.search_query)\n",
    "\n",
    "    formatted_search_docs = \"\\n\\n---\\n\\n\".join(\n",
    "        [\n",
    "            f'<Document href=\"{doc[\"url\"]}\"/>\\n{doc[\"content\"]}\\n</Document>'\n",
    "            for doc in search_docs\n",
    "        ]\n",
    "    )\n",
    "    return {\"context\": [formatted_search_docs]} \n",
    "\n",
    "def search_wikipedia(state: InterviewState):\n",
    "    chain = chat.with_structured_output(SearchQuery)\n",
    "    search_query = chain.invoke([search_instructions] + state['messages'])\n",
    "    \n",
    "    search_docs = WikipediaLoader(\n",
    "                    query = search_query.search_query, \n",
    "                    load_max_docs = 2).load()\n",
    "\n",
    "    formatted_search_docs = \"\\n\\n---\\n\\n\".join(\n",
    "        [\n",
    "            f'<Document source=\"{doc.metadata[\"source\"]}\" page=\"{doc.metadata.get(\"page\", \"\")}\"/>\\n{doc.page_content}\\n</Document>'\n",
    "            for doc in search_docs\n",
    "        ]\n",
    "    )\n",
    "    return {\"context\": [formatted_search_docs]} \n",
    "\n",
    "\n",
    "answer_instructions = \"\"\"\n",
    "    You are an expert being interviewed by an analyst.\n",
    "    Here is analyst area of focus: {goals}.     \n",
    "    You goal is to answer a question posed by the interviewer.\n",
    "    To answer question, use this context: {context}\n",
    "\n",
    "    When answering questions, follow these guidelines:\n",
    "    1. Use only the information provided in the context. \n",
    "    2. Do not introduce external information or make assumptions beyond what is explicitly stated in the context.\n",
    "    3. The context contain sources at the topic of each individual document.\n",
    "    4. Include these sources your answer next to any relevant statements. For example, for source # 1 use [1]. \n",
    "    5. List your sources in order at the bottom of your answer. [1] Source 1, [2] Source 2, etc\n",
    "    6. If the source is: <Document source=\"assistant/docs/llama3_1.pdf\" page=\"7\"/>' then just list: \n",
    "    [1] assistant/docs/llama3_1.pdf, page 7 \n",
    "            \n",
    "    And skip the addition of the brackets as well as the Document source preamble in your citation.\n",
    "\"\"\"\n",
    "\n",
    "\n",
    "def generate_answer(state: InterviewState):\n",
    "    analyst = state[\"analyst\"]\n",
    "    messages = state[\"messages\"]\n",
    "    context = state[\"context\"]\n",
    "\n",
    "    system_message = answer_instructions.format(goals = analyst.persona, context = context)\n",
    "    answer = chat.invoke([SystemMessage(content = system_message)] + messages)\n",
    "    \n",
    "    answer.name = \"expert\"\n",
    "    return {\"messages\": [answer]}\n",
    "\n",
    "def save_interview(state: InterviewState):\n",
    "    messages = state[\"messages\"]\n",
    "    interview = get_buffer_string(messages)\n",
    "    return {\"interview\": interview}\n",
    "\n",
    "def route_messages(state: InterviewState, \n",
    "                   name: str = \"expert\"):\n",
    "    messages = state[\"messages\"]\n",
    "    max_num_turns = state.get('max_num_turns', 2)\n",
    "\n",
    "    num_responses = len(\n",
    "        [m for m in messages if isinstance(m, AIMessage) and m.name == name]\n",
    "    )\n",
    "    if num_responses >= max_num_turns:\n",
    "        return 'save_interview'\n",
    "    \n",
    "    last_question = messages[-2]\n",
    "    if \"Thank you so much for your help\" in last_question.content:\n",
    "        return 'save_interview'\n",
    "    return \"ask_question\"\n",
    "\n",
    "\n",
    "section_writer_instructions = \"\"\"\n",
    "    You are an expert technical writer.             \n",
    "    Your task is to create a short, easily digestible section of a report based on a set of source documents.\n",
    "\n",
    "    1. Analyze the content of the source documents: \n",
    "    - The name of each source document is at the start of the document, with the <Document tag.\n",
    "            \n",
    "    2. Create a report structure using markdown formatting:\n",
    "    - Use ## for the section title\n",
    "    - Use ### for sub-section headers\n",
    "            \n",
    "    3. Write the report following this structure:\n",
    "    a. Title (## header)\n",
    "    b. Summary (### header)\n",
    "    c. Sources (### header)\n",
    "\n",
    "    4. Make your title engaging based upon the focus area of the analyst: {focus}\n",
    "\n",
    "    5. For the summary section:\n",
    "    - Set up summary with general background / context related to the focus area of the analyst\n",
    "    - Emphasize what is novel, interesting, or surprising about insights gathered from the interview\n",
    "    - Create a numbered list of source documents, as you use them\n",
    "    - Do not mention the names of interviewers or experts\n",
    "    - Aim for approximately 400 words maximum\n",
    "    - Use numbered sources in your report (e.g., [1], [2]) based on information from source documents\n",
    "            \n",
    "    6. In the Sources section:\n",
    "    - Include all sources used in your report\n",
    "    - Provide full links to relevant websites or specific document paths\n",
    "    - Separate each source by a newline. Use two spaces at the end of each line to create a newline in Markdown.\n",
    "    - It will look like:\n",
    "\n",
    "    ### Sources\n",
    "    [1] Link or Document name\n",
    "    [2] Link or Document name\n",
    "\n",
    "    7. Be sure to combine sources. For example this is not correct:\n",
    "\n",
    "    [3] https://ai.meta.com/blog/meta-llama-3-1/\n",
    "    [4] https://ai.meta.com/blog/meta-llama-3-1/\n",
    "\n",
    "    There should be no redundant sources. It should simply be:\n",
    "\n",
    "    [3] https://ai.meta.com/blog/meta-llama-3-1/\n",
    "            \n",
    "    8. Final review:\n",
    "    - Ensure the report follows the required structure\n",
    "    - Include no preamble before the title of the report\n",
    "    - Check that all guidelines have been followed\n",
    "\"\"\"\n",
    "\n",
    "\n",
    "def write_section(state: InterviewState):\n",
    "    context = state[\"context\"]\n",
    "    analyst = state[\"analyst\"]\n",
    "   \n",
    "    system_message = section_writer_instructions.format(focus = analyst.description)\n",
    "    section = chat.invoke([SystemMessage(content = system_message)] + [HumanMessage(content = f\"Use this source to write your section: {context}\")]) \n",
    "                \n",
    "    return {\"sections\": [section.content]}\n",
    "\n",
    "\n",
    "interview_builder = StateGraph(InterviewState)\n",
    "interview_builder.add_node(\"ask_question\", generate_question)\n",
    "interview_builder.add_node(\"search_web\", search_web)\n",
    "interview_builder.add_node(\"search_wikipedia\", search_wikipedia)\n",
    "interview_builder.add_node(\"answer_question\", generate_answer)\n",
    "interview_builder.add_node(\"save_interview\", save_interview)\n",
    "interview_builder.add_node(\"write_section\", write_section)\n",
    "\n",
    "interview_builder.set_entry_point(\"ask_question\")\n",
    "interview_builder.add_edge(\"ask_question\", \"search_web\")\n",
    "interview_builder.add_edge(\"ask_question\", \"search_wikipedia\")\n",
    "interview_builder.add_edge(\"search_web\", \"answer_question\")\n",
    "interview_builder.add_edge(\"search_wikipedia\", \"answer_question\")\n",
    "interview_builder.add_conditional_edges(\n",
    "    \"answer_question\", \n",
    "    route_messages,\n",
    "    ['ask_question','save_interview']\n",
    ")\n",
    "interview_builder.add_edge(\"save_interview\", \"write_section\")\n",
    "interview_builder.set_finish_point(\"write_section\")\n",
    "\n",
    "\n",
    "memory = MemorySaver()\n",
    "# .with_config is used to attach metadata or runtime configuration to the compiled graph run\n",
    "interview_graph = interview_builder.compile(checkpointer = memory).with_config(run_name = \"Conduct Interviews\")\n",
    "display(Image(interview_graph.get_graph().draw_mermaid_png()))"
   ]
  },
  {
   "cell_type": "code",
   "execution_count": 28,
   "id": "02807117",
   "metadata": {},
   "outputs": [
    {
     "name": "stdout",
     "output_type": "stream",
     "text": [
      "3 \n",
      "\n",
      " name='Sophia Chen' role='AI Researcher' affiliation='Stanford University' description='Sophia is a leading AI researcher at Stanford University, specializing in agent frameworks and their applications in various domains. She is particularly interested in the technical aspects of LangGraph and its potential impact on AI development.'\n"
     ]
    }
   ],
   "source": [
    "print (len(analysts), '\\n' * 2, analysts[0])"
   ]
  },
  {
   "cell_type": "code",
   "execution_count": null,
   "id": "903234b6",
   "metadata": {},
   "outputs": [
    {
     "data": {
      "text/markdown": [
       "## LangGraph: Revolutionizing AI Agent Frameworks\n",
       "\n",
       "### Summary\n",
       "LangGraph is a cutting-edge framework that is transforming the landscape of AI agent development. This innovative framework offers explicit support for cyclical workflows, a feature crucial for implementing agent-like behaviors. Unlike traditional frameworks, LangGraph does not follow a Directed Acyclic Graph (DAG) model, allowing for cycles that are essential for developing sophisticated agents capable of iterative refinement. This capability enables the creation of advanced AI agents that continuously enhance their understanding and actions, leading to more capable AI systems [1].\n",
       "\n",
       "LangGraph's state management capabilities ensure the maintenance of conversational context across interactions, while its conditional logic empowers agents to handle diverse user inputs effectively. These features make LangGraph particularly valuable for developing virtual assistants, customer service bots, or educational agents that engage in extended, meaningful dialogues [1].\n",
       "\n",
       "Moreover, LangGraph excels in multi-agent systems, enabling developers to construct complex agent ecosystems where multiple specialized agents collaborate on intricate tasks. By addressing the limitations of previous AI agent frameworks and offering enhanced flexibility, better state management, and support for cyclic execution and multi-agent systems, LangGraph is poised to significantly impact the future of artificial intelligence [2].\n",
       "\n",
       "For organizations and developers aiming to build complex agent systems or applications requiring stateful, iterative processing, LangGraph provides a robust foundation that can streamline development processes and enhance system quality. However, it is essential for those working on simpler applications to evaluate whether the additional complexity introduced by LangGraph aligns with their specific requirements and use cases [1].\n",
       "\n",
       "### Sources\n",
       "[1] https://medium.com/@ken_lin/langgraph-a-framework-for-building-stateful-multi-agent-llm-applications-a51d5eb68d03  \n",
       "[2] https://www.analyticsvidhya.com/blog/2024/07/langgraph-revolutionizing-ai-agent/"
      ],
      "text/plain": [
       "<IPython.core.display.Markdown object>"
      ]
     },
     "execution_count": 31,
     "metadata": {},
     "output_type": "execute_result"
    }
   ],
   "source": [
    "messages = [HumanMessage(f\"So you said you were writing an article on {topic}?\")]\n",
    "interview = interview_graph.invoke({\"analyst\": analysts[0], \"messages\": messages, \"max_num_turns\": 2}, thread)\n",
    "Markdown(interview['sections'][0])"
   ]
  },
  {
   "cell_type": "markdown",
   "id": "1552b16c",
   "metadata": {},
   "source": [
    "### **Parallelze interviews: Map-Reduce**\n",
    "\n",
    "We parallelize the interviews via the `Send()` API, a map step.\n",
    "\n",
    "We combine them into the report body in a reduce step.\n",
    "\n",
    "### **Finalize**\n",
    "\n",
    "We add a final step to write an intro and conclusion to the final report."
   ]
  },
  {
   "cell_type": "code",
   "execution_count": 39,
   "id": "ef4a920b",
   "metadata": {},
   "outputs": [],
   "source": [
    "class ResearchGraphState(TypedDict):\n",
    "    topic: str # Research topic\n",
    "    max_analysts: int # Number of analysts\n",
    "    human_analyst_feedback: str # Human feedback\n",
    "    analysts: List[Analyst] # Analyst asking questions\n",
    "    sections: Annotated[list, operator.add] # Send() API key\n",
    "    introduction: str # Introduction for the final report\n",
    "    content: str # Content for the final report\n",
    "    conclusion: str # Conclusion for the final report\n",
    "    final_report: str # Final report"
   ]
  },
  {
   "cell_type": "code",
   "execution_count": null,
   "id": "4cde5b94",
   "metadata": {},
   "outputs": [
    {
     "data": {
      "image/png": "[encoded data removed]",
      "text/plain": [
       "<IPython.core.display.Image object>"
      ]
     },
     "metadata": {},
     "output_type": "display_data"
    }
   ],
   "source": [
    "def initiate_all_interviews(state: ResearchGraphState):\n",
    "    \"\"\" \n",
    "        This is the \"map\" step where we run each interview sub-graph using Send API \n",
    "    \"\"\"    \n",
    "\n",
    "    human_analyst_feedback = state.get('human_analyst_feedback')\n",
    "    if human_analyst_feedback:\n",
    "        return \"create_analysts\"\n",
    "    else:\n",
    "        topic = state[\"topic\"]\n",
    "        return [Send(\n",
    "                    \"conduct_interview\", {\n",
    "                        \"analyst\": analyst,\n",
    "                        \"messages\": [\n",
    "                            HumanMessage(content = f\"So you said you were writing an article on {topic}?\")\n",
    "                        ]\n",
    "                    }\n",
    "                ) for analyst in state[\"analysts\"]]\n",
    "\n",
    "\n",
    "report_writer_instructions = \"\"\"\n",
    "You are a technical writer creating a report on this overall topic: {topic}\n",
    "You have a team of analysts. Each analyst has done two things: \n",
    "\n",
    "1. They conducted an interview with an expert on a specific sub-topic.\n",
    "2. They write up their finding into a memo.\n",
    "\n",
    "Your task: \n",
    "\n",
    "1. You will be given a collection of memos from your analysts.\n",
    "2. Think carefully about the insights from each memo.\n",
    "3. Consolidate these into a crisp overall summary that ties together the central ideas from all of the memos. \n",
    "4. Summarize the central points in each memo into a cohesive single narrative.\n",
    "\n",
    "To format your report:\n",
    " \n",
    "1. Use markdown formatting. \n",
    "2. Include no pre-amble for the report.\n",
    "3. Use no sub-heading. \n",
    "4. Start your report with a single title header: ## Insights\n",
    "5. Do not mention any analyst names in your report.\n",
    "6. Preserve any citations in the memos, which will be annotated in brackets, for example [1] or [2].\n",
    "7. Create a final, consolidated list of sources and add to a Sources section with the `## Sources` header.\n",
    "8. List your sources in order and do not repeat.\n",
    "\n",
    "[1] Source 1\n",
    "[2] Source 2\n",
    "\n",
    "Here are the memos from your analysts to build your report from: {context}\n",
    "\"\"\"\n",
    "\n",
    "\n",
    "def write_report(state: ResearchGraphState):\n",
    "    sections = state[\"sections\"]\n",
    "    topic = state[\"topic\"]\n",
    "\n",
    "    formatted_str_sections = \"\\n\\n\".join([f\"{section}\" for section in sections])\n",
    "    \n",
    "    system_message = report_writer_instructions.format(topic = topic, context = formatted_str_sections)    \n",
    "    report = chat.invoke([SystemMessage(content = system_message)] + [HumanMessage(content = f\"Write a report based upon these memos.\")]) \n",
    "    return {\"content\": report.content}\n",
    "\n",
    "\n",
    "intro_conclusion_instructions = \"\"\"\n",
    "You are a technical writer finishing a report on {topic}\n",
    "You will be given all of the sections of the report.\n",
    "You job is to write a crisp and compelling introduction or conclusion section.\n",
    "The user will instruct you whether to write the introduction or conclusion.\n",
    "Include no pre-amble for either section.\n",
    "Target around 100 words, crisply previewing (for introduction) or recapping (for conclusion) all of the sections of the report.\n",
    "\n",
    "Use markdown formatting. \n",
    "For your introduction, create a compelling title and use the # header for the title.\n",
    "For your introduction, use ## Introduction as the section header. \n",
    "For your conclusion, use ## Conclusion as the section header.\n",
    "\n",
    "Here are the sections to reflect on for writing: {formatted_str_sections}\n",
    "\"\"\"\n",
    "\n",
    "\n",
    "def write_introduction(state: ResearchGraphState):\n",
    "    sections = state[\"sections\"]\n",
    "    topic = state[\"topic\"]\n",
    "\n",
    "    formatted_str_sections = \"\\n\\n\".join([f\"{section}\" for section in sections])\n",
    "    \n",
    "    instructions = intro_conclusion_instructions.format(topic = topic, formatted_str_sections = formatted_str_sections)    \n",
    "    intro = chat.invoke([instructions] + [HumanMessage(content = f\"Write the report introduction\")]) \n",
    "    return {\"introduction\": intro.content}\n",
    "\n",
    "def write_conclusion(state: ResearchGraphState):\n",
    "    sections = state[\"sections\"]\n",
    "    topic = state[\"topic\"]\n",
    "\n",
    "    formatted_str_sections = \"\\n\\n\".join([f\"{section}\" for section in sections])\n",
    "    \n",
    "    instructions = intro_conclusion_instructions.format(topic = topic, formatted_str_sections = formatted_str_sections)    \n",
    "    conclusion = chat.invoke([instructions] + [HumanMessage(content = f\"Write the report conclusion\")]) \n",
    "    return {\"conclusion\": conclusion.content}\n",
    "\n",
    "def finalize_report(state: ResearchGraphState):\n",
    "    \"\"\" \n",
    "        The is the \"reduce\" step where we gather all the sections, combine them, and reflect on them to write the intro/conclusion \n",
    "    \"\"\"\n",
    "\n",
    "    content = state[\"content\"]\n",
    "    if content.startswith(\"## Insights\"):\n",
    "        content = content.strip(\"## Insights\")\n",
    "    if \"## Sources\" in content:\n",
    "        try:\n",
    "            content, sources = content.split(\"\\n## Sources\\n\")\n",
    "        except:\n",
    "            sources = None\n",
    "    else:\n",
    "        sources = None\n",
    "\n",
    "    final_report = state[\"introduction\"] + \"\\n\\n---\\n\\n\" + content + \"\\n\\n---\\n\\n\" + state[\"conclusion\"]\n",
    "    if sources is not None:\n",
    "        final_report += \"\\n\\n## Sources\\n\" + sources\n",
    "    return {\"final_report\": final_report}\n",
    "\n",
    "\n",
    "builder = StateGraph(ResearchGraphState)\n",
    "builder.add_node(\"create_analysts\", create_analysts)\n",
    "builder.add_node(\"human_feedback\", human_feedback)\n",
    "builder.add_node(\"conduct_interview\", interview_builder.compile())\n",
    "builder.add_node(\"write_report\", write_report)\n",
    "builder.add_node(\"write_introduction\",write_introduction)\n",
    "builder.add_node(\"write_conclusion\",write_conclusion)\n",
    "builder.add_node(\"finalize_report\",finalize_report)\n",
    "\n",
    "builder.set_entry_point(\"create_analysts\")\n",
    "builder.add_edge(\"create_analysts\", \"human_feedback\")\n",
    "builder.add_conditional_edges(\"human_feedback\", initiate_all_interviews, [\"create_analysts\", \"conduct_interview\"])\n",
    "builder.add_edge(\"conduct_interview\", \"write_report\")\n",
    "builder.add_edge(\"conduct_interview\", \"write_introduction\")\n",
    "builder.add_edge(\"conduct_interview\", \"write_conclusion\")\n",
    "builder.add_edge([\"write_conclusion\", \"write_report\", \"write_introduction\"], \"finalize_report\")\n",
    "builder.set_finish_point(\"finalize_report\")\n",
    "\n",
    "\n",
    "memory = MemorySaver()\n",
    "graph = builder.compile(interrupt_before = ['human_feedback'], checkpointer = memory)\n",
    "display(Image(graph.get_graph(xray=1).draw_mermaid_png()))"
   ]
  },
  {
   "cell_type": "code",
   "execution_count": 41,
   "id": "bf620085",
   "metadata": {},
   "outputs": [
    {
     "name": "stdout",
     "output_type": "stream",
     "text": [
      "Name: Luna Watson\n",
      "Affiliation: Tech Research Institute\n",
      "Role: AI Research Scientist\n",
      "Description: Luna is passionate about exploring the potential benefits of LangGraph as an agent framework. She focuses on the technical aspects of AI and is interested in how LangGraph can enhance agent capabilities.\n",
      "--------------------------------------------------\n",
      "Name: Ethan Chen\n",
      "Affiliation: Data Analytics Solutions\n",
      "Role: Data Analyst\n",
      "Description: Ethan specializes in analyzing data related to agent frameworks. He is particularly interested in the practical applications of LangGraph and how it can improve efficiency in data analysis processes.\n",
      "--------------------------------------------------\n",
      "Name: Ava Patel\n",
      "Affiliation: Ethical AI Foundation\n",
      "Role: AI Ethics Researcher\n",
      "Description: Ava's research focuses on the ethical implications of AI technologies. She is interested in studying how LangGraph as an agent framework aligns with ethical principles and promotes responsible AI development.\n",
      "--------------------------------------------------\n"
     ]
    }
   ],
   "source": [
    "for event in graph.stream(\n",
    "        {\"topic\":topic, \"max_analysts\":max_analysts}, \n",
    "        thread, \n",
    "        stream_mode = \"values\"):\n",
    "    analysts = event.get('analysts', '')\n",
    "    if analysts:\n",
    "        for analyst in analysts:\n",
    "            print(f\"Name: {analyst.name}\")\n",
    "            print(f\"Affiliation: {analyst.affiliation}\")\n",
    "            print(f\"Role: {analyst.role}\")\n",
    "            print(f\"Description: {analyst.description}\")\n",
    "            print(\"-\" * 50)  "
   ]
  },
  {
   "cell_type": "code",
   "execution_count": 42,
   "id": "10a9c525",
   "metadata": {},
   "outputs": [
    {
     "name": "stdout",
     "output_type": "stream",
     "text": [
      "Name: Luna Watson\n",
      "Affiliation: Tech Research Institute\n",
      "Role: AI Research Scientist\n",
      "Description: Luna is passionate about exploring the potential benefits of LangGraph as an agent framework. She focuses on the technical aspects of AI and is interested in how LangGraph can enhance agent capabilities.\n",
      "--------------------------------------------------\n",
      "Name: Ethan Chen\n",
      "Affiliation: Data Analytics Solutions\n",
      "Role: Data Analyst\n",
      "Description: Ethan specializes in analyzing data related to agent frameworks. He is particularly interested in the practical applications of LangGraph and how it can improve efficiency in data analysis processes.\n",
      "--------------------------------------------------\n",
      "Name: Ava Patel\n",
      "Affiliation: Ethical AI Foundation\n",
      "Role: AI Ethics Researcher\n",
      "Description: Ava's research focuses on the ethical implications of AI technologies. She is interested in studying how LangGraph as an agent framework aligns with ethical principles and promotes responsible AI development.\n",
      "--------------------------------------------------\n",
      "Name: Luna Watson\n",
      "Affiliation: Tech Insights\n",
      "Role: AI Researcher\n",
      "Description: Luna is an AI researcher with a focus on agent frameworks. She is interested in the technical aspects of LangGraph and its benefits for AI development.\n",
      "--------------------------------------------------\n",
      "Name: Ethan Chen\n",
      "Affiliation: Data Analytics Inc.\n",
      "Role: Data Scientist\n",
      "Description: Ethan is a data scientist who specializes in analyzing the impact of agent frameworks on AI systems. He is particularly interested in the practical applications of LangGraph.\n",
      "--------------------------------------------------\n",
      "Name: Ava Patel\n",
      "Affiliation: gen ai native startup\n",
      "Role: CEO\n",
      "Description: Ava is the CEO of a startup focused on AI solutions. She is interested in the business implications of adopting LangGraph as an agent framework and its potential benefits for companies.\n",
      "--------------------------------------------------\n"
     ]
    }
   ],
   "source": [
    "graph.update_state(\n",
    "    thread, \n",
    "    {\"human_analyst_feedback\": \"Add in the CEO of gen ai native startup\"}, \n",
    "    as_node=\"human_feedback\"\n",
    ")\n",
    "\n",
    "for event in graph.stream(None, thread, stream_mode = \"values\"):\n",
    "    analysts = event.get('analysts', '')\n",
    "    if analysts:\n",
    "        for analyst in analysts:\n",
    "            print(f\"Name: {analyst.name}\")\n",
    "            print(f\"Affiliation: {analyst.affiliation}\")\n",
    "            print(f\"Role: {analyst.role}\")\n",
    "            print(f\"Description: {analyst.description}\")\n",
    "            print(\"-\" * 50)  "
   ]
  },
  {
   "cell_type": "code",
   "execution_count": 43,
   "id": "12d778c8",
   "metadata": {},
   "outputs": [
    {
     "name": "stdout",
     "output_type": "stream",
     "text": [
      "--Node--\n",
      "conduct_interview\n",
      "--Node--\n",
      "conduct_interview\n",
      "--Node--\n",
      "conduct_interview\n",
      "--Node--\n",
      "write_conclusion\n",
      "--Node--\n",
      "write_introduction\n",
      "--Node--\n",
      "write_report\n",
      "--Node--\n",
      "finalize_report\n"
     ]
    }
   ],
   "source": [
    "graph.update_state(\n",
    "    thread, \n",
    "    {\"human_analyst_feedback\": None}, \n",
    "    as_node = \"human_feedback\"\n",
    ")\n",
    "\n",
    "for event in graph.stream(None, thread, stream_mode = \"updates\"):\n",
    "    print(\"--Node--\")\n",
    "    node_name = next(iter(event.keys()))\n",
    "    print(node_name)"
   ]
  },
  {
   "cell_type": "code",
   "execution_count": 44,
   "id": "725dec90",
   "metadata": {},
   "outputs": [
    {
     "data": {
      "text/markdown": [
       "# Unleashing the Power of LangGraph in Agent Frameworks\n",
       "\n",
       "## Introduction\n",
       "\n",
       "In the ever-evolving landscape of Artificial Intelligence (AI) development, the choice of agent framework plays a pivotal role in shaping the efficiency and effectiveness of AI applications. LangGraph emerges as a revolutionary framework that offers explicit support for cyclical workflows, a feature essential for implementing sophisticated agent behaviors. Unlike traditional frameworks, LangGraph's emphasis on cycles enables the development of agents capable of iteratively refining their understanding and actions, ultimately leading to more capable AI systems. This introduction sets the stage for exploring LangGraph's unique capabilities, comprehensive agent monitoring and improvement features, as well as its accessibility and popularity in the realm of AI development.\n",
       "\n",
       "---\n",
       "\n",
       "\n",
       "\n",
       "LangGraph, a cutting-edge agent framework, is revolutionizing AI development by offering unique capabilities that set it apart from traditional frameworks. One key feature of LangGraph is its explicit support for cyclical workflows, enabling the creation of advanced agents that continuously improve their performance over time [1]. Unlike Directed Acyclic Graph (DAG) frameworks, LangGraph's ability to support cycles is essential for developing sophisticated agents capable of iterative refinement in understanding and actions, leading to more capable AI systems [1].\n",
       "\n",
       "The framework's built-in persistence feature further enhances the robustness of agent interactions by facilitating memory and cumulative loop functions, ensuring reliability and effectiveness in agent behavior [1]. LangGraph's state management capabilities maintain conversational context across interactions, making it particularly valuable for constructing virtual assistants, customer service bots, or educational agents engaging in extended dialogues [1].\n",
       "\n",
       "LangGraph's popularity and accessibility are notable, offering a user-friendly platform with a wealth of example projects and tutorials suitable for developers of all skill levels [1]. By leveraging LangGraph in conjunction with tools like Arize's trace ingestion and LLM-based evaluations, developers can effectively monitor and enhance agent performance, ensuring reliability and effectiveness across various tasks [1].\n",
       "\n",
       "Furthermore, LangGraph's evolution includes improved visualization tools, performance optimizations, and deeper integration within the LangChain ecosystem, making it a preferred choice for teams working on mission-critical AI systems [4]. The framework's control, predictability, and scalability from prototypes to production highlight its significance in the AI development landscape [4].\n",
       "\n",
       "Companies adopting LangGraph as an agent framework can maximize their business potential by leveraging its flexibility, low-level structure, and support for cyclical workflows [2]. The framework's customizable nature allows for tailored agent design, offering full control over agent actions with persisted context for long-running workflows [3]. By implementing advanced memory management techniques and integration strategies, LangGraph agents can operate more efficiently and effectively, leading to enhanced performance and capabilities [4].\n",
       "\n",
       "In conclusion, LangGraph's unique features and benefits make it a valuable addition to the AI ecosystem, empowering developers and organizations to build advanced AI applications efficiently and effectively.\n",
       "\n",
       "\n",
       "---\n",
       "\n",
       "## Conclusion\n",
       "\n",
       "In conclusion, LangGraph emerges as a revolutionary agent framework that offers unparalleled capabilities for AI development. By supporting cyclical workflows and stateful agents, LangGraph enables developers to create sophisticated AI systems that continuously improve their performance over time. The framework's popularity, accessibility, and comprehensive monitoring tools make it a preferred choice for developers of all skill levels.\n",
       "\n",
       "Moreover, LangGraph's evolution with improved visualization tools, performance optimizations, and integration within the LangChain ecosystem solidifies its position as the go-to framework for mission-critical AI systems. Companies leveraging LangGraph can maximize their business potential by building tailored AI solutions that drive efficiency, user engagement, and ultimately, business success. LangGraph's unique features and benefits make it a valuable addition to the AI ecosystem, empowering organizations to develop advanced AI applications efficiently and effectively.\n",
       "\n",
       "## Sources\n",
       "[1] [LangGraph - Arize Blog](https://arize.com/blog/langgraph/)  \n",
       "[2] [LangGraph - Medium Article](https://medium.com/@ken_lin/langgraph-a-framework-for-building-stateful-multi-agent-llm-applications-a51d5eb68d03)  \n",
       "[3] [LangGraph - LinkedIn Case Study](https://blog.langchain.com/is-langgraph-used-in-production/)  \n",
       "[4] [LangGraph - Rapid Innovation Article](https://www.rapidinnovation.io/post/ai-agents-in-langgraph/)"
      ],
      "text/plain": [
       "<IPython.core.display.Markdown object>"
      ]
     },
     "execution_count": 44,
     "metadata": {},
     "output_type": "execute_result"
    }
   ],
   "source": [
    "final_state = graph.get_state(thread)\n",
    "report = final_state.values.get('final_report')\n",
    "Markdown(report)"
   ]
  }
 ],
 "metadata": {
  "kernelspec": {
   "display_name": "Python 3",
   "language": "python",
   "name": "python3"
  },
  "language_info": {
   "codemirror_mode": {
    "name": "ipython",
    "version": 3
   },
   "file_extension": ".py",
   "mimetype": "text/x-python",
   "name": "python",
   "nbconvert_exporter": "python",
   "pygments_lexer": "ipython3",
   "version": "3.10.0"
  }
 },
 "nbformat": 4,
 "nbformat_minor": 5
}
