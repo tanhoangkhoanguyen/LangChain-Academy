{
 "cells": [
  {
   "cell_type": "code",
   "execution_count": 1,
   "id": "144eb5ae",
   "metadata": {},
   "outputs": [
    {
     "data": {
      "image/png": "[encoded data removed]",
      "text/plain": [
       "<IPython.core.display.Image object>"
      ]
     },
     "metadata": {},
     "output_type": "display_data"
    }
   ],
   "source": [
    "from dotenv import load_dotenv, find_dotenv\n",
    "from langchain_openai import ChatOpenAI\n",
    "\n",
    "from langsmith import traceable\n",
    "from typing import TypedDict\n",
    "from langgraph.graph import StateGraph, END\n",
    "from IPython.display import display, Image\n",
    "\n",
    "\n",
    "_ = load_dotenv(find_dotenv())\n",
    "chat = ChatOpenAI(model = 'gpt-3.5-turbo', temperature = 0)\n",
    "\n",
    "\n",
    "class State(TypedDict):\n",
    "    messages: str\n",
    "\n",
    "\n",
    "# @traceable\n",
    "def node(state):\n",
    "    return {\"messages\": chat.invoke(state[\"messages\"])}\n",
    "\n",
    "\n",
    "builder = StateGraph(State)\n",
    "builder.add_node(\"node\", node)\n",
    "\n",
    "builder.set_entry_point(\"node\")\n",
    "builder.add_edge(\"node\", END)\n",
    "graph = builder.compile()\n",
    "\n",
    "\n",
    "display(Image(graph.get_graph().draw_mermaid_png()))"
   ]
  },
  {
   "cell_type": "code",
   "execution_count": 2,
   "id": "36ee9b8b",
   "metadata": {},
   "outputs": [
    {
     "data": {
      "text/plain": [
       "{'messages': AIMessage(content=\"It depends on the recipient's interests and preferences. Consider giving a thoughtful gift that is meaningful to them.\", additional_kwargs={'refusal': None}, response_metadata={'token_usage': {'completion_tokens': 21, 'prompt_tokens': 18, 'total_tokens': 39, 'completion_tokens_details': {'accepted_prediction_tokens': 0, 'audio_tokens': 0, 'reasoning_tokens': 0, 'rejected_prediction_tokens': 0}, 'prompt_tokens_details': {'audio_tokens': 0, 'cached_tokens': 0}}, 'model_name': 'gpt-3.5-turbo-0125', 'system_fingerprint': None, 'id': 'chatcmpl-BpAu8HqQGWI0jW447WqbfLyP7JzM5', 'service_tier': 'default', 'finish_reason': 'stop', 'logprobs': None}, id='run--15e83b2e-241f-460e-8871-117a34be5dd1-0', usage_metadata={'input_tokens': 18, 'output_tokens': 21, 'total_tokens': 39, 'input_token_details': {'audio': 0, 'cache_read': 0}, 'output_token_details': {'audio': 0, 'reasoning': 0}})}"
      ]
     },
     "execution_count": 2,
     "metadata": {},
     "output_type": "execute_result"
    }
   ],
   "source": [
    "graph.invoke({\"messages\": \"What should I give as a give? Answer concise.\"})"
   ]
  }
 ],
 "metadata": {
  "kernelspec": {
   "display_name": "Python 3",
   "language": "python",
   "name": "python3"
  },
  "language_info": {
   "codemirror_mode": {
    "name": "ipython",
    "version": 3
   },
   "file_extension": ".py",
   "mimetype": "text/x-python",
   "name": "python",
   "nbconvert_exporter": "python",
   "pygments_lexer": "ipython3",
   "version": "3.10.0"
  }
 },
 "nbformat": 4,
 "nbformat_minor": 5
}
