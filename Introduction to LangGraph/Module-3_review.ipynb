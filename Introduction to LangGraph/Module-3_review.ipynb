{
 "cells": [
  {
   "cell_type": "markdown",
   "id": "79d52b42",
   "metadata": {},
   "source": [
    "## **Streaming**"
   ]
  },
  {
   "cell_type": "code",
   "execution_count": 3,
   "id": "a18726e4",
   "metadata": {},
   "outputs": [],
   "source": [
    "import warnings\n",
    "warnings.filterwarnings(\"ignore\")\n",
    "\n",
    "from dotenv import load_dotenv, find_dotenv\n",
    "from langchain_openai import ChatOpenAI\n",
    "\n",
    "_ = load_dotenv(find_dotenv())\n",
    "chat = ChatOpenAI(model = 'gpt-3.5-turbo', temperature = 0)\n",
    "\n",
    "from typing import TypedDict\n",
    "from typing_extensions import Annotated\n",
    "from langchain_core.messages import AnyMessage, SystemMessage, HumanMessage, RemoveMessage\n",
    "from langgraph.graph.message import add_messages\n",
    "from langchain_core.runnables import RunnableConfig\n",
    "from langgraph.graph import StateGraph, END\n",
    "from langgraph.checkpoint.memory import MemorySaver\n",
    "from IPython.display import display, Image"
   ]
  },
  {
   "cell_type": "markdown",
   "id": "16b08476",
   "metadata": {},
   "source": [
    "### **Streaming**\n",
    "We use `RunnableConfig` with `call_model` to enable token-wise streaming. This is [only needed with python < 3.11](https://langchain-ai.github.io/langgraph/how-tos/streaming-tokens/). We include in case you are running this notebook in CoLab, which will use python 3.x. "
   ]
  },
  {
   "cell_type": "code",
   "execution_count": null,
   "id": "888bdab8",
   "metadata": {},
   "outputs": [
    {
     "data": {
      "image/png": "[encoded data removed]",
      "text/plain": [
       "<IPython.core.display.Image object>"
      ]
     },
     "metadata": {},
     "output_type": "display_data"
    }
   ],
   "source": [
    "class State(TypedDict):\n",
    "    messages: Annotated[list[AnyMessage], add_messages]\n",
    "    summary: str\n",
    "\n",
    "\n",
    "def call_model(state: State, config: RunnableConfig):\n",
    "    summary = state.get(\"summary\", \"\")\n",
    "\n",
    "    if summary:\n",
    "        system_message = f\"Summary of conversation earlier: {summary}\"\n",
    "        messages = [SystemMessage(content = system_message)] + state[\"messages\"]\n",
    "    else:\n",
    "        messages = state[\"messages\"]\n",
    "    \n",
    "    # Without this LangChain assumes stream = False\n",
    "    response = chat.invoke(messages, config)\n",
    "    return {\"messages\": response}\n",
    "\n",
    "def summarize_conversation(state: State):\n",
    "    summary = state.get(\"summary\", \"\")\n",
    "    \n",
    "    if summary:\n",
    "        summary_message = (\n",
    "            f\"This is summary of the conversation to date: {summary}\\n\\n\"\n",
    "            \"Extend the summary by taking into account the new messages above:\"\n",
    "        )\n",
    "    else:\n",
    "        summary_message = \"Create a summary of the conversation above:\"\n",
    "\n",
    "    messages = state[\"messages\"] + [HumanMessage(content = summary_message)]\n",
    "    response = chat.invoke(messages)\n",
    "    \n",
    "    delete_messages = [RemoveMessage(id = m.id) for m in state[\"messages\"][:-2]]\n",
    "    return {\"summary\": response.content, \"messages\": delete_messages}\n",
    "\n",
    "def should_continue(state: State):\n",
    "    messages = state[\"messages\"]\n",
    "    \n",
    "    if len(messages) > 6:\n",
    "        return \"summarize_conversation\"\n",
    "    return END\n",
    "\n",
    "\n",
    "builder = StateGraph(State)\n",
    "builder.add_node(call_model)\n",
    "builder.add_node(summarize_conversation)\n",
    "\n",
    "builder.set_entry_point(\"call_model\")\n",
    "builder.add_conditional_edges(\n",
    "    \"call_model\", \n",
    "    should_continue, {\n",
    "        END: END,\n",
    "        \"summarize_conversation\": \"summarize_conversation\"\n",
    "})\n",
    "builder.add_edge(\"summarize_conversation\", END)\n",
    "\n",
    "\n",
    "memory = MemorySaver()\n",
    "graph = builder.compile(checkpointer = memory)\n",
    "display(Image(graph.get_graph().draw_mermaid_png()))"
   ]
  },
  {
   "cell_type": "markdown",
   "id": "3366b736",
   "metadata": {},
   "source": [
    "### **Streaming full state**\n",
    "`.stream` and `.astream` are sync and async methods for streaming back results. \n",
    " \n",
    "LangGraph supports a few [different streaming modes](https://langchain-ai.github.io/langgraph/how-tos/stream-values/) for [graph state](https://langchain-ai.github.io/langgraph/how-tos/stream-values/):\n",
    " \n",
    "* `values`: This streams the full state of the graph after each node is called.\n",
    "* `updates`: This streams updates to the state of the graph after each node is called.\n",
    "\n",
    "![values_vs_updates.png](https://cdn.prod.website-files.com/65b8cd72835ceeacd4449a53/66dbaf892d24625a201744e5_streaming1.png)"
   ]
  },
  {
   "cell_type": "code",
   "execution_count": 5,
   "id": "bae8eaf2",
   "metadata": {},
   "outputs": [
    {
     "name": "stdout",
     "output_type": "stream",
     "text": [
      "{'call_model': {'messages': AIMessage(content='Nice to meet you, Khoa! How can I assist you today?', additional_kwargs={'refusal': None}, response_metadata={'token_usage': {'completion_tokens': 15, 'prompt_tokens': 13, 'total_tokens': 28, 'completion_tokens_details': {'accepted_prediction_tokens': 0, 'audio_tokens': 0, 'reasoning_tokens': 0, 'rejected_prediction_tokens': 0}, 'prompt_tokens_details': {'audio_tokens': 0, 'cached_tokens': 0}}, 'model_name': 'gpt-3.5-turbo-0125', 'system_fingerprint': None, 'id': 'chatcmpl-BpS6fFsuaF1he0xdrLTM5QE8x1OOJ', 'service_tier': 'default', 'finish_reason': 'stop', 'logprobs': None}, id='run--56de334e-29b2-4f8c-acb4-7b04e49c0967-0', usage_metadata={'input_tokens': 13, 'output_tokens': 15, 'total_tokens': 28, 'input_token_details': {'audio': 0, 'cache_read': 0}, 'output_token_details': {'audio': 0, 'reasoning': 0}})}}\n"
     ]
    }
   ],
   "source": [
    "config = {\"configurable\": {\"thread_id\": \"1\"}}\n",
    "\n",
    "for chunk in graph.stream({\"messages\": [HumanMessage(content = \"Hi! I'm Khoa\")]}, config, stream_mode = \"updates\"):\n",
    "    print(chunk)"
   ]
  },
  {
   "cell_type": "code",
   "execution_count": null,
   "id": "5771f68a",
   "metadata": {},
   "outputs": [
    {
     "name": "stdout",
     "output_type": "stream",
     "text": [
      "content=\"Hi! I'm Khoa\" additional_kwargs={} response_metadata={} id='abbbfab6-5da6-458e-a939-fefe9ef4cee9'\n",
      "content=\"Hi! I'm Khoa\" additional_kwargs={} response_metadata={} id='abbbfab6-5da6-458e-a939-fefe9ef4cee9'\n",
      "content='Nice to meet you, Khoa! How can I assist you today?' additional_kwargs={'refusal': None} response_metadata={'token_usage': {'completion_tokens': 15, 'prompt_tokens': 13, 'total_tokens': 28, 'completion_tokens_details': {'accepted_prediction_tokens': 0, 'audio_tokens': 0, 'reasoning_tokens': 0, 'rejected_prediction_tokens': 0}, 'prompt_tokens_details': {'audio_tokens': 0, 'cached_tokens': 0}}, 'model_name': 'gpt-3.5-turbo-0125', 'system_fingerprint': None, 'id': 'chatcmpl-BpS9jKjAMZqUPYgwZQ83LWJJXkpIG', 'service_tier': 'default', 'finish_reason': 'stop', 'logprobs': None} id='run--2bf45d05-57c4-4b5e-95b4-8813c3b99f6e-0' usage_metadata={'input_tokens': 13, 'output_tokens': 15, 'total_tokens': 28, 'input_token_details': {'audio': 0, 'cache_read': 0}, 'output_token_details': {'audio': 0, 'reasoning': 0}}\n"
     ]
    }
   ],
   "source": [
    "config = {\"configurable\": {\"thread_id\": \"2\"}}\n",
    "\n",
    "for event in graph.stream({\"messages\": [HumanMessage(content = \"Hi! I'm Khoa\")]}, config, stream_mode = \"values\"):\n",
    "    for m in event['messages']:\n",
    "        print (m)"
   ]
  },
  {
   "cell_type": "markdown",
   "id": "c0b88257",
   "metadata": {},
   "source": [
    "### Streaming tokens\n",
    "We can view streaming tokens live as they are generated via the [`.astream_events` method](https://langchain-ai.github.io/langgraph/how-tos/streaming-from-final-node/#stream-outputs-from-the-final-node)\n",
    "\n",
    "Each event is a dict with a few keys:\n",
    "* `event`: This is the type of event that is being emitted. \n",
    "* `name`: This is the name of event.\n",
    "* `data`: This is the data associated with the event.\n",
    "* `metadata`: Contains`langgraph_node`, the node emitting the event."
   ]
  },
  {
   "cell_type": "code",
   "execution_count": 17,
   "id": "07845f29",
   "metadata": {},
   "outputs": [
    {
     "name": "stdout",
     "output_type": "stream",
     "text": [
      "Node: . Type: on_chain_start. Name: LangGraph\n",
      "Node: call_model. Type: on_chain_start. Name: call_model\n",
      "Node: call_model. Type: on_chat_model_start. Name: ChatOpenAI\n",
      "Node: call_model. Type: on_chat_model_stream. Name: ChatOpenAI\n",
      "Node: call_model. Type: on_chat_model_stream. Name: ChatOpenAI\n",
      "Node: call_model. Type: on_chat_model_stream. Name: ChatOpenAI\n",
      "Node: call_model. Type: on_chat_model_stream. Name: ChatOpenAI\n",
      "Node: call_model. Type: on_chat_model_stream. Name: ChatOpenAI\n",
      "Node: call_model. Type: on_chat_model_stream. Name: ChatOpenAI\n",
      "Node: call_model. Type: on_chat_model_stream. Name: ChatOpenAI\n",
      "Node: call_model. Type: on_chat_model_stream. Name: ChatOpenAI\n",
      "Node: call_model. Type: on_chat_model_stream. Name: ChatOpenAI\n",
      "Node: call_model. Type: on_chat_model_stream. Name: ChatOpenAI\n",
      "Node: call_model. Type: on_chat_model_stream. Name: ChatOpenAI\n",
      "Node: call_model. Type: on_chat_model_stream. Name: ChatOpenAI\n",
      "Node: call_model. Type: on_chat_model_stream. Name: ChatOpenAI\n",
      "Node: call_model. Type: on_chat_model_stream. Name: ChatOpenAI\n",
      "Node: call_model. Type: on_chat_model_stream. Name: ChatOpenAI\n",
      "Node: call_model. Type: on_chat_model_stream. Name: ChatOpenAI\n",
      "Node: call_model. Type: on_chat_model_stream. Name: ChatOpenAI\n",
      "Node: call_model. Type: on_chat_model_stream. Name: ChatOpenAI\n",
      "Node: call_model. Type: on_chat_model_stream. Name: ChatOpenAI\n",
      "Node: call_model. Type: on_chat_model_stream. Name: ChatOpenAI\n",
      "Node: call_model. Type: on_chat_model_stream. Name: ChatOpenAI\n",
      "Node: call_model. Type: on_chat_model_stream. Name: ChatOpenAI\n",
      "Node: call_model. Type: on_chat_model_stream. Name: ChatOpenAI\n",
      "Node: call_model. Type: on_chat_model_stream. Name: ChatOpenAI\n",
      "Node: call_model. Type: on_chat_model_stream. Name: ChatOpenAI\n",
      "Node: call_model. Type: on_chat_model_stream. Name: ChatOpenAI\n",
      "Node: call_model. Type: on_chat_model_stream. Name: ChatOpenAI\n",
      "Node: call_model. Type: on_chat_model_stream. Name: ChatOpenAI\n",
      "Node: call_model. Type: on_chat_model_stream. Name: ChatOpenAI\n",
      "Node: call_model. Type: on_chat_model_stream. Name: ChatOpenAI\n",
      "Node: call_model. Type: on_chat_model_stream. Name: ChatOpenAI\n",
      "Node: call_model. Type: on_chat_model_stream. Name: ChatOpenAI\n",
      "Node: call_model. Type: on_chat_model_stream. Name: ChatOpenAI\n",
      "Node: call_model. Type: on_chat_model_stream. Name: ChatOpenAI\n",
      "Node: call_model. Type: on_chat_model_stream. Name: ChatOpenAI\n",
      "Node: call_model. Type: on_chat_model_stream. Name: ChatOpenAI\n",
      "Node: call_model. Type: on_chat_model_stream. Name: ChatOpenAI\n",
      "Node: call_model. Type: on_chat_model_stream. Name: ChatOpenAI\n",
      "Node: call_model. Type: on_chat_model_stream. Name: ChatOpenAI\n",
      "Node: call_model. Type: on_chat_model_stream. Name: ChatOpenAI\n",
      "Node: call_model. Type: on_chat_model_stream. Name: ChatOpenAI\n",
      "Node: call_model. Type: on_chat_model_stream. Name: ChatOpenAI\n",
      "Node: call_model. Type: on_chat_model_stream. Name: ChatOpenAI\n",
      "Node: call_model. Type: on_chat_model_stream. Name: ChatOpenAI\n",
      "Node: call_model. Type: on_chat_model_stream. Name: ChatOpenAI\n",
      "Node: call_model. Type: on_chat_model_stream. Name: ChatOpenAI\n",
      "Node: call_model. Type: on_chat_model_stream. Name: ChatOpenAI\n",
      "Node: call_model. Type: on_chat_model_stream. Name: ChatOpenAI\n",
      "Node: call_model. Type: on_chat_model_stream. Name: ChatOpenAI\n",
      "Node: call_model. Type: on_chat_model_stream. Name: ChatOpenAI\n",
      "Node: call_model. Type: on_chat_model_stream. Name: ChatOpenAI\n",
      "Node: call_model. Type: on_chat_model_stream. Name: ChatOpenAI\n",
      "Node: call_model. Type: on_chat_model_stream. Name: ChatOpenAI\n",
      "Node: call_model. Type: on_chat_model_stream. Name: ChatOpenAI\n",
      "Node: call_model. Type: on_chat_model_stream. Name: ChatOpenAI\n",
      "Node: call_model. Type: on_chat_model_stream. Name: ChatOpenAI\n",
      "Node: call_model. Type: on_chat_model_stream. Name: ChatOpenAI\n",
      "Node: call_model. Type: on_chat_model_stream. Name: ChatOpenAI\n",
      "Node: call_model. Type: on_chat_model_stream. Name: ChatOpenAI\n",
      "Node: call_model. Type: on_chat_model_stream. Name: ChatOpenAI\n",
      "Node: call_model. Type: on_chat_model_stream. Name: ChatOpenAI\n",
      "Node: call_model. Type: on_chat_model_stream. Name: ChatOpenAI\n",
      "Node: call_model. Type: on_chat_model_stream. Name: ChatOpenAI\n",
      "Node: call_model. Type: on_chat_model_stream. Name: ChatOpenAI\n",
      "Node: call_model. Type: on_chat_model_stream. Name: ChatOpenAI\n",
      "Node: call_model. Type: on_chat_model_stream. Name: ChatOpenAI\n",
      "Node: call_model. Type: on_chat_model_stream. Name: ChatOpenAI\n",
      "Node: call_model. Type: on_chat_model_stream. Name: ChatOpenAI\n",
      "Node: call_model. Type: on_chat_model_stream. Name: ChatOpenAI\n",
      "Node: call_model. Type: on_chat_model_stream. Name: ChatOpenAI\n",
      "Node: call_model. Type: on_chat_model_stream. Name: ChatOpenAI\n",
      "Node: call_model. Type: on_chat_model_stream. Name: ChatOpenAI\n",
      "Node: call_model. Type: on_chat_model_stream. Name: ChatOpenAI\n",
      "Node: call_model. Type: on_chat_model_stream. Name: ChatOpenAI\n",
      "Node: call_model. Type: on_chat_model_stream. Name: ChatOpenAI\n",
      "Node: call_model. Type: on_chat_model_stream. Name: ChatOpenAI\n",
      "Node: call_model. Type: on_chat_model_stream. Name: ChatOpenAI\n",
      "Node: call_model. Type: on_chat_model_stream. Name: ChatOpenAI\n",
      "Node: call_model. Type: on_chat_model_stream. Name: ChatOpenAI\n",
      "Node: call_model. Type: on_chat_model_stream. Name: ChatOpenAI\n",
      "Node: call_model. Type: on_chat_model_stream. Name: ChatOpenAI\n",
      "Node: call_model. Type: on_chat_model_stream. Name: ChatOpenAI\n",
      "Node: call_model. Type: on_chat_model_stream. Name: ChatOpenAI\n",
      "Node: call_model. Type: on_chat_model_stream. Name: ChatOpenAI\n",
      "Node: call_model. Type: on_chat_model_stream. Name: ChatOpenAI\n",
      "Node: call_model. Type: on_chat_model_stream. Name: ChatOpenAI\n",
      "Node: call_model. Type: on_chat_model_stream. Name: ChatOpenAI\n",
      "Node: call_model. Type: on_chat_model_stream. Name: ChatOpenAI\n",
      "Node: call_model. Type: on_chat_model_stream. Name: ChatOpenAI\n",
      "Node: call_model. Type: on_chat_model_stream. Name: ChatOpenAI\n",
      "Node: call_model. Type: on_chat_model_stream. Name: ChatOpenAI\n",
      "Node: call_model. Type: on_chat_model_stream. Name: ChatOpenAI\n",
      "Node: call_model. Type: on_chat_model_stream. Name: ChatOpenAI\n",
      "Node: call_model. Type: on_chat_model_stream. Name: ChatOpenAI\n",
      "Node: call_model. Type: on_chat_model_stream. Name: ChatOpenAI\n",
      "Node: call_model. Type: on_chat_model_stream. Name: ChatOpenAI\n",
      "Node: call_model. Type: on_chat_model_stream. Name: ChatOpenAI\n",
      "Node: call_model. Type: on_chat_model_stream. Name: ChatOpenAI\n",
      "Node: call_model. Type: on_chat_model_stream. Name: ChatOpenAI\n",
      "Node: call_model. Type: on_chat_model_stream. Name: ChatOpenAI\n",
      "Node: call_model. Type: on_chat_model_stream. Name: ChatOpenAI\n",
      "Node: call_model. Type: on_chat_model_stream. Name: ChatOpenAI\n",
      "Node: call_model. Type: on_chat_model_stream. Name: ChatOpenAI\n",
      "Node: call_model. Type: on_chat_model_stream. Name: ChatOpenAI\n",
      "Node: call_model. Type: on_chat_model_stream. Name: ChatOpenAI\n",
      "Node: call_model. Type: on_chat_model_stream. Name: ChatOpenAI\n",
      "Node: call_model. Type: on_chat_model_stream. Name: ChatOpenAI\n",
      "Node: call_model. Type: on_chat_model_stream. Name: ChatOpenAI\n",
      "Node: call_model. Type: on_chat_model_stream. Name: ChatOpenAI\n",
      "Node: call_model. Type: on_chat_model_stream. Name: ChatOpenAI\n",
      "Node: call_model. Type: on_chat_model_stream. Name: ChatOpenAI\n",
      "Node: call_model. Type: on_chat_model_stream. Name: ChatOpenAI\n",
      "Node: call_model. Type: on_chat_model_stream. Name: ChatOpenAI\n",
      "Node: call_model. Type: on_chat_model_stream. Name: ChatOpenAI\n",
      "Node: call_model. Type: on_chat_model_stream. Name: ChatOpenAI\n",
      "Node: call_model. Type: on_chat_model_stream. Name: ChatOpenAI\n",
      "Node: call_model. Type: on_chat_model_stream. Name: ChatOpenAI\n",
      "Node: call_model. Type: on_chat_model_stream. Name: ChatOpenAI\n",
      "Node: call_model. Type: on_chat_model_stream. Name: ChatOpenAI\n",
      "Node: call_model. Type: on_chat_model_stream. Name: ChatOpenAI\n",
      "Node: call_model. Type: on_chat_model_stream. Name: ChatOpenAI\n",
      "Node: call_model. Type: on_chat_model_stream. Name: ChatOpenAI\n",
      "Node: call_model. Type: on_chat_model_stream. Name: ChatOpenAI\n",
      "Node: call_model. Type: on_chat_model_stream. Name: ChatOpenAI\n",
      "Node: call_model. Type: on_chat_model_stream. Name: ChatOpenAI\n",
      "Node: call_model. Type: on_chat_model_stream. Name: ChatOpenAI\n",
      "Node: call_model. Type: on_chat_model_stream. Name: ChatOpenAI\n",
      "Node: call_model. Type: on_chat_model_stream. Name: ChatOpenAI\n",
      "Node: call_model. Type: on_chat_model_stream. Name: ChatOpenAI\n",
      "Node: call_model. Type: on_chat_model_stream. Name: ChatOpenAI\n",
      "Node: call_model. Type: on_chat_model_stream. Name: ChatOpenAI\n",
      "Node: call_model. Type: on_chat_model_stream. Name: ChatOpenAI\n",
      "Node: call_model. Type: on_chat_model_stream. Name: ChatOpenAI\n",
      "Node: call_model. Type: on_chat_model_stream. Name: ChatOpenAI\n",
      "Node: call_model. Type: on_chat_model_stream. Name: ChatOpenAI\n",
      "Node: call_model. Type: on_chat_model_stream. Name: ChatOpenAI\n",
      "Node: call_model. Type: on_chat_model_stream. Name: ChatOpenAI\n",
      "Node: call_model. Type: on_chat_model_stream. Name: ChatOpenAI\n",
      "Node: call_model. Type: on_chat_model_stream. Name: ChatOpenAI\n",
      "Node: call_model. Type: on_chat_model_stream. Name: ChatOpenAI\n",
      "Node: call_model. Type: on_chat_model_stream. Name: ChatOpenAI\n",
      "Node: call_model. Type: on_chat_model_stream. Name: ChatOpenAI\n",
      "Node: call_model. Type: on_chat_model_stream. Name: ChatOpenAI\n",
      "Node: call_model. Type: on_chat_model_stream. Name: ChatOpenAI\n",
      "Node: call_model. Type: on_chat_model_stream. Name: ChatOpenAI\n",
      "Node: call_model. Type: on_chat_model_stream. Name: ChatOpenAI\n",
      "Node: call_model. Type: on_chat_model_stream. Name: ChatOpenAI\n",
      "Node: call_model. Type: on_chat_model_stream. Name: ChatOpenAI\n",
      "Node: call_model. Type: on_chat_model_stream. Name: ChatOpenAI\n",
      "Node: call_model. Type: on_chat_model_stream. Name: ChatOpenAI\n",
      "Node: call_model. Type: on_chat_model_stream. Name: ChatOpenAI\n",
      "Node: call_model. Type: on_chat_model_stream. Name: ChatOpenAI\n",
      "Node: call_model. Type: on_chat_model_stream. Name: ChatOpenAI\n",
      "Node: call_model. Type: on_chat_model_stream. Name: ChatOpenAI\n",
      "Node: call_model. Type: on_chat_model_stream. Name: ChatOpenAI\n",
      "Node: call_model. Type: on_chat_model_stream. Name: ChatOpenAI\n",
      "Node: call_model. Type: on_chat_model_stream. Name: ChatOpenAI\n",
      "Node: call_model. Type: on_chat_model_stream. Name: ChatOpenAI\n",
      "Node: call_model. Type: on_chat_model_stream. Name: ChatOpenAI\n",
      "Node: call_model. Type: on_chat_model_stream. Name: ChatOpenAI\n",
      "Node: call_model. Type: on_chat_model_stream. Name: ChatOpenAI\n",
      "Node: call_model. Type: on_chat_model_stream. Name: ChatOpenAI\n",
      "Node: call_model. Type: on_chat_model_stream. Name: ChatOpenAI\n",
      "Node: call_model. Type: on_chat_model_stream. Name: ChatOpenAI\n",
      "Node: call_model. Type: on_chat_model_stream. Name: ChatOpenAI\n",
      "Node: call_model. Type: on_chat_model_stream. Name: ChatOpenAI\n",
      "Node: call_model. Type: on_chat_model_stream. Name: ChatOpenAI\n",
      "Node: call_model. Type: on_chat_model_stream. Name: ChatOpenAI\n",
      "Node: call_model. Type: on_chat_model_stream. Name: ChatOpenAI\n",
      "Node: call_model. Type: on_chat_model_stream. Name: ChatOpenAI\n",
      "Node: call_model. Type: on_chat_model_stream. Name: ChatOpenAI\n",
      "Node: call_model. Type: on_chat_model_stream. Name: ChatOpenAI\n",
      "Node: call_model. Type: on_chat_model_stream. Name: ChatOpenAI\n",
      "Node: call_model. Type: on_chat_model_stream. Name: ChatOpenAI\n",
      "Node: call_model. Type: on_chat_model_stream. Name: ChatOpenAI\n",
      "Node: call_model. Type: on_chat_model_stream. Name: ChatOpenAI\n",
      "Node: call_model. Type: on_chat_model_stream. Name: ChatOpenAI\n",
      "Node: call_model. Type: on_chat_model_stream. Name: ChatOpenAI\n",
      "Node: call_model. Type: on_chat_model_stream. Name: ChatOpenAI\n",
      "Node: call_model. Type: on_chat_model_end. Name: ChatOpenAI\n",
      "Node: call_model. Type: on_chain_start. Name: should_continue\n",
      "Node: call_model. Type: on_chain_end. Name: should_continue\n",
      "Node: call_model. Type: on_chain_stream. Name: call_model\n",
      "Node: call_model. Type: on_chain_end. Name: call_model\n",
      "Node: . Type: on_chain_stream. Name: LangGraph\n",
      "Node: . Type: on_chain_end. Name: LangGraph\n"
     ]
    }
   ],
   "source": [
    "config = {\"configurable\": {\"thread_id\": \"3\"}}\n",
    "\n",
    "async for event in graph.astream_events({\"messages\": [HumanMessage(content = \"Tell me about Squid Game 3\")]}, config, version = \"v2\"):\n",
    "    print(f\"Node: {event['metadata'].get('langgraph_node','')}. Type: {event['event']}. Name: {event['name']}\")"
   ]
  },
  {
   "cell_type": "markdown",
   "id": "f193e58a",
   "metadata": {},
   "source": [
    "The central point is that tokens from chat models within your graph have the `on_chat_model_stream` type.\n",
    "\n",
    "We can use `event['metadata']['langgraph_node']` to select the node to stream from.\n",
    "\n",
    "And we can use `event['data']` to get the actual data for each event, which in this case is an `AIMessageChunk`. "
   ]
  },
  {
   "cell_type": "code",
   "execution_count": null,
   "id": "67d025f8",
   "metadata": {},
   "outputs": [
    {
     "name": "stdout",
     "output_type": "stream",
     "text": [
      "{'chunk': AIMessageChunk(content='', additional_kwargs={}, response_metadata={}, id='run--4ef6f282-9b81-460f-87ac-4b097e2cf9fd')}\n",
      "{'chunk': AIMessageChunk(content='I', additional_kwargs={}, response_metadata={}, id='run--4ef6f282-9b81-460f-87ac-4b097e2cf9fd')}\n",
      "{'chunk': AIMessageChunk(content=' apologize', additional_kwargs={}, response_metadata={}, id='run--4ef6f282-9b81-460f-87ac-4b097e2cf9fd')}\n",
      "{'chunk': AIMessageChunk(content=' for', additional_kwargs={}, response_metadata={}, id='run--4ef6f282-9b81-460f-87ac-4b097e2cf9fd')}\n",
      "{'chunk': AIMessageChunk(content=' the', additional_kwargs={}, response_metadata={}, id='run--4ef6f282-9b81-460f-87ac-4b097e2cf9fd')}\n",
      "{'chunk': AIMessageChunk(content=' confusion', additional_kwargs={}, response_metadata={}, id='run--4ef6f282-9b81-460f-87ac-4b097e2cf9fd')}\n",
      "{'chunk': AIMessageChunk(content=' in', additional_kwargs={}, response_metadata={}, id='run--4ef6f282-9b81-460f-87ac-4b097e2cf9fd')}\n",
      "{'chunk': AIMessageChunk(content=' my', additional_kwargs={}, response_metadata={}, id='run--4ef6f282-9b81-460f-87ac-4b097e2cf9fd')}\n",
      "{'chunk': AIMessageChunk(content=' previous', additional_kwargs={}, response_metadata={}, id='run--4ef6f282-9b81-460f-87ac-4b097e2cf9fd')}\n",
      "{'chunk': AIMessageChunk(content=' responses', additional_kwargs={}, response_metadata={}, id='run--4ef6f282-9b81-460f-87ac-4b097e2cf9fd')}\n",
      "{'chunk': AIMessageChunk(content='.', additional_kwargs={}, response_metadata={}, id='run--4ef6f282-9b81-460f-87ac-4b097e2cf9fd')}\n",
      "{'chunk': AIMessageChunk(content=' As', additional_kwargs={}, response_metadata={}, id='run--4ef6f282-9b81-460f-87ac-4b097e2cf9fd')}\n",
      "{'chunk': AIMessageChunk(content=' of', additional_kwargs={}, response_metadata={}, id='run--4ef6f282-9b81-460f-87ac-4b097e2cf9fd')}\n",
      "{'chunk': AIMessageChunk(content=' now', additional_kwargs={}, response_metadata={}, id='run--4ef6f282-9b81-460f-87ac-4b097e2cf9fd')}\n",
      "{'chunk': AIMessageChunk(content=',', additional_kwargs={}, response_metadata={}, id='run--4ef6f282-9b81-460f-87ac-4b097e2cf9fd')}\n",
      "{'chunk': AIMessageChunk(content=' there', additional_kwargs={}, response_metadata={}, id='run--4ef6f282-9b81-460f-87ac-4b097e2cf9fd')}\n",
      "{'chunk': AIMessageChunk(content=' is', additional_kwargs={}, response_metadata={}, id='run--4ef6f282-9b81-460f-87ac-4b097e2cf9fd')}\n",
      "{'chunk': AIMessageChunk(content=' no', additional_kwargs={}, response_metadata={}, id='run--4ef6f282-9b81-460f-87ac-4b097e2cf9fd')}\n",
      "{'chunk': AIMessageChunk(content=' official', additional_kwargs={}, response_metadata={}, id='run--4ef6f282-9b81-460f-87ac-4b097e2cf9fd')}\n",
      "{'chunk': AIMessageChunk(content=' information', additional_kwargs={}, response_metadata={}, id='run--4ef6f282-9b81-460f-87ac-4b097e2cf9fd')}\n",
      "{'chunk': AIMessageChunk(content=' or', additional_kwargs={}, response_metadata={}, id='run--4ef6f282-9b81-460f-87ac-4b097e2cf9fd')}\n",
      "{'chunk': AIMessageChunk(content=' confirmation', additional_kwargs={}, response_metadata={}, id='run--4ef6f282-9b81-460f-87ac-4b097e2cf9fd')}\n",
      "{'chunk': AIMessageChunk(content=' about', additional_kwargs={}, response_metadata={}, id='run--4ef6f282-9b81-460f-87ac-4b097e2cf9fd')}\n",
      "{'chunk': AIMessageChunk(content=' a', additional_kwargs={}, response_metadata={}, id='run--4ef6f282-9b81-460f-87ac-4b097e2cf9fd')}\n",
      "{'chunk': AIMessageChunk(content=' third', additional_kwargs={}, response_metadata={}, id='run--4ef6f282-9b81-460f-87ac-4b097e2cf9fd')}\n",
      "{'chunk': AIMessageChunk(content=' season', additional_kwargs={}, response_metadata={}, id='run--4ef6f282-9b81-460f-87ac-4b097e2cf9fd')}\n",
      "{'chunk': AIMessageChunk(content=' of', additional_kwargs={}, response_metadata={}, id='run--4ef6f282-9b81-460f-87ac-4b097e2cf9fd')}\n",
      "{'chunk': AIMessageChunk(content=' Squ', additional_kwargs={}, response_metadata={}, id='run--4ef6f282-9b81-460f-87ac-4b097e2cf9fd')}\n",
      "{'chunk': AIMessageChunk(content='id', additional_kwargs={}, response_metadata={}, id='run--4ef6f282-9b81-460f-87ac-4b097e2cf9fd')}\n",
      "{'chunk': AIMessageChunk(content=' Game', additional_kwargs={}, response_metadata={}, id='run--4ef6f282-9b81-460f-87ac-4b097e2cf9fd')}\n",
      "{'chunk': AIMessageChunk(content='.', additional_kwargs={}, response_metadata={}, id='run--4ef6f282-9b81-460f-87ac-4b097e2cf9fd')}\n",
      "{'chunk': AIMessageChunk(content=' The', additional_kwargs={}, response_metadata={}, id='run--4ef6f282-9b81-460f-87ac-4b097e2cf9fd')}\n",
      "{'chunk': AIMessageChunk(content=' show', additional_kwargs={}, response_metadata={}, id='run--4ef6f282-9b81-460f-87ac-4b097e2cf9fd')}\n",
      "{'chunk': AIMessageChunk(content=\"'s\", additional_kwargs={}, response_metadata={}, id='run--4ef6f282-9b81-460f-87ac-4b097e2cf9fd')}\n",
      "{'chunk': AIMessageChunk(content=' creator', additional_kwargs={}, response_metadata={}, id='run--4ef6f282-9b81-460f-87ac-4b097e2cf9fd')}\n",
      "{'chunk': AIMessageChunk(content=',', additional_kwargs={}, response_metadata={}, id='run--4ef6f282-9b81-460f-87ac-4b097e2cf9fd')}\n",
      "{'chunk': AIMessageChunk(content=' H', additional_kwargs={}, response_metadata={}, id='run--4ef6f282-9b81-460f-87ac-4b097e2cf9fd')}\n",
      "{'chunk': AIMessageChunk(content='wang', additional_kwargs={}, response_metadata={}, id='run--4ef6f282-9b81-460f-87ac-4b097e2cf9fd')}\n",
      "{'chunk': AIMessageChunk(content=' Dong', additional_kwargs={}, response_metadata={}, id='run--4ef6f282-9b81-460f-87ac-4b097e2cf9fd')}\n",
      "{'chunk': AIMessageChunk(content='-h', additional_kwargs={}, response_metadata={}, id='run--4ef6f282-9b81-460f-87ac-4b097e2cf9fd')}\n",
      "{'chunk': AIMessageChunk(content='y', additional_kwargs={}, response_metadata={}, id='run--4ef6f282-9b81-460f-87ac-4b097e2cf9fd')}\n",
      "{'chunk': AIMessageChunk(content='uk', additional_kwargs={}, response_metadata={}, id='run--4ef6f282-9b81-460f-87ac-4b097e2cf9fd')}\n",
      "{'chunk': AIMessageChunk(content=',', additional_kwargs={}, response_metadata={}, id='run--4ef6f282-9b81-460f-87ac-4b097e2cf9fd')}\n",
      "{'chunk': AIMessageChunk(content=' has', additional_kwargs={}, response_metadata={}, id='run--4ef6f282-9b81-460f-87ac-4b097e2cf9fd')}\n",
      "{'chunk': AIMessageChunk(content=' not', additional_kwargs={}, response_metadata={}, id='run--4ef6f282-9b81-460f-87ac-4b097e2cf9fd')}\n",
      "{'chunk': AIMessageChunk(content=' announced', additional_kwargs={}, response_metadata={}, id='run--4ef6f282-9b81-460f-87ac-4b097e2cf9fd')}\n",
      "{'chunk': AIMessageChunk(content=' any', additional_kwargs={}, response_metadata={}, id='run--4ef6f282-9b81-460f-87ac-4b097e2cf9fd')}\n",
      "{'chunk': AIMessageChunk(content=' plans', additional_kwargs={}, response_metadata={}, id='run--4ef6f282-9b81-460f-87ac-4b097e2cf9fd')}\n",
      "{'chunk': AIMessageChunk(content=' for', additional_kwargs={}, response_metadata={}, id='run--4ef6f282-9b81-460f-87ac-4b097e2cf9fd')}\n",
      "{'chunk': AIMessageChunk(content=' a', additional_kwargs={}, response_metadata={}, id='run--4ef6f282-9b81-460f-87ac-4b097e2cf9fd')}\n",
      "{'chunk': AIMessageChunk(content=' third', additional_kwargs={}, response_metadata={}, id='run--4ef6f282-9b81-460f-87ac-4b097e2cf9fd')}\n",
      "{'chunk': AIMessageChunk(content=' season', additional_kwargs={}, response_metadata={}, id='run--4ef6f282-9b81-460f-87ac-4b097e2cf9fd')}\n",
      "{'chunk': AIMessageChunk(content=',', additional_kwargs={}, response_metadata={}, id='run--4ef6f282-9b81-460f-87ac-4b097e2cf9fd')}\n",
      "{'chunk': AIMessageChunk(content=' and', additional_kwargs={}, response_metadata={}, id='run--4ef6f282-9b81-460f-87ac-4b097e2cf9fd')}\n",
      "{'chunk': AIMessageChunk(content=' Netflix', additional_kwargs={}, response_metadata={}, id='run--4ef6f282-9b81-460f-87ac-4b097e2cf9fd')}\n",
      "{'chunk': AIMessageChunk(content=' has', additional_kwargs={}, response_metadata={}, id='run--4ef6f282-9b81-460f-87ac-4b097e2cf9fd')}\n",
      "{'chunk': AIMessageChunk(content=' not', additional_kwargs={}, response_metadata={}, id='run--4ef6f282-9b81-460f-87ac-4b097e2cf9fd')}\n",
      "{'chunk': AIMessageChunk(content=' confirmed', additional_kwargs={}, response_metadata={}, id='run--4ef6f282-9b81-460f-87ac-4b097e2cf9fd')}\n",
      "{'chunk': AIMessageChunk(content=' the', additional_kwargs={}, response_metadata={}, id='run--4ef6f282-9b81-460f-87ac-4b097e2cf9fd')}\n",
      "{'chunk': AIMessageChunk(content=' renewal', additional_kwargs={}, response_metadata={}, id='run--4ef6f282-9b81-460f-87ac-4b097e2cf9fd')}\n",
      "{'chunk': AIMessageChunk(content=' of', additional_kwargs={}, response_metadata={}, id='run--4ef6f282-9b81-460f-87ac-4b097e2cf9fd')}\n",
      "{'chunk': AIMessageChunk(content=' the', additional_kwargs={}, response_metadata={}, id='run--4ef6f282-9b81-460f-87ac-4b097e2cf9fd')}\n",
      "{'chunk': AIMessageChunk(content=' series', additional_kwargs={}, response_metadata={}, id='run--4ef6f282-9b81-460f-87ac-4b097e2cf9fd')}\n",
      "{'chunk': AIMessageChunk(content='.\\n\\n', additional_kwargs={}, response_metadata={}, id='run--4ef6f282-9b81-460f-87ac-4b097e2cf9fd')}\n",
      "{'chunk': AIMessageChunk(content='The', additional_kwargs={}, response_metadata={}, id='run--4ef6f282-9b81-460f-87ac-4b097e2cf9fd')}\n",
      "{'chunk': AIMessageChunk(content=' first', additional_kwargs={}, response_metadata={}, id='run--4ef6f282-9b81-460f-87ac-4b097e2cf9fd')}\n",
      "{'chunk': AIMessageChunk(content=' season', additional_kwargs={}, response_metadata={}, id='run--4ef6f282-9b81-460f-87ac-4b097e2cf9fd')}\n",
      "{'chunk': AIMessageChunk(content=' of', additional_kwargs={}, response_metadata={}, id='run--4ef6f282-9b81-460f-87ac-4b097e2cf9fd')}\n",
      "{'chunk': AIMessageChunk(content=' Squ', additional_kwargs={}, response_metadata={}, id='run--4ef6f282-9b81-460f-87ac-4b097e2cf9fd')}\n",
      "{'chunk': AIMessageChunk(content='id', additional_kwargs={}, response_metadata={}, id='run--4ef6f282-9b81-460f-87ac-4b097e2cf9fd')}\n",
      "{'chunk': AIMessageChunk(content=' Game', additional_kwargs={}, response_metadata={}, id='run--4ef6f282-9b81-460f-87ac-4b097e2cf9fd')}\n",
      "{'chunk': AIMessageChunk(content=' was', additional_kwargs={}, response_metadata={}, id='run--4ef6f282-9b81-460f-87ac-4b097e2cf9fd')}\n",
      "{'chunk': AIMessageChunk(content=' released', additional_kwargs={}, response_metadata={}, id='run--4ef6f282-9b81-460f-87ac-4b097e2cf9fd')}\n",
      "{'chunk': AIMessageChunk(content=' in', additional_kwargs={}, response_metadata={}, id='run--4ef6f282-9b81-460f-87ac-4b097e2cf9fd')}\n",
      "{'chunk': AIMessageChunk(content=' September', additional_kwargs={}, response_metadata={}, id='run--4ef6f282-9b81-460f-87ac-4b097e2cf9fd')}\n",
      "{'chunk': AIMessageChunk(content=' ', additional_kwargs={}, response_metadata={}, id='run--4ef6f282-9b81-460f-87ac-4b097e2cf9fd')}\n",
      "{'chunk': AIMessageChunk(content='202', additional_kwargs={}, response_metadata={}, id='run--4ef6f282-9b81-460f-87ac-4b097e2cf9fd')}\n",
      "{'chunk': AIMessageChunk(content='1', additional_kwargs={}, response_metadata={}, id='run--4ef6f282-9b81-460f-87ac-4b097e2cf9fd')}\n",
      "{'chunk': AIMessageChunk(content=' and', additional_kwargs={}, response_metadata={}, id='run--4ef6f282-9b81-460f-87ac-4b097e2cf9fd')}\n",
      "{'chunk': AIMessageChunk(content=' became', additional_kwargs={}, response_metadata={}, id='run--4ef6f282-9b81-460f-87ac-4b097e2cf9fd')}\n",
      "{'chunk': AIMessageChunk(content=' a', additional_kwargs={}, response_metadata={}, id='run--4ef6f282-9b81-460f-87ac-4b097e2cf9fd')}\n",
      "{'chunk': AIMessageChunk(content=' massive', additional_kwargs={}, response_metadata={}, id='run--4ef6f282-9b81-460f-87ac-4b097e2cf9fd')}\n",
      "{'chunk': AIMessageChunk(content=' hit', additional_kwargs={}, response_metadata={}, id='run--4ef6f282-9b81-460f-87ac-4b097e2cf9fd')}\n",
      "{'chunk': AIMessageChunk(content=' worldwide', additional_kwargs={}, response_metadata={}, id='run--4ef6f282-9b81-460f-87ac-4b097e2cf9fd')}\n",
      "{'chunk': AIMessageChunk(content=',', additional_kwargs={}, response_metadata={}, id='run--4ef6f282-9b81-460f-87ac-4b097e2cf9fd')}\n",
      "{'chunk': AIMessageChunk(content=' gaining', additional_kwargs={}, response_metadata={}, id='run--4ef6f282-9b81-460f-87ac-4b097e2cf9fd')}\n",
      "{'chunk': AIMessageChunk(content=' a', additional_kwargs={}, response_metadata={}, id='run--4ef6f282-9b81-460f-87ac-4b097e2cf9fd')}\n",
      "{'chunk': AIMessageChunk(content=' huge', additional_kwargs={}, response_metadata={}, id='run--4ef6f282-9b81-460f-87ac-4b097e2cf9fd')}\n",
      "{'chunk': AIMessageChunk(content=' fan', additional_kwargs={}, response_metadata={}, id='run--4ef6f282-9b81-460f-87ac-4b097e2cf9fd')}\n",
      "{'chunk': AIMessageChunk(content=' following', additional_kwargs={}, response_metadata={}, id='run--4ef6f282-9b81-460f-87ac-4b097e2cf9fd')}\n",
      "{'chunk': AIMessageChunk(content=' and', additional_kwargs={}, response_metadata={}, id='run--4ef6f282-9b81-460f-87ac-4b097e2cf9fd')}\n",
      "{'chunk': AIMessageChunk(content=' critical', additional_kwargs={}, response_metadata={}, id='run--4ef6f282-9b81-460f-87ac-4b097e2cf9fd')}\n",
      "{'chunk': AIMessageChunk(content=' acclaim', additional_kwargs={}, response_metadata={}, id='run--4ef6f282-9b81-460f-87ac-4b097e2cf9fd')}\n",
      "{'chunk': AIMessageChunk(content='.', additional_kwargs={}, response_metadata={}, id='run--4ef6f282-9b81-460f-87ac-4b097e2cf9fd')}\n",
      "{'chunk': AIMessageChunk(content=' The', additional_kwargs={}, response_metadata={}, id='run--4ef6f282-9b81-460f-87ac-4b097e2cf9fd')}\n",
      "{'chunk': AIMessageChunk(content=' show', additional_kwargs={}, response_metadata={}, id='run--4ef6f282-9b81-460f-87ac-4b097e2cf9fd')}\n",
      "{'chunk': AIMessageChunk(content=\"'s\", additional_kwargs={}, response_metadata={}, id='run--4ef6f282-9b81-460f-87ac-4b097e2cf9fd')}\n",
      "{'chunk': AIMessageChunk(content=' popularity', additional_kwargs={}, response_metadata={}, id='run--4ef6f282-9b81-460f-87ac-4b097e2cf9fd')}\n",
      "{'chunk': AIMessageChunk(content=' has', additional_kwargs={}, response_metadata={}, id='run--4ef6f282-9b81-460f-87ac-4b097e2cf9fd')}\n",
      "{'chunk': AIMessageChunk(content=' led', additional_kwargs={}, response_metadata={}, id='run--4ef6f282-9b81-460f-87ac-4b097e2cf9fd')}\n",
      "{'chunk': AIMessageChunk(content=' to', additional_kwargs={}, response_metadata={}, id='run--4ef6f282-9b81-460f-87ac-4b097e2cf9fd')}\n",
      "{'chunk': AIMessageChunk(content=' speculation', additional_kwargs={}, response_metadata={}, id='run--4ef6f282-9b81-460f-87ac-4b097e2cf9fd')}\n",
      "{'chunk': AIMessageChunk(content=' and', additional_kwargs={}, response_metadata={}, id='run--4ef6f282-9b81-460f-87ac-4b097e2cf9fd')}\n",
      "{'chunk': AIMessageChunk(content=' anticipation', additional_kwargs={}, response_metadata={}, id='run--4ef6f282-9b81-460f-87ac-4b097e2cf9fd')}\n",
      "{'chunk': AIMessageChunk(content=' for', additional_kwargs={}, response_metadata={}, id='run--4ef6f282-9b81-460f-87ac-4b097e2cf9fd')}\n",
      "{'chunk': AIMessageChunk(content=' a', additional_kwargs={}, response_metadata={}, id='run--4ef6f282-9b81-460f-87ac-4b097e2cf9fd')}\n",
      "{'chunk': AIMessageChunk(content=' potential', additional_kwargs={}, response_metadata={}, id='run--4ef6f282-9b81-460f-87ac-4b097e2cf9fd')}\n",
      "{'chunk': AIMessageChunk(content=' continuation', additional_kwargs={}, response_metadata={}, id='run--4ef6f282-9b81-460f-87ac-4b097e2cf9fd')}\n",
      "{'chunk': AIMessageChunk(content=' of', additional_kwargs={}, response_metadata={}, id='run--4ef6f282-9b81-460f-87ac-4b097e2cf9fd')}\n",
      "{'chunk': AIMessageChunk(content=' the', additional_kwargs={}, response_metadata={}, id='run--4ef6f282-9b81-460f-87ac-4b097e2cf9fd')}\n",
      "{'chunk': AIMessageChunk(content=' story', additional_kwargs={}, response_metadata={}, id='run--4ef6f282-9b81-460f-87ac-4b097e2cf9fd')}\n",
      "{'chunk': AIMessageChunk(content=' in', additional_kwargs={}, response_metadata={}, id='run--4ef6f282-9b81-460f-87ac-4b097e2cf9fd')}\n",
      "{'chunk': AIMessageChunk(content=' a', additional_kwargs={}, response_metadata={}, id='run--4ef6f282-9b81-460f-87ac-4b097e2cf9fd')}\n",
      "{'chunk': AIMessageChunk(content=' third', additional_kwargs={}, response_metadata={}, id='run--4ef6f282-9b81-460f-87ac-4b097e2cf9fd')}\n",
      "{'chunk': AIMessageChunk(content=' season', additional_kwargs={}, response_metadata={}, id='run--4ef6f282-9b81-460f-87ac-4b097e2cf9fd')}\n",
      "{'chunk': AIMessageChunk(content='.\\n\\n', additional_kwargs={}, response_metadata={}, id='run--4ef6f282-9b81-460f-87ac-4b097e2cf9fd')}\n",
      "{'chunk': AIMessageChunk(content='While', additional_kwargs={}, response_metadata={}, id='run--4ef6f282-9b81-460f-87ac-4b097e2cf9fd')}\n",
      "{'chunk': AIMessageChunk(content=' fans', additional_kwargs={}, response_metadata={}, id='run--4ef6f282-9b81-460f-87ac-4b097e2cf9fd')}\n",
      "{'chunk': AIMessageChunk(content=' are', additional_kwargs={}, response_metadata={}, id='run--4ef6f282-9b81-460f-87ac-4b097e2cf9fd')}\n",
      "{'chunk': AIMessageChunk(content=' eager', additional_kwargs={}, response_metadata={}, id='run--4ef6f282-9b81-460f-87ac-4b097e2cf9fd')}\n",
      "{'chunk': AIMessageChunk(content=' for', additional_kwargs={}, response_metadata={}, id='run--4ef6f282-9b81-460f-87ac-4b097e2cf9fd')}\n",
      "{'chunk': AIMessageChunk(content=' more', additional_kwargs={}, response_metadata={}, id='run--4ef6f282-9b81-460f-87ac-4b097e2cf9fd')}\n",
      "{'chunk': AIMessageChunk(content=' episodes', additional_kwargs={}, response_metadata={}, id='run--4ef6f282-9b81-460f-87ac-4b097e2cf9fd')}\n",
      "{'chunk': AIMessageChunk(content=' of', additional_kwargs={}, response_metadata={}, id='run--4ef6f282-9b81-460f-87ac-4b097e2cf9fd')}\n",
      "{'chunk': AIMessageChunk(content=' Squ', additional_kwargs={}, response_metadata={}, id='run--4ef6f282-9b81-460f-87ac-4b097e2cf9fd')}\n",
      "{'chunk': AIMessageChunk(content='id', additional_kwargs={}, response_metadata={}, id='run--4ef6f282-9b81-460f-87ac-4b097e2cf9fd')}\n",
      "{'chunk': AIMessageChunk(content=' Game', additional_kwargs={}, response_metadata={}, id='run--4ef6f282-9b81-460f-87ac-4b097e2cf9fd')}\n",
      "{'chunk': AIMessageChunk(content=',', additional_kwargs={}, response_metadata={}, id='run--4ef6f282-9b81-460f-87ac-4b097e2cf9fd')}\n",
      "{'chunk': AIMessageChunk(content=' there', additional_kwargs={}, response_metadata={}, id='run--4ef6f282-9b81-460f-87ac-4b097e2cf9fd')}\n",
      "{'chunk': AIMessageChunk(content=' has', additional_kwargs={}, response_metadata={}, id='run--4ef6f282-9b81-460f-87ac-4b097e2cf9fd')}\n",
      "{'chunk': AIMessageChunk(content=' been', additional_kwargs={}, response_metadata={}, id='run--4ef6f282-9b81-460f-87ac-4b097e2cf9fd')}\n",
      "{'chunk': AIMessageChunk(content=' no', additional_kwargs={}, response_metadata={}, id='run--4ef6f282-9b81-460f-87ac-4b097e2cf9fd')}\n",
      "{'chunk': AIMessageChunk(content=' official', additional_kwargs={}, response_metadata={}, id='run--4ef6f282-9b81-460f-87ac-4b097e2cf9fd')}\n",
      "{'chunk': AIMessageChunk(content=' announcement', additional_kwargs={}, response_metadata={}, id='run--4ef6f282-9b81-460f-87ac-4b097e2cf9fd')}\n",
      "{'chunk': AIMessageChunk(content=' or', additional_kwargs={}, response_metadata={}, id='run--4ef6f282-9b81-460f-87ac-4b097e2cf9fd')}\n",
      "{'chunk': AIMessageChunk(content=' details', additional_kwargs={}, response_metadata={}, id='run--4ef6f282-9b81-460f-87ac-4b097e2cf9fd')}\n",
      "{'chunk': AIMessageChunk(content=' about', additional_kwargs={}, response_metadata={}, id='run--4ef6f282-9b81-460f-87ac-4b097e2cf9fd')}\n",
      "{'chunk': AIMessageChunk(content=' a', additional_kwargs={}, response_metadata={}, id='run--4ef6f282-9b81-460f-87ac-4b097e2cf9fd')}\n",
      "{'chunk': AIMessageChunk(content=' potential', additional_kwargs={}, response_metadata={}, id='run--4ef6f282-9b81-460f-87ac-4b097e2cf9fd')}\n",
      "{'chunk': AIMessageChunk(content=' third', additional_kwargs={}, response_metadata={}, id='run--4ef6f282-9b81-460f-87ac-4b097e2cf9fd')}\n",
      "{'chunk': AIMessageChunk(content=' season', additional_kwargs={}, response_metadata={}, id='run--4ef6f282-9b81-460f-87ac-4b097e2cf9fd')}\n",
      "{'chunk': AIMessageChunk(content='.', additional_kwargs={}, response_metadata={}, id='run--4ef6f282-9b81-460f-87ac-4b097e2cf9fd')}\n",
      "{'chunk': AIMessageChunk(content=' It', additional_kwargs={}, response_metadata={}, id='run--4ef6f282-9b81-460f-87ac-4b097e2cf9fd')}\n",
      "{'chunk': AIMessageChunk(content=' is', additional_kwargs={}, response_metadata={}, id='run--4ef6f282-9b81-460f-87ac-4b097e2cf9fd')}\n",
      "{'chunk': AIMessageChunk(content=' possible', additional_kwargs={}, response_metadata={}, id='run--4ef6f282-9b81-460f-87ac-4b097e2cf9fd')}\n",
      "{'chunk': AIMessageChunk(content=' that', additional_kwargs={}, response_metadata={}, id='run--4ef6f282-9b81-460f-87ac-4b097e2cf9fd')}\n",
      "{'chunk': AIMessageChunk(content=' the', additional_kwargs={}, response_metadata={}, id='run--4ef6f282-9b81-460f-87ac-4b097e2cf9fd')}\n",
      "{'chunk': AIMessageChunk(content=' creators', additional_kwargs={}, response_metadata={}, id='run--4ef6f282-9b81-460f-87ac-4b097e2cf9fd')}\n",
      "{'chunk': AIMessageChunk(content=' and', additional_kwargs={}, response_metadata={}, id='run--4ef6f282-9b81-460f-87ac-4b097e2cf9fd')}\n",
      "{'chunk': AIMessageChunk(content=' Netflix', additional_kwargs={}, response_metadata={}, id='run--4ef6f282-9b81-460f-87ac-4b097e2cf9fd')}\n",
      "{'chunk': AIMessageChunk(content=' may', additional_kwargs={}, response_metadata={}, id='run--4ef6f282-9b81-460f-87ac-4b097e2cf9fd')}\n",
      "{'chunk': AIMessageChunk(content=' consider', additional_kwargs={}, response_metadata={}, id='run--4ef6f282-9b81-460f-87ac-4b097e2cf9fd')}\n",
      "{'chunk': AIMessageChunk(content=' continuing', additional_kwargs={}, response_metadata={}, id='run--4ef6f282-9b81-460f-87ac-4b097e2cf9fd')}\n",
      "{'chunk': AIMessageChunk(content=' the', additional_kwargs={}, response_metadata={}, id='run--4ef6f282-9b81-460f-87ac-4b097e2cf9fd')}\n",
      "{'chunk': AIMessageChunk(content=' series', additional_kwargs={}, response_metadata={}, id='run--4ef6f282-9b81-460f-87ac-4b097e2cf9fd')}\n",
      "{'chunk': AIMessageChunk(content=' in', additional_kwargs={}, response_metadata={}, id='run--4ef6f282-9b81-460f-87ac-4b097e2cf9fd')}\n",
      "{'chunk': AIMessageChunk(content=' the', additional_kwargs={}, response_metadata={}, id='run--4ef6f282-9b81-460f-87ac-4b097e2cf9fd')}\n",
      "{'chunk': AIMessageChunk(content=' future', additional_kwargs={}, response_metadata={}, id='run--4ef6f282-9b81-460f-87ac-4b097e2cf9fd')}\n",
      "{'chunk': AIMessageChunk(content=',', additional_kwargs={}, response_metadata={}, id='run--4ef6f282-9b81-460f-87ac-4b097e2cf9fd')}\n",
      "{'chunk': AIMessageChunk(content=' but', additional_kwargs={}, response_metadata={}, id='run--4ef6f282-9b81-460f-87ac-4b097e2cf9fd')}\n",
      "{'chunk': AIMessageChunk(content=' as', additional_kwargs={}, response_metadata={}, id='run--4ef6f282-9b81-460f-87ac-4b097e2cf9fd')}\n",
      "{'chunk': AIMessageChunk(content=' of', additional_kwargs={}, response_metadata={}, id='run--4ef6f282-9b81-460f-87ac-4b097e2cf9fd')}\n",
      "{'chunk': AIMessageChunk(content=' now', additional_kwargs={}, response_metadata={}, id='run--4ef6f282-9b81-460f-87ac-4b097e2cf9fd')}\n",
      "{'chunk': AIMessageChunk(content=',', additional_kwargs={}, response_metadata={}, id='run--4ef6f282-9b81-460f-87ac-4b097e2cf9fd')}\n",
      "{'chunk': AIMessageChunk(content=' there', additional_kwargs={}, response_metadata={}, id='run--4ef6f282-9b81-460f-87ac-4b097e2cf9fd')}\n",
      "{'chunk': AIMessageChunk(content=' is', additional_kwargs={}, response_metadata={}, id='run--4ef6f282-9b81-460f-87ac-4b097e2cf9fd')}\n",
      "{'chunk': AIMessageChunk(content=' no', additional_kwargs={}, response_metadata={}, id='run--4ef6f282-9b81-460f-87ac-4b097e2cf9fd')}\n",
      "{'chunk': AIMessageChunk(content=' concrete', additional_kwargs={}, response_metadata={}, id='run--4ef6f282-9b81-460f-87ac-4b097e2cf9fd')}\n",
      "{'chunk': AIMessageChunk(content=' information', additional_kwargs={}, response_metadata={}, id='run--4ef6f282-9b81-460f-87ac-4b097e2cf9fd')}\n",
      "{'chunk': AIMessageChunk(content=' available', additional_kwargs={}, response_metadata={}, id='run--4ef6f282-9b81-460f-87ac-4b097e2cf9fd')}\n",
      "{'chunk': AIMessageChunk(content=' about', additional_kwargs={}, response_metadata={}, id='run--4ef6f282-9b81-460f-87ac-4b097e2cf9fd')}\n",
      "{'chunk': AIMessageChunk(content=' Squ', additional_kwargs={}, response_metadata={}, id='run--4ef6f282-9b81-460f-87ac-4b097e2cf9fd')}\n",
      "{'chunk': AIMessageChunk(content='id', additional_kwargs={}, response_metadata={}, id='run--4ef6f282-9b81-460f-87ac-4b097e2cf9fd')}\n",
      "{'chunk': AIMessageChunk(content=' Game', additional_kwargs={}, response_metadata={}, id='run--4ef6f282-9b81-460f-87ac-4b097e2cf9fd')}\n",
      "{'chunk': AIMessageChunk(content=' ', additional_kwargs={}, response_metadata={}, id='run--4ef6f282-9b81-460f-87ac-4b097e2cf9fd')}\n",
      "{'chunk': AIMessageChunk(content='3', additional_kwargs={}, response_metadata={}, id='run--4ef6f282-9b81-460f-87ac-4b097e2cf9fd')}\n",
      "{'chunk': AIMessageChunk(content='.', additional_kwargs={}, response_metadata={}, id='run--4ef6f282-9b81-460f-87ac-4b097e2cf9fd')}\n",
      "{'chunk': AIMessageChunk(content=' Fans', additional_kwargs={}, response_metadata={}, id='run--4ef6f282-9b81-460f-87ac-4b097e2cf9fd')}\n",
      "{'chunk': AIMessageChunk(content=' will', additional_kwargs={}, response_metadata={}, id='run--4ef6f282-9b81-460f-87ac-4b097e2cf9fd')}\n",
      "{'chunk': AIMessageChunk(content=' have', additional_kwargs={}, response_metadata={}, id='run--4ef6f282-9b81-460f-87ac-4b097e2cf9fd')}\n",
      "{'chunk': AIMessageChunk(content=' to', additional_kwargs={}, response_metadata={}, id='run--4ef6f282-9b81-460f-87ac-4b097e2cf9fd')}\n",
      "{'chunk': AIMessageChunk(content=' wait', additional_kwargs={}, response_metadata={}, id='run--4ef6f282-9b81-460f-87ac-4b097e2cf9fd')}\n",
      "{'chunk': AIMessageChunk(content=' for', additional_kwargs={}, response_metadata={}, id='run--4ef6f282-9b81-460f-87ac-4b097e2cf9fd')}\n",
      "{'chunk': AIMessageChunk(content=' any', additional_kwargs={}, response_metadata={}, id='run--4ef6f282-9b81-460f-87ac-4b097e2cf9fd')}\n",
      "{'chunk': AIMessageChunk(content=' updates', additional_kwargs={}, response_metadata={}, id='run--4ef6f282-9b81-460f-87ac-4b097e2cf9fd')}\n",
      "{'chunk': AIMessageChunk(content=' or', additional_kwargs={}, response_metadata={}, id='run--4ef6f282-9b81-460f-87ac-4b097e2cf9fd')}\n",
      "{'chunk': AIMessageChunk(content=' announcements', additional_kwargs={}, response_metadata={}, id='run--4ef6f282-9b81-460f-87ac-4b097e2cf9fd')}\n",
      "{'chunk': AIMessageChunk(content=' from', additional_kwargs={}, response_metadata={}, id='run--4ef6f282-9b81-460f-87ac-4b097e2cf9fd')}\n",
      "{'chunk': AIMessageChunk(content=' the', additional_kwargs={}, response_metadata={}, id='run--4ef6f282-9b81-460f-87ac-4b097e2cf9fd')}\n",
      "{'chunk': AIMessageChunk(content=' show', additional_kwargs={}, response_metadata={}, id='run--4ef6f282-9b81-460f-87ac-4b097e2cf9fd')}\n",
      "{'chunk': AIMessageChunk(content=\"'s\", additional_kwargs={}, response_metadata={}, id='run--4ef6f282-9b81-460f-87ac-4b097e2cf9fd')}\n",
      "{'chunk': AIMessageChunk(content=' creators', additional_kwargs={}, response_metadata={}, id='run--4ef6f282-9b81-460f-87ac-4b097e2cf9fd')}\n",
      "{'chunk': AIMessageChunk(content=' and', additional_kwargs={}, response_metadata={}, id='run--4ef6f282-9b81-460f-87ac-4b097e2cf9fd')}\n",
      "{'chunk': AIMessageChunk(content=' Netflix', additional_kwargs={}, response_metadata={}, id='run--4ef6f282-9b81-460f-87ac-4b097e2cf9fd')}\n",
      "{'chunk': AIMessageChunk(content='.', additional_kwargs={}, response_metadata={}, id='run--4ef6f282-9b81-460f-87ac-4b097e2cf9fd')}\n",
      "{'chunk': AIMessageChunk(content='', additional_kwargs={}, response_metadata={'finish_reason': 'stop', 'model_name': 'gpt-3.5-turbo-0125', 'service_tier': 'default'}, id='run--4ef6f282-9b81-460f-87ac-4b097e2cf9fd')}\n"
     ]
    }
   ],
   "source": [
    "streaming_node = 'call_model'\n",
    "config = {\"configurable\": {\"thread_id\": \"4\"}}\n",
    "\n",
    "async for event in graph.astream_events({\"messages\": [HumanMessage(content = \"Tell me about Squid Game 3\")]}, config, version = \"v2\"):\n",
    "    if event[\"event\"] == \"on_chat_model_stream\" and event['metadata'].get('langgraph_node','') == streaming_node:\n",
    "        print(event[\"data\"])"
   ]
  },
  {
   "cell_type": "code",
   "execution_count": 22,
   "id": "aa043b0f",
   "metadata": {},
   "outputs": [
    {
     "name": "stdout",
     "output_type": "stream",
     "text": [
      " - I - 'm -  sorry -  for -  the -  confusion -  in -  my -  previous -  response - . -  As -  of -  now - , -  there -  is -  no -  official -  information -  or -  confirmation -  about -  a -  third -  season -  of -  Squ - id -  Game - . -  The -  show - 's -  creator - , -  H - wang -  Dong - -h - y - uk - , -  has -  not -  announced -  any -  plans -  for -  a -  third -  season - , -  and -  Netflix -  has -  not -  confirmed -  the -  renewal -  of -  the -  series - .\n",
      "\n",
      " - The -  first -  season -  of -  Squ - id -  Game -  was -  a -  massive -  success - , -  becoming -  one -  of -  the -  most - -w - atched -  shows -  on -  Netflix -  and -  gaining -  a -  huge -  international -  following - . -  Given -  the -  popularity -  of -  the -  show - , -  it -  is -  possible -  that -  Netflix -  may -  consider -  renew - ing -  it -  for -  a -  third -  season -  in -  the -  future - . -  However - , -  at -  this -  time - , -  there -  is -  no -  concrete -  information -  available -  about -  Squ - id -  Game -   - 3 - .\n",
      "\n",
      " - Fans -  will -  have -  to -  wait -  for -  any -  updates -  or -  announcements -  from -  the -  creators -  and -  Netflix -  regarding -  the -  future -  of -  the -  series - . -  In -  the -  meantime - , -  viewers -  can -  enjoy -  re - watch - ing -  the -  first -  two -  seasons -  of -  Squ - id -  Game -  and -  spec - ulating -  about -  what -  may -  happen -  next -  in -  the -  story - . -  - "
     ]
    }
   ],
   "source": [
    "config = {\"configurable\": {\"thread_id\": \"5\"}}\n",
    "\n",
    "async for event in graph.astream_events({\"messages\": [HumanMessage(content = \"Tell me about Squid Game 3\")]}, config, version = \"v2\"):\n",
    "    if event[\"event\"] == \"on_chat_model_stream\" and event['metadata'].get('langgraph_node','') == node_to_stream:\n",
    "        data = event[\"data\"]\n",
    "        print(data[\"chunk\"].content, end = \" - \")"
   ]
  },
  {
   "cell_type": "markdown",
   "id": "32e68eaf",
   "metadata": {},
   "source": [
    "## **Breakpoints**"
   ]
  },
  {
   "cell_type": "code",
   "execution_count": null,
   "id": "d4b00e0f",
   "metadata": {},
   "outputs": [],
   "source": [
    "import warnings\n",
    "warnings.filterwarnings(\"ignore\")\n",
    "\n",
    "from typing import TypedDict\n",
    "from langgraph.graph import StateGraph, END\n",
    "from langgraph.checkpoint.memory import  MemorySaver\n",
    "from IPython.display import display, Image"
   ]
  },
  {
   "cell_type": "code",
   "execution_count": 49,
   "id": "c9ef5afd",
   "metadata": {},
   "outputs": [
    {
     "data": {
      "image/png": "[encoded data removed]",
      "text/plain": [
       "<IPython.core.display.Image object>"
      ]
     },
     "metadata": {},
     "output_type": "display_data"
    }
   ],
   "source": [
    "class State(TypedDict):\n",
    "    messages: str\n",
    "\n",
    "\n",
    "def node(state):\n",
    "    return {'messages': state['messages'] + ' am testing breakpoint.'}\n",
    "\n",
    "\n",
    "builder = StateGraph(State)\n",
    "builder.add_node(node)\n",
    "\n",
    "builder.set_entry_point(\"node\")\n",
    "builder.add_edge(\"node\", END)\n",
    "\n",
    "\n",
    "memory = MemorySaver()\n",
    "graph = builder.compile(interrupt_before = [\"node\"], checkpointer = memory)\n",
    "display(Image(graph.get_graph().draw_mermaid_png()))"
   ]
  },
  {
   "cell_type": "code",
   "execution_count": 44,
   "id": "45a84cd7",
   "metadata": {},
   "outputs": [
    {
     "name": "stdout",
     "output_type": "stream",
     "text": [
      "{'messages': 'I'}\n"
     ]
    }
   ],
   "source": [
    "config = {\"configurable\": {\"thread_id\": \"1\"}}\n",
    "for event in graph.stream({\"messages\": \"I\"}, config, stream_mode = \"values\"):\n",
    "    print (event)"
   ]
  },
  {
   "cell_type": "code",
   "execution_count": 45,
   "id": "5343fd9a",
   "metadata": {},
   "outputs": [
    {
     "data": {
      "text/plain": [
       "StateSnapshot(values={'messages': 'I'}, next=('node',), config={'configurable': {'thread_id': '1', 'checkpoint_ns': '', 'checkpoint_id': '1f058a4b-9952-689f-8002-125f894f52be'}}, metadata={'source': 'loop', 'writes': None, 'step': 2, 'parents': {}, 'thread_id': '1'}, created_at='2025-07-04T07:01:35.991799+00:00', parent_config={'configurable': {'thread_id': '1', 'checkpoint_ns': '', 'checkpoint_id': '1f058a4b-994e-616d-8001-9bb5d8be4f91'}}, tasks=(PregelTask(id='15c3c7ca-b0fb-3b75-dc48-00ff900ef848', name='node', path=('__pregel_pull', 'node'), error=None, interrupts=(), state=None, result=None),), interrupts=())"
      ]
     },
     "execution_count": 45,
     "metadata": {},
     "output_type": "execute_result"
    }
   ],
   "source": [
    "graph.get_state(config)"
   ]
  },
  {
   "cell_type": "code",
   "execution_count": 50,
   "id": "29a7dfe3",
   "metadata": {},
   "outputs": [
    {
     "data": {
      "text/plain": [
       "{'configurable': {'thread_id': '1',\n",
       "  'checkpoint_ns': '',\n",
       "  'checkpoint_id': '1f058a67-9da8-6c9d-8000-fe559ff074b9'}}"
      ]
     },
     "execution_count": 50,
     "metadata": {},
     "output_type": "execute_result"
    }
   ],
   "source": [
    "graph.update_state(\n",
    "    config,\n",
    "    {\"messages\": \"Oh, I just update it!. I\"}\n",
    ")"
   ]
  },
  {
   "cell_type": "code",
   "execution_count": 51,
   "id": "80482bb1",
   "metadata": {},
   "outputs": [
    {
     "name": "stdout",
     "output_type": "stream",
     "text": [
      "{'messages': 'Oh, I just update it!. I'}\n",
      "{'messages': 'Oh, I just update it!. I am testing breakpoint.'}\n"
     ]
    }
   ],
   "source": [
    "for event in graph.stream(None, config, stream_mode = \"values\"):\n",
    "    print (event)"
   ]
  },
  {
   "cell_type": "markdown",
   "id": "5840eec0",
   "metadata": {},
   "source": [
    "## **Dynamic breakpoints**"
   ]
  },
  {
   "cell_type": "code",
   "execution_count": 57,
   "id": "ed235560",
   "metadata": {},
   "outputs": [],
   "source": [
    "import warnings\n",
    "warnings.filterwarnings(\"ignore\")\n",
    "\n",
    "from typing import TypedDict\n",
    "from langgraph.errors import NodeInterrupt\n",
    "from langgraph.graph import StateGraph, END\n",
    "from langgraph.checkpoint.memory import  MemorySaver\n",
    "from IPython.display import display, Image"
   ]
  },
  {
   "cell_type": "code",
   "execution_count": 70,
   "id": "d25c3554",
   "metadata": {},
   "outputs": [
    {
     "data": {
      "image/png": "[encoded data removed]",
      "text/plain": [
       "<IPython.core.display.Image object>"
      ]
     },
     "metadata": {},
     "output_type": "display_data"
    }
   ],
   "source": [
    "class State(TypedDict):\n",
    "    messages: str\n",
    "\n",
    "\n",
    "def node(state):\n",
    "    if (len(state[\"messages\"]) > 1):\n",
    "        raise NodeInterrupt(f\"Received messages that has more than 1 character: {state['messages']}\")\n",
    "    return {'messages': state['messages'] + ' am testing dynamic breakpoint.'}\n",
    "\n",
    "\n",
    "builder = StateGraph(State)\n",
    "builder.add_node(node)\n",
    "\n",
    "builder.set_entry_point(\"node\")\n",
    "builder.add_edge(\"node\", END)\n",
    "\n",
    "\n",
    "memory = MemorySaver()\n",
    "graph = builder.compile(checkpointer = memory)\n",
    "display(Image(graph.get_graph().draw_mermaid_png()))"
   ]
  },
  {
   "cell_type": "code",
   "execution_count": 71,
   "id": "8a509234",
   "metadata": {},
   "outputs": [
    {
     "name": "stdout",
     "output_type": "stream",
     "text": [
      "{'messages': 'Hello my future me. I..'}\n",
      "{'__interrupt__': (Interrupt(value='Received messages that has more than 1 character: Hello my future me. I..', resumable=False, ns=None),)}\n"
     ]
    }
   ],
   "source": [
    "config = {\"configurable\": {\"thread_id\": \"1\"}}\n",
    "for event in graph.stream({'messages': \"Hello my future me. I..\"}, config, stream_mode = \"values\"):\n",
    "    print (event)"
   ]
  },
  {
   "cell_type": "code",
   "execution_count": 72,
   "id": "f54e8956",
   "metadata": {},
   "outputs": [
    {
     "name": "stdout",
     "output_type": "stream",
     "text": [
      "StateSnapshot(values={'messages': 'Hello my future me. I..'}, next=('node',), config={'configurable': {'thread_id': '1', 'checkpoint_ns': '', 'checkpoint_id': '1f058a8a-6d76-6cfa-8000-d8d8c7671838'}}, metadata={'source': 'loop', 'writes': None, 'step': 0, 'parents': {}, 'thread_id': '1'}, created_at='2025-07-04T07:29:42.537138+00:00', parent_config={'configurable': {'thread_id': '1', 'checkpoint_ns': '', 'checkpoint_id': '1f058a8a-6d74-65f1-bfff-f40218220c89'}}, tasks=(PregelTask(id='f5792a81-d6fb-9a38-3a30-969c47f61acf', name='node', path=('__pregel_pull', 'node'), error=None, interrupts=(Interrupt(value='Received messages that has more than 1 character: Hello my future me. I..', resumable=False, ns=None),), state=None, result=None),), interrupts=(Interrupt(value='Received messages that has more than 1 character: Hello my future me. I..', resumable=False, ns=None),)) \n",
      "\n",
      "\n",
      "{'messages': 'I..'}\n",
      "{'__interrupt__': (Interrupt(value='Received messages that has more than 1 character: I..', resumable=False, ns=None),)}\n"
     ]
    }
   ],
   "source": [
    "print(graph.get_state(config), '\\n' * 2)\n",
    "graph.update_state(\n",
    "    config,\n",
    "    {\"messages\": \"I..\"}\n",
    ")\n",
    "\n",
    "config = {\"configurable\": {\"thread_id\": \"1\"}}\n",
    "for event in graph.stream(None, config, stream_mode = \"values\"):\n",
    "    print (event)"
   ]
  },
  {
   "cell_type": "code",
   "execution_count": 73,
   "id": "c35fbf44",
   "metadata": {},
   "outputs": [
    {
     "name": "stdout",
     "output_type": "stream",
     "text": [
      "('node',) \n",
      "\n",
      "\n",
      "{'messages': 'I'}\n",
      "{'messages': 'I am testing dynamic breakpoint.'}\n"
     ]
    }
   ],
   "source": [
    "print(graph.get_state(config).next, '\\n' * 2)\n",
    "graph.update_state(\n",
    "    config,\n",
    "    {\"messages\": \"I\"}\n",
    ")\n",
    "\n",
    "config = {\"configurable\": {\"thread_id\": \"1\"}}\n",
    "for event in graph.stream(None, config, stream_mode = \"values\"):\n",
    "    print (event)"
   ]
  },
  {
   "cell_type": "markdown",
   "id": "be7b6dea",
   "metadata": {},
   "source": [
    "## **Time travel**"
   ]
  },
  {
   "cell_type": "code",
   "execution_count": 97,
   "id": "83b89823",
   "metadata": {},
   "outputs": [],
   "source": [
    "import warnings\n",
    "warnings.filterwarnings(\"ignore\")\n",
    "\n",
    "from typing import TypedDict\n",
    "from langgraph.graph import StateGraph, END\n",
    "from langgraph.checkpoint.memory import  MemorySaver\n",
    "from IPython.display import display, Image"
   ]
  },
  {
   "cell_type": "code",
   "execution_count": 98,
   "id": "97ec2c29",
   "metadata": {},
   "outputs": [
    {
     "data": {
      "image/png": "[encoded data removed]",
      "text/plain": [
       "<IPython.core.display.Image object>"
      ]
     },
     "metadata": {},
     "output_type": "display_data"
    }
   ],
   "source": [
    "class State(TypedDict):\n",
    "    messages: str\n",
    "\n",
    "\n",
    "def node(state):\n",
    "    return {'messages': state['messages'] + ' am testing dynamic timetravel.'}\n",
    "\n",
    "\n",
    "builder = StateGraph(State)\n",
    "builder.add_node(node)\n",
    "\n",
    "builder.set_entry_point(\"node\")\n",
    "builder.add_edge(\"node\", END)\n",
    "\n",
    "\n",
    "memory = MemorySaver()\n",
    "graph = builder.compile(checkpointer = memory)\n",
    "display(Image(graph.get_graph().draw_mermaid_png()))"
   ]
  },
  {
   "cell_type": "code",
   "execution_count": 99,
   "id": "ade495dc",
   "metadata": {},
   "outputs": [
    {
     "name": "stdout",
     "output_type": "stream",
     "text": [
      "{'messages': 'I..'}\n",
      "{'messages': 'I.. am testing dynamic timetravel.'}\n"
     ]
    }
   ],
   "source": [
    "config = {\"configurable\": {\"thread_id\": \"1\"}}\n",
    "for event in graph.stream({\"messages\": \"I..\"}, config, stream_mode = \"values\"):\n",
    "    print (event)"
   ]
  },
  {
   "cell_type": "code",
   "execution_count": 100,
   "id": "642ff92e",
   "metadata": {},
   "outputs": [
    {
     "data": {
      "text/plain": [
       "StateSnapshot(values={'messages': 'I.. am testing dynamic timetravel.'}, next=(), config={'configurable': {'thread_id': '1', 'checkpoint_ns': '', 'checkpoint_id': '1f058acd-2950-6ecd-8001-270e975982b9'}}, metadata={'source': 'loop', 'writes': {'node': {'messages': 'I.. am testing dynamic timetravel.'}}, 'step': 1, 'parents': {}, 'thread_id': '1'}, created_at='2025-07-04T07:59:33.908858+00:00', parent_config={'configurable': {'thread_id': '1', 'checkpoint_ns': '', 'checkpoint_id': '1f058acd-294c-60bf-8000-87c28dcd1c04'}}, tasks=(), interrupts=())"
      ]
     },
     "execution_count": 100,
     "metadata": {},
     "output_type": "execute_result"
    }
   ],
   "source": [
    "graph.get_state(config)"
   ]
  },
  {
   "cell_type": "markdown",
   "id": "d37baf00",
   "metadata": {},
   "source": [
    "### **Brownsing History**"
   ]
  },
  {
   "cell_type": "code",
   "execution_count": 101,
   "id": "d0d855df",
   "metadata": {},
   "outputs": [
    {
     "data": {
      "text/plain": [
       "3"
      ]
     },
     "execution_count": 101,
     "metadata": {},
     "output_type": "execute_result"
    }
   ],
   "source": [
    "allState = [s for s in graph.get_state_history(config)]\n",
    "len(allState)"
   ]
  },
  {
   "cell_type": "markdown",
   "id": "64b13add",
   "metadata": {},
   "source": [
    "### **Replaying**\n",
    "![fig2.jpg](https://cdn.prod.website-files.com/65b8cd72835ceeacd4449a53/66dbb038a0bd34b541c78fb8_time-travel2.png)"
   ]
  },
  {
   "cell_type": "code",
   "execution_count": 102,
   "id": "b25caf9e",
   "metadata": {},
   "outputs": [
    {
     "data": {
      "text/plain": [
       "StateSnapshot(values={'messages': 'I..'}, next=('node',), config={'configurable': {'thread_id': '1', 'checkpoint_ns': '', 'checkpoint_id': '1f058acd-294c-60bf-8000-87c28dcd1c04'}}, metadata={'source': 'loop', 'writes': None, 'step': 0, 'parents': {}, 'thread_id': '1'}, created_at='2025-07-04T07:59:33.906860+00:00', parent_config={'configurable': {'thread_id': '1', 'checkpoint_ns': '', 'checkpoint_id': '1f058acd-2949-69a2-bfff-e02f6a585b85'}}, tasks=(PregelTask(id='b4984048-5660-22ad-986c-cf6e033e92bd', name='node', path=('__pregel_pull', 'node'), error=None, interrupts=(), state=None, result={'messages': 'I.. am testing dynamic timetravel.'}),), interrupts=())"
      ]
     },
     "execution_count": 102,
     "metadata": {},
     "output_type": "execute_result"
    }
   ],
   "source": [
    "to_replay = allState[-2]\n",
    "to_replay"
   ]
  },
  {
   "cell_type": "code",
   "execution_count": 103,
   "id": "29691fad",
   "metadata": {},
   "outputs": [
    {
     "name": "stdout",
     "output_type": "stream",
     "text": [
      "{'messages': 'I..'}\n",
      "{'messages': 'I.. am testing dynamic timetravel.'}\n"
     ]
    }
   ],
   "source": [
    "for event in graph.stream(None, to_replay.config, stream_mode = \"values\"):\n",
    "    print (event)"
   ]
  },
  {
   "cell_type": "markdown",
   "id": "3ae08667",
   "metadata": {},
   "source": [
    "### **Forking**\n",
    "Forking is to run from that same step, but with a different input.\n",
    "\n",
    "![fig3.jpg](https://cdn.prod.website-files.com/65b8cd72835ceeacd4449a53/66dbb038f89f2d847ee5c336_time-travel3.png)"
   ]
  },
  {
   "cell_type": "code",
   "execution_count": 104,
   "id": "cf05c66f",
   "metadata": {},
   "outputs": [],
   "source": [
    "to_fork = allState[-2]\n",
    "fork_config = graph.update_state(\n",
    "    to_fork.config,\n",
    "    {\"messages\": 'Hello my future me. I..'},\n",
    ")\n",
    "\n",
    "# In case of AnyMessage:\n",
    "# [HumanMessage(content = 'Hello my future me. I..',\n",
    "#               id = to_fork.values[\"messages\"][0].id)]"
   ]
  },
  {
   "cell_type": "code",
   "execution_count": 105,
   "id": "2b5d4bd6",
   "metadata": {},
   "outputs": [
    {
     "data": {
      "text/plain": [
       "StateSnapshot(values={'messages': 'Hello my future me. I..'}, next=('node',), config={'configurable': {'thread_id': '1', 'checkpoint_ns': '', 'checkpoint_id': '1f058acd-2aeb-6996-8001-18501e05cf24'}}, metadata={'source': 'update', 'writes': {'__start__': {'messages': 'Hello my future me. I..'}}, 'step': 1, 'parents': {}, 'thread_id': '1', 'checkpoint_ns': '', 'checkpoint_id': '1f058acd-294c-60bf-8000-87c28dcd1c04'}, created_at='2025-07-04T07:59:34.077071+00:00', parent_config={'configurable': {'thread_id': '1', 'checkpoint_ns': '', 'checkpoint_id': '1f058acd-294c-60bf-8000-87c28dcd1c04'}}, tasks=(PregelTask(id='f0302460-b8db-9c0d-7a0a-cb885c300e66', name='node', path=('__pregel_pull', 'node'), error=None, interrupts=(), state=None, result=None),), interrupts=())"
      ]
     },
     "execution_count": 105,
     "metadata": {},
     "output_type": "execute_result"
    }
   ],
   "source": [
    "allState = [s for s in graph.get_state_history(config) ]\n",
    "allState[0]"
   ]
  },
  {
   "cell_type": "code",
   "execution_count": null,
   "id": "39b98b1a",
   "metadata": {},
   "outputs": [
    {
     "data": {
      "text/plain": [
       "StateSnapshot(values={'messages': 'Hello my future me. I..'}, next=('node',), config={'configurable': {'thread_id': '1', 'checkpoint_ns': '', 'checkpoint_id': '1f058acd-2aeb-6996-8001-18501e05cf24'}}, metadata={'source': 'update', 'writes': {'__start__': {'messages': 'Hello my future me. I..'}}, 'step': 1, 'parents': {}, 'thread_id': '1', 'checkpoint_ns': '', 'checkpoint_id': '1f058acd-294c-60bf-8000-87c28dcd1c04'}, created_at='2025-07-04T07:59:34.077071+00:00', parent_config={'configurable': {'thread_id': '1', 'checkpoint_ns': '', 'checkpoint_id': '1f058acd-294c-60bf-8000-87c28dcd1c04'}}, tasks=(PregelTask(id='f0302460-b8db-9c0d-7a0a-cb885c300e66', name='node', path=('__pregel_pull', 'node'), error=None, interrupts=(), state=None, result=None),), interrupts=())"
      ]
     },
     "execution_count": 106,
     "metadata": {},
     "output_type": "execute_result"
    }
   ],
   "source": [
    "graph.get_state(config) # is reset"
   ]
  }
 ],
 "metadata": {
  "kernelspec": {
   "display_name": "Python 3",
   "language": "python",
   "name": "python3"
  },
  "language_info": {
   "codemirror_mode": {
    "name": "ipython",
    "version": 3
   },
   "file_extension": ".py",
   "mimetype": "text/x-python",
   "name": "python",
   "nbconvert_exporter": "python",
   "pygments_lexer": "ipython3",
   "version": "3.10.0"
  }
 },
 "nbformat": 4,
 "nbformat_minor": 5
}
