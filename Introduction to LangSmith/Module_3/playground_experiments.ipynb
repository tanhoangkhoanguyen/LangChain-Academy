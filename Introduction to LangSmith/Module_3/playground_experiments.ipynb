{
 "cells": [
  {
   "cell_type": "markdown",
   "id": "803ecea6",
   "metadata": {},
   "source": [
    "## **Run Experiments in Playground**"
   ]
  },
  {
   "cell_type": "code",
   "execution_count": 1,
   "id": "70a02619",
   "metadata": {},
   "outputs": [],
   "source": [
    "from dotenv import load_dotenv, find_dotenv\n",
    "\n",
    "_ = load_dotenv(find_dotenv())"
   ]
  },
  {
   "cell_type": "markdown",
   "id": "1904deab",
   "metadata": {},
   "source": [
    "### **Create a dataset**"
   ]
  },
  {
   "cell_type": "code",
   "execution_count": null,
   "id": "96294f2f",
   "metadata": {},
   "outputs": [
    {
     "data": {
      "text/plain": [
       "{'example_ids': ['cbdcbe5d-2bd7-4204-aaa5-17dde0168f02',\n",
       "  '1d7175fc-9940-40b2-a12b-1739f48572ec',\n",
       "  'c0bcec94-0bdc-40be-985a-6aca8c8cb104'],\n",
       " 'count': 3}"
      ]
     },
     "execution_count": 2,
     "metadata": {},
     "output_type": "execute_result"
    }
   ],
   "source": [
    "from langsmith import Client\n",
    "\n",
    "example_inputs = [\n",
    "(\"What color is the sky?\", \"The sky is blue\"),\n",
    "(\"What color is grass?\", \"Grass is green\"),\n",
    "(\"What color is dirt?\", \"Dirt is brown\"),\n",
    "]\n",
    "\n",
    "client = Client()\n",
    "dataset_name = \"Sample Questions\"\n",
    "\n",
    "dataset = client.create_dataset(\n",
    "  dataset_nam = dataset_name, description=\"Sample questions about color\",\n",
    ")\n",
    "\n",
    "inputs = [{\"question\": input_prompt} for input_prompt, _ in example_inputs]\n",
    "outputs = [{\"output\": output_answer} for _, output_answer in example_inputs]\n",
    "\n",
    "client.create_examples(\n",
    "  inputs = inputs,\n",
    "  outputs = outputs,\n",
    "  dataset_id = dataset.id,\n",
    ")"
   ]
  }
 ],
 "metadata": {
  "kernelspec": {
   "display_name": "Python 3",
   "language": "python",
   "name": "python3"
  },
  "language_info": {
   "codemirror_mode": {
    "name": "ipython",
    "version": 3
   },
   "file_extension": ".py",
   "mimetype": "text/x-python",
   "name": "python",
   "nbconvert_exporter": "python",
   "pygments_lexer": "ipython3",
   "version": "3.10.0"
  }
 },
 "nbformat": 4,
 "nbformat_minor": 5
}
