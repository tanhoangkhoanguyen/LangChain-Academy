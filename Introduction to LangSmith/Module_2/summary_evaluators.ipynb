{
 "cells": [
  {
   "cell_type": "markdown",
   "id": "9e9114a1",
   "metadata": {},
   "source": [
    "## **Summary Evaluators**"
   ]
  },
  {
   "cell_type": "code",
   "execution_count": null,
   "id": "f80a7d83",
   "metadata": {},
   "outputs": [],
   "source": [
    "from dotenv import load_dotenv, find_dotenv\n",
    "\n",
    "_ = load_dotenv(find_dotenv())"
   ]
  },
  {
   "cell_type": "markdown",
   "id": "cdbbeb1e",
   "metadata": {},
   "source": [
    "### **Task**"
   ]
  }
 ],
 "metadata": {
  "kernelspec": {
   "display_name": "Python 3",
   "language": "python",
   "name": "python3"
  },
  "language_info": {
   "codemirror_mode": {
    "name": "ipython",
    "version": 3
   },
   "file_extension": ".py",
   "mimetype": "text/x-python",
   "name": "python",
   "nbconvert_exporter": "python",
   "pygments_lexer": "ipython3",
   "version": "3.10.0"
  }
 },
 "nbformat": 4,
 "nbformat_minor": 5
}
