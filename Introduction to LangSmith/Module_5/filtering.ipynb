{
 "cells": [
  {
   "cell_type": "markdown",
   "id": "be8bbcd5",
   "metadata": {},
   "source": [
    "## **Filtering**"
   ]
  },
  {
   "cell_type": "code",
   "execution_count": 2,
   "id": "f0ddc9c4",
   "metadata": {},
   "outputs": [],
   "source": [
    "from dotenv import load_dotenv, find_dotenv\n",
    "\n",
    "_ = load_dotenv(find_dotenv())"
   ]
  },
  {
   "cell_type": "markdown",
   "id": "9dc8a3b7",
   "metadata": {},
   "source": [
    "### **Using filters in the SDK**"
   ]
  }
 ],
 "metadata": {
  "kernelspec": {
   "display_name": "Python 3",
   "language": "python",
   "name": "python3"
  },
  "language_info": {
   "codemirror_mode": {
    "name": "ipython",
    "version": 3
   },
   "file_extension": ".py",
   "mimetype": "text/x-python",
   "name": "python",
   "nbconvert_exporter": "python",
   "pygments_lexer": "ipython3",
   "version": "3.10.0"
  }
 },
 "nbformat": 4,
 "nbformat_minor": 5
}
